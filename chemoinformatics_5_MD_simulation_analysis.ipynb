{
  "cells": [
    {
      "cell_type": "markdown",
      "metadata": {
        "id": "view-in-github",
        "colab_type": "text"
      },
      "source": [
        "<a href=\"https://colab.research.google.com/github/jakob-steuer/chemoinformatics_2025/blob/main/chemoinformatics_5_MD_simulation_analysis.ipynb\" target=\"_parent\"><img src=\"https://colab.research.google.com/assets/colab-badge.svg\" alt=\"Open In Colab\"/></a>"
      ]
    },
    {
      "cell_type": "markdown",
      "source": [
        "Created with Google Gemini v2.5 Pro"
      ],
      "metadata": {
        "id": "vzywWvBSwSQI"
      },
      "id": "vzywWvBSwSQI"
    },
    {
      "cell_type": "markdown",
      "id": "3741624a-06f5-45c4-a7cb-27644dafe127",
      "metadata": {
        "id": "3741624a-06f5-45c4-a7cb-27644dafe127"
      },
      "source": [
        "# Molecular Simulation Analysis"
      ]
    },
    {
      "cell_type": "markdown",
      "source": [
        "Please run the following two cells by clicking the 'Play' butten."
      ],
      "metadata": {
        "id": "7OaoDXeUv50k"
      },
      "id": "7OaoDXeUv50k"
    },
    {
      "cell_type": "code",
      "source": [
        "# Clone a repository from GitHub to access the simulation data\n",
        "!git clone https://github.com/jakob-steuer/FHNW-Summer-School-2025-MolSim-Analysis.git"
      ],
      "metadata": {
        "id": "SLBsLJfh37Vn"
      },
      "id": "SLBsLJfh37Vn",
      "execution_count": null,
      "outputs": []
    },
    {
      "cell_type": "code",
      "source": [
        "# Let's install the required python packages\n",
        "%pip install MDAnalysis matplotlib scikit-learn mdakit-sasa nglview==3.0.8"
      ],
      "metadata": {
        "collapsed": true,
        "id": "XQNfG_KITX7D"
      },
      "execution_count": null,
      "outputs": [],
      "id": "XQNfG_KITX7D"
    },
    {
      "cell_type": "markdown",
      "source": [
        "# Introduction to Molecular Simulation of RNA for Drug Discovery\n",
        "\n",
        "In this tutorial we will go through some basic steps toward the **analysis** of **molecular dynamics (MD)simulations** of an **RNA riboswitch**.\n",
        "In this exercise, you will have the opportunity to apply your knowledge of computational chemistry and bioinformatics to an interesting research problem in **drug discovery**."
      ],
      "metadata": {
        "id": "3Vyuva1jIm-f"
      },
      "id": "3Vyuva1jIm-f"
    },
    {
      "cell_type": "markdown",
      "source": [
        "<img src=\"https://www.mdpi.com/molecules/molecules-26-03384/article_deploy/html/images/molecules-26-03384-g002.png\" width=\"80%\">\n",
        "\n",
        "From: Berdnikova, D. V., Carloni, P., Krauß, S., & Rossetti, G. (2021). Role and Perspective of Molecular Simulation-Based Investigation of RNA–Ligand Interaction: From Small Molecules and Peptides to Photoswitchable RNA Binding. Molecules, 26(11), 3384. https://doi.org/10.3390/molecules26113384\n"
      ],
      "metadata": {
        "id": "uVdugZwBJBma"
      },
      "id": "uVdugZwBJBma"
    },
    {
      "cell_type": "markdown",
      "source": [
        "\n",
        "\n",
        "## Molecular Simulation in Drug Discovery\n",
        "\n",
        "**Molecular simulation** has become an indispensable tool in modern **drug discovery**.\n",
        "By computationally modeling the behavior of biological macromolecules and their interactions with potential drug molecules, we can gain insights into the **molecular basis of disease** and **design novel therapeutics**.\n",
        "\n",
        "Techniques such as molecular dynamics allow us to simulate the time-evolution of a system at the atomic level providing a **\"computational microscope\"** to observe processes that are often difficult to study experimentally.\n",
        "These simulations can be used to predict **binding affinities**, understand **mechanisms of action**, and identify new **binding sites**, thereby accelerating the drug development pipeline."
      ],
      "metadata": {
        "id": "YgP19X0xIvSy"
      },
      "id": "YgP19X0xIvSy"
    },
    {
      "cell_type": "markdown",
      "id": "4044b515-8e5e-4839-87e5-5a6c63187099",
      "metadata": {
        "id": "4044b515-8e5e-4839-87e5-5a6c63187099"
      },
      "source": [
        "## The Challenge and Promise of RNA Simulations\n",
        "\n",
        "While much of the focus in computational drug discovery has been on protein targets, **RNA** is emerging as a new frontier.\n",
        "\n",
        "RNA molecules play a wide range of crucial roles in the cell, from **carrying genetic information** to **catalyzing biochemical reactions**.\n",
        "However, simulating RNA presents unique challenges compared to proteins. The high charge density of the phosphate backbone, the flexibility of the sugar-phosphate backbone, and the complex, often non-canonical, tertiary structures of RNA make accurate and efficient simulation a difficult task.\n",
        "\n",
        "Despite these challenges, the increasing number of identified RNA drug targets makes the development of robust simulation protocols a **key area of research in medicinal chemistry**."
      ]
    },
    {
      "cell_type": "markdown",
      "id": "d93eae68-b0d4-44a7-91d3-f30efd416107",
      "metadata": {
        "id": "d93eae68-b0d4-44a7-91d3-f30efd416107"
      },
      "source": [
        "Accurate simulation models for RNA require a delicate balancing of underlying driving forces.\n",
        "\n",
        "<img src=\"https://wires.onlinelibrary.wiley.com/cms/asset/14c103e4-3020-4149-9872-086169b39849/wrna1396-toc-0001-m.jpg\" width=\"40%\">\n",
        "\n",
        "From: Vangaveti, S., Ranganathan, S. V., & Chen, A. A. (2016). Advances in RNA molecular dynamics: a simulator’s guide to RNA force fields. WIREs RNA, 8(2). https://doi.org/10.1002/wrna.1396"
      ]
    },
    {
      "cell_type": "markdown",
      "id": "20881717-96ce-4602-a0e4-5580f084418e",
      "metadata": {
        "id": "20881717-96ce-4602-a0e4-5580f084418e"
      },
      "source": [
        "## Riboswitches: RNA's Molecular Switches\n",
        "\n",
        "A fascinating class of RNA drug targets are **riboswitches**.\n",
        "These are regulatory regions found in messenger RNA (mRNA) that can directly bind to small molecules, or ligands, and in response, alter their three-dimensional structure.\n",
        "This conformational change, in turn, regulates the expression of the gene encoded by the mRNA.\n",
        "Because they are involved in the regulation of essential metabolic pathways in bacteria, riboswitches are attractive targets for the development of new antibiotics.\n",
        "\n",
        "In this exercise, we will focus on the **guanidine-II riboswitch**.\n",
        "This riboswitch, found in various bacteria, controls the expression of genes involved in guanidine detoxification.\n",
        "\n",
        "It functions as a dimer, with each monomeric aptamer domain capable of binding a single guanidine molecule.\n",
        "The binding of the ligand stabilizes a conformation that promotes gene expression.\n",
        "\n",
        "## The Exercise: Analyzing Ligand Binding Events\n",
        "\n",
        "You will be working with MD trajectories of the dimerized aptamer domains of the guanidine-II riboswitch in complex with a specially designed, **divalent guanidine ligand**.\n",
        "\n",
        "This ligand, with two guanidinium groups connected by a linker, was designed to bridge the two binding sites of the riboswitch dimer.\n",
        "\n",
        "The simulation data you will be analyzing is from the following publication:\n",
        "\n",
        "Steuer, J., Sinn, M., Eble, F., Rütschlin, S., Böttcher, T., Hartig, J. S., & Peter, C. (2024). Cooperative binding of bivalent ligands yields new insights into the guanidine-II riboswitch. NAR Genomics and Bioinformatics, 6(3). https://doi.org/10.1093/nargab/lqae132"
      ]
    },
    {
      "cell_type": "markdown",
      "id": "72b77069-2d33-450a-ace1-ee5c1d6d7a1d",
      "metadata": {
        "id": "72b77069-2d33-450a-ace1-ee5c1d6d7a1d"
      },
      "source": [
        "<img src=\"https://oup.silverchair-cdn.com/oup/backfile/Content_public/Journal/nargab/6/3/10.1093_nargab_lqae132/2/m_lqae132fig1.jpeg?Expires=1759496277&Signature=ENjfYKAkjNXeNVBsObC~8xpV7FdJ3hvNzxAX~Mu~yaq33ctRhCFidpSm5hND7RWSlST4ejOaBz72RZRB6-otiYVtc58rWc1MPI0Pyj90vSDULilWCOs00-unSFZOXkBoQTDV3fSeYfrUaA~yVeiFgHLXM646d6TLU5crFdc8xX28mfbGaFoEGV2fwHq0xdDp4fI3yGNlZ3cOId2KZYGVlwRCNsuOEUiUJrYTxyim-5fJZQB~yw8xwVoGL55cwL9eCKdOSlT4soAZ960nsFJ0i7VwzCxIXAg4Wk47g3YpsmjYK9KAw2JeEmMKDAFPAVsIhJS5vKDSg3BZl0~uibYVSA__&Key-Pair-Id=APKAIE5G5CRDK6RD3PGA\" width=\"80%\">"
      ]
    },
    {
      "cell_type": "markdown",
      "id": "cad4c191-8710-4c8a-b208-4e567751d5bb",
      "metadata": {
        "id": "cad4c191-8710-4c8a-b208-4e567751d5bb"
      },
      "source": [
        "Your task will be to analyze these trajectories to observe and characterize the ligand binding events.\n",
        "\n",
        "One of the key findings in the paper was the spontaneous binding of the divalent ligand to the second binding site, a rare event to capture in simulations.\n",
        "\n",
        "By analyzing these trajectories, you will gain hands-on experience in the analysis of MD simulations and contribute to our understanding of the molecular mechanism of this promising RNA drug target."
      ]
    },
    {
      "cell_type": "markdown",
      "id": "c92d0e4e-4abd-4fe5-aae5-cfb336da02c6",
      "metadata": {
        "id": "c92d0e4e-4abd-4fe5-aae5-cfb336da02c6"
      },
      "source": [
        "# Basic Simulation Analysis\n",
        "\n",
        "We will start by analyzing the first trajectory, where no ligand binding occurs, using some standard tools.\n",
        "\n",
        "Later we will include two more simulation trajectories with ligand binding in which ligand binding events occur."
      ]
    },
    {
      "cell_type": "markdown",
      "source": [
        "First we need to import some of the packages we are going to use throughout this tutorial."
      ],
      "metadata": {
        "id": "ofoP1QOOsb86"
      },
      "id": "ofoP1QOOsb86"
    },
    {
      "cell_type": "code",
      "execution_count": null,
      "metadata": {
        "id": "b814085f-3635-40f2-8986-a60a669afc4c"
      },
      "outputs": [],
      "source": [
        "# Let's import the required python packages\n",
        "import MDAnalysis as mda\n",
        "import matplotlib.pyplot as plt\n",
        "import numpy as np\n",
        "import nglview as nv\n",
        "import pandas as pd\n",
        "import os\n",
        "from tqdm.notebook import tqdm\n",
        "\n",
        "from google.colab import output\n",
        "output.enable_custom_widget_manager()"
      ],
      "id": "b814085f-3635-40f2-8986-a60a669afc4c"
    },
    {
      "cell_type": "markdown",
      "id": "bbf48805-b070-4835-82dc-8b411a11e495",
      "metadata": {
        "id": "bbf48805-b070-4835-82dc-8b411a11e495"
      },
      "source": [
        "## Open Simulation Data in the Notebook\n",
        "\n",
        "For this course, the published simulation data has already been processed to reduce the length and size of the simulation trajectories.\n",
        "This includes removing all solvent molecules from the simulations and focussing only on the trajectories close to the binding events.\n",
        "\n",
        "We will download them using the following code:"
      ]
    },
    {
      "cell_type": "code",
      "execution_count": null,
      "id": "ce2c4dbf-39dc-4839-bff6-203142870474",
      "metadata": {
        "id": "ce2c4dbf-39dc-4839-bff6-203142870474"
      },
      "outputs": [],
      "source": [
        "# Define the paths to your trajectory and topology files\n",
        "pdb_file = \"./FHNW-Summer-School-2025-MolSim-Analysis/data/structure.pdb\" # topology\n",
        "xtc_file_1 = \"./FHNW-Summer-School-2025-MolSim-Analysis/data/traj.simulation_1.0mus-4mus.dt1ns.xtc\" # trajectory 1\n",
        "xtc_file_2 = \"./FHNW-Summer-School-2025-MolSim-Analysis/data/traj.simulation_4.6mus-10mus.dt1ns.xtc\" # trajectory 2\n",
        "xtc_file_3 = \"./FHNW-Summer-School-2025-MolSim-Analysis/data/traj.simulation_7.3mus-7mus.dt1ns.xtc\" # trajectory 3\n",
        "\n",
        "# Load the trajectory using MDAnalysis\n",
        "print(\"Loading trajectory...\")\n",
        "# MDAnalysis stores simulation data in so-called universes\n",
        "universe_1 = mda.Universe(pdb_file, xtc_file_1)\n",
        "universe_2 = mda.Universe(pdb_file, xtc_file_2)\n",
        "universe_3 = mda.Universe(pdb_file, xtc_file_3)\n",
        "\n",
        "universes = [universe_1, universe_2, universe_3]\n",
        "sim_names = ['Simulation 1', 'Simulation 4', 'Simulation 7']\n",
        "\n",
        "print(\"Trajectories loaded successfully!\")\n",
        "print(universe_1)"
      ]
    },
    {
      "cell_type": "markdown",
      "id": "8973653e-4125-4c5f-aef8-51b012604da4",
      "metadata": {
        "id": "8973653e-4125-4c5f-aef8-51b012604da4"
      },
      "source": [
        "## Visualize the RNA Structure"
      ]
    },
    {
      "cell_type": "markdown",
      "id": "57134c58-e0a1-470b-a8bb-987ffc9035c7",
      "metadata": {
        "id": "57134c58-e0a1-470b-a8bb-987ffc9035c7"
      },
      "source": [
        "We will use nglview, a simple visualization tool that allows you to inspect the molecular system you are working on from inside the notebook on the fly.\n",
        "\n",
        "For more complex visualization tasks it is highly recommended to use a dedicated molecular viewer, sauch as ChimeraX, VMD, PyMOL or the SAMSON software you know from Wednesday."
      ]
    },
    {
      "cell_type": "code",
      "source": [
        "# Create the NGLview widget from the MDAnalysis Universe\n",
        "view = nv.show_mdanalysis(universe_1)\n",
        "view.layout.width = '800px'\n",
        "view.layout.height = '600px'\n",
        "\n",
        "view.clear_representations()\n",
        "\n",
        "view.add_representation('ball+stick', selection='nucleic', color='grey',\n",
        "                        aspect_ratio=1.5, name='Ligand')\n",
        "\n",
        "view.center('resname BGD')\n",
        "view.background = 'white'\n",
        "\n",
        "view"
      ],
      "metadata": {
        "id": "Ozf9DqOAB0dg"
      },
      "id": "Ozf9DqOAB0dg",
      "execution_count": null,
      "outputs": []
    },
    {
      "cell_type": "markdown",
      "id": "8117b0a6-0404-44f1-af0f-6f91b06d7602",
      "metadata": {
        "id": "8117b0a6-0404-44f1-af0f-6f91b06d7602"
      },
      "source": [
        "## Root Mean Square Deviation (RMSD)\n",
        "\n",
        "The **RMSD** measures the average distance between the atoms of a structure at a given timepoint and a reference structure.\n",
        "It's the go-to metric for assessing the structural stability of a simulation.\n",
        "\n",
        "- A low and stable RMSD (i.e., it plateaus) suggests the molecule has reached equilibrium and is not undergoing major conformational changes.\n",
        "\n",
        "- A continuously increasing or wildly fluctuating RMSD indicates significant structural changes, instability, or that the system has not yet equilibrated."
      ]
    },
    {
      "cell_type": "code",
      "execution_count": null,
      "id": "6181b903-e5a1-48f3-87bb-e9fc0cfbc71b",
      "metadata": {
        "id": "6181b903-e5a1-48f3-87bb-e9fc0cfbc71b"
      },
      "outputs": [],
      "source": [
        "from MDAnalysis.analysis import align, rms\n",
        "# Select the atoms for the RMSD calculation (e.g., RNA)\n",
        "# For proteins, you would typically use 'protein and name CA'\n",
        "selection_string = 'nucleic'\n",
        "nucleic_atoms = universe_1.select_atoms(selection_string)\n",
        "\n",
        "# Align the trajectory to the first frame (the reference)\n",
        "print(\"\\nAligning trajectory...\")\n",
        "alignment = align.AlignTraj(universe_1,\n",
        "                            universe_1,\n",
        "                            select=selection_string,\n",
        "                            in_memory=True).run(verbose=True)\n",
        "print(\"Alignment complete.\")\n",
        "\n",
        "print(\"Calculating RMSD...\")\n",
        "R = rms.RMSD(nucleic_atoms,\n",
        "             nucleic_atoms,\n",
        "             select=selection_string)\n",
        "R.run(verbose=True)\n",
        "print(\"RMSD calculation complete.\")\n",
        "\n",
        "rmsd_values = R.results.rmsd[:, 2]"
      ]
    },
    {
      "cell_type": "code",
      "execution_count": null,
      "id": "963b62cf-05cf-46f2-8323-6a34f841949e",
      "metadata": {
        "id": "963b62cf-05cf-46f2-8323-6a34f841949e"
      },
      "outputs": [],
      "source": [
        "# Plot the RMSD using the matplotlib package\n",
        "time_ns = np.arange(4001)\n",
        "\n",
        "plt.figure(figsize=(10, 6))\n",
        "plt.plot(time_ns, rmsd_values, lw=2, label='RMSD')\n",
        "\n",
        "window_size = 100\n",
        "running_avg = np.convolve(rmsd_values, np.ones(window_size)/window_size, mode='valid')\n",
        "plt.plot(time_ns[window_size-1:], running_avg, lw=2.5, color='red', label=f'Running Avg (window={window_size})')\n",
        "\n",
        "plt.title('RMSD of RNA vs. Time')\n",
        "plt.xlabel('Time (ns)')\n",
        "plt.ylabel('RMSD (nm)')\n",
        "plt.legend(loc='lower right')\n",
        "plt.grid(True)\n",
        "plt.show()"
      ]
    },
    {
      "cell_type": "markdown",
      "source": [
        "### Exercise 1\n",
        "\n",
        "**Calculate Visualize the RMSD of the Second Simulation Trajectory**\n",
        "\n",
        "#### 🔍 Solution (Hidden - Expand to see the answer)\n",
        "\n",
        "<details>\n",
        "<summary>Click here to see the solution after you've tried exploring the functions</summary>\n",
        "\n",
        "\n",
        "**Calculate Visualize the RMSD of the Second Simulation Trajectory:**\n",
        "\n",
        "```from MDAnalysis.analysis import align, rms\n",
        "# Select the atoms for the RMSD calculation (e.g., RNA)\n",
        "# For proteins, you would typically use 'protein and name CA'\n",
        "selection_string = 'nucleic'\n",
        "nucleic_atoms = universe_1.select_atoms(selection_string)\n",
        "\n",
        "# Align the trajectory to the first frame (the reference)\n",
        "print(\"\\nAligning trajectory...\")\n",
        "alignment = align.AlignTraj(universe_2,\n",
        "                            universe_2,\n",
        "                            select=selection_string,\n",
        "                            in_memory=True).run(verbose=True)\n",
        "print(\"Alignment complete.\")\n",
        "\n",
        "# Calculate RMSD against the current frame (0) of the reference\n",
        "print(\"Calculating RMSD...\")\n",
        "R = rms.RMSD(nucleic_atoms,\n",
        "             nucleic_atoms,\n",
        "             select=selection_string)\n",
        "R.run(verbose=True)\n",
        "print(\"RMSD calculation complete.\")\n",
        "\n",
        "rmsd_values = R.results.rmsd[:, 2]\n",
        "\n",
        "# Plot the RMSD using the matplotlib package\n",
        "time_ns = np.arange(4001)\n",
        "\n",
        "window_size = 100\n",
        "running_avg = np.convolve(rmsd_values, np.ones(window_size)/window_size, mode='valid')\n",
        "\n",
        "plt.figure(figsize=(10, 6))\n",
        "plt.plot(time_ns, rmsd_values, lw=2)\n",
        "\n",
        "plt.plot(time_ns[window_size-1:], running_avg, lw=2.5, color='red', label=f'Running Avg (window={window_size})')\n",
        "\n",
        "\n",
        "plt.title('RMSD of RNA vs. Time')\n",
        "plt.xlabel('Time (ns)')\n",
        "plt.ylabel('RMSD (nm)')\n",
        "plt.legend(loc='lower right')\n",
        "plt.grid(True)\n",
        "plt.show()\n",
        "```\n",
        "\n",
        "</details>"
      ],
      "metadata": {
        "id": "BM8M5kYOhQwa"
      },
      "id": "BM8M5kYOhQwa"
    },
    {
      "cell_type": "markdown",
      "id": "245bc77d-bd09-49e4-ab84-9cebecaa1480",
      "metadata": {
        "id": "245bc77d-bd09-49e4-ab84-9cebecaa1480"
      },
      "source": [
        "## Root Mean Square Fluctuation (RMSF)\n",
        "\n",
        "The **RMSF** measures the fluctuation of each individual residue over the course of the simulation. Instead of showing how the whole structure changes over time (like RMSD), RMSF shows which parts of the structure are the most mobile.\n",
        "\n",
        "- High RMSF values indicate regions of high flexibility, such as loops or the N/C-termini of proteins.\n",
        "\n",
        "- Low RMSF values indicate stable regions, like the core of a protein or residues constrained by ligand binding or base-pairing in RNA."
      ]
    },
    {
      "cell_type": "code",
      "execution_count": null,
      "id": "601c87e5-2838-43d2-a0c7-a1a45d357f70",
      "metadata": {
        "id": "601c87e5-2838-43d2-a0c7-a1a45d357f70"
      },
      "outputs": [],
      "source": [
        "# Calculate RMSF\n",
        "print(\"Calculating RMSF...\")\n",
        "# Select the atoms for the RMSF calculation\n",
        "selected_atoms = universe_1.select_atoms(selection_string)\n",
        "R_rmsf = rms.RMSF(selected_atoms)\n",
        "R_rmsf.run(verbose=True)\n",
        "print(\"RMSF calculation complete.\")\n",
        "\n",
        "rmsf_per_atom = R_rmsf.results.rmsf"
      ]
    },
    {
      "cell_type": "code",
      "source": [
        "# Scatter plot where each point's color is its RMSF value\n",
        "\n",
        "plt.figure(figsize=(12, 6))\n",
        "\n",
        "scatter = plt.scatter(selected_atoms.indices, rmsf_per_atom,\n",
        "                      c=rmsf_per_atom, cmap='Reds', s=10, zorder=2)\n",
        "plt.plot(selected_atoms.indices, rmsf_per_atom, lw=1.5, color='grey', zorder=1)\n",
        "\n",
        "plt.vlines(len(rmsf_per_atom)/2, ymin=0, ymax=4, ls='--', color='grey', label='Chain End/Start')\n",
        "\n",
        "cbar = plt.colorbar(scatter)\n",
        "cbar.set_label('RMSF (Å)', fontsize=12)\n",
        "\n",
        "plt.legend()\n",
        "plt.title('RMSF of RNA Atoms', fontsize=16)\n",
        "plt.xlabel('Atom Index', fontsize=12)\n",
        "plt.ylabel('RMSF (Å)', fontsize=12)\n",
        "plt.grid(True, linestyle='--', alpha=0.5)\n",
        "plt.show()"
      ],
      "metadata": {
        "id": "ghz-KXQrvPV4"
      },
      "id": "ghz-KXQrvPV4",
      "execution_count": null,
      "outputs": []
    },
    {
      "cell_type": "code",
      "source": [
        "# show the RMSF values for each atom in the PDB structure\n",
        "nucleic = universe_1.select_atoms(\"nucleic\")\n",
        "\n",
        "nucleic.tempfactors = rmsf_per_atom\n",
        "\n",
        "view = nv.show_mdanalysis(nucleic)\n",
        "view.layout.width = '800px'\n",
        "view.layout.height = '600px'\n",
        "\n",
        "view.clear_representations()\n",
        "\n",
        "# Add a new representation, coloring by B-factor (which now holds our RMSF)\n",
        "view.add_representation('ball+stick', color_scheme='bfactor',\n",
        "                        selection='nucleic',\n",
        "                        color_domain=[rmsf_per_atom.min(), rmsf_per_atom.max()])\n",
        "\n",
        "view"
      ],
      "metadata": {
        "id": "cL5FO0ns-Gw8"
      },
      "id": "cL5FO0ns-Gw8",
      "execution_count": null,
      "outputs": []
    },
    {
      "cell_type": "markdown",
      "id": "f00b5bc6-6b29-413c-849c-192578a5ebc7",
      "metadata": {
        "id": "f00b5bc6-6b29-413c-849c-192578a5ebc7"
      },
      "source": [
        "## Solvent Accessible Surface Area (SASA)\n",
        "\n",
        "The **SASA** is the surface area of the molecule that is accessible to the solvent.\n",
        "It's a great way to measure changes in the molecule's overall shape and compactness.\n",
        "\n",
        "- A decreasing SASA can indicate that the molecule is folding or becoming more compact.\n",
        "\n",
        "- An increasing SASA can suggest unfolding or a conformational change that exposes more of the molecule to the solvent.\n",
        "\n",
        "It's particularly useful for observing how a binding event might bury a previously exposed surface."
      ]
    },
    {
      "cell_type": "code",
      "source": [
        "from mdakit_sasa.analysis.sasaanalysis import SASAAnalysis\n",
        "\n",
        "# Initialize the SASA calculation, enabling parallel processing\n",
        "print(\"\\nCalculating SASA...\")\n",
        "sasa_calculator = SASAAnalysis(universe_1, n_jobs=-1)\n",
        "\n",
        "sasa_results = []\n",
        "\n",
        "# The SASA calculation is computationally demanding, we can reduce the number of simulation snapshots\n",
        "for ts in tqdm(universe_1.trajectory[::10], desc=\"Calculating SASA per frame\"):\n",
        "    sasa_calculator.run(start=ts.frame, stop=ts.frame+1)\n",
        "    sasa_results.append(sasa_calculator.results.total_area[0])\n",
        "\n",
        "total_sasa_per_frame = np.array(sasa_results)\n",
        "print(\"SASA calculation complete.\")"
      ],
      "metadata": {
        "id": "UfooGYoWznWn"
      },
      "id": "UfooGYoWznWn",
      "execution_count": null,
      "outputs": []
    },
    {
      "cell_type": "code",
      "execution_count": null,
      "id": "3a769b79-2541-4d5e-95cb-b9c8559e11e7",
      "metadata": {
        "id": "3a769b79-2541-4d5e-95cb-b9c8559e11e7"
      },
      "outputs": [],
      "source": [
        "# Plot the SASA using the matplotlib package\n",
        "plt.figure(figsize=(10, 6))\n",
        "plt.plot(time_ns[::10], total_sasa_per_frame, lw=2)\n",
        "\n",
        "plt.title('Total Solvent Accessible Surface Area vs. Time')\n",
        "plt.xlabel('Time (ns)')\n",
        "plt.ylabel('Total SASA (nm²)')\n",
        "plt.grid(True)\n",
        "plt.show()"
      ]
    },
    {
      "cell_type": "markdown",
      "id": "6e6bc3d6-cf04-4102-b0d3-f73cd3982fa1",
      "metadata": {
        "id": "6e6bc3d6-cf04-4102-b0d3-f73cd3982fa1"
      },
      "source": [
        "## Radius of Gyration (Rg)\n",
        "\n",
        "The **Radius of Gyration (Rg)** is a measure of a molecule's overall compactness.\n",
        "It's calculated as the root mean square distance of the atoms from their common center of mass.\n",
        "Think of it as describing the effective \"size\" of the molecule in each frame.\n",
        "It's complementary to SASA but focuses on the mass distribution rather than surface exposure.\n",
        "\n",
        "- A stable Rg value indicates the molecule maintains a consistent size and shape.\n",
        "\n",
        "- A decreasing Rg suggests the molecule is becoming more compact (folding).\n",
        "\n",
        "- An increasing Rg suggests it's expanding or unfolding."
      ]
    },
    {
      "cell_type": "code",
      "execution_count": null,
      "id": "b0b2e44b-7822-42d5-b3e6-4b3cee8f2277",
      "metadata": {
        "id": "b0b2e44b-7822-42d5-b3e6-4b3cee8f2277"
      },
      "outputs": [],
      "source": [
        "print(\"\\nCalculating Radius of Gyration (Rg)...\")\n",
        "# In MDAnalysis, you calculate Rg for each frame by iterating through the trajectory.\n",
        "# The .radius_of_gyration() method is called on an AtomGroup.\n",
        "rg_values = [universe_1.atoms.radius_of_gyration() for ts in universe_1.trajectory]\n",
        "\n",
        "print(\"Rg calculation complete.\")"
      ]
    },
    {
      "cell_type": "code",
      "execution_count": null,
      "id": "2a5ef696-178f-4f04-9144-6f16990087af",
      "metadata": {
        "id": "2a5ef696-178f-4f04-9144-6f16990087af"
      },
      "outputs": [],
      "source": [
        "# Plot the RG using the matplotlib package\n",
        "plt.figure(figsize=(10, 6))\n",
        "plt.plot(time_ns, rg_values, lw=2, label='Rg')\n",
        "\n",
        "window_size = 100\n",
        "running_avg = np.convolve(rg_values, np.ones(window_size)/window_size, mode='valid')\n",
        "plt.plot(time_ns[window_size-1:], running_avg, lw=2.5, color='red', label=f'Running Avg (window={window_size})')\n",
        "\n",
        "plt.title('Radius of Gyration (Rg) vs. Time')\n",
        "plt.xlabel('Time (ns)')\n",
        "plt.ylabel('Rg (nm)')\n",
        "plt.grid(True)\n",
        "plt.legend()\n",
        "plt.show()"
      ]
    },
    {
      "cell_type": "markdown",
      "id": "474bacdb-d2e4-48d3-93a3-caed09d77460",
      "metadata": {
        "id": "474bacdb-d2e4-48d3-93a3-caed09d77460"
      },
      "source": [
        "## Hydrogen Bonds\n",
        "**Hydrogen bonds** are critical for the stability of biological macromolecules, from holding RNA base pairs together to anchoring a ligand in its binding pocket.\n",
        "By counting the number of hydrogen bonds over time, you can directly monitor the formation and breaking of key interactions.\n",
        "\n",
        "For this exercise, you could monitor H-bonds within the entire RNA or, more specifically, between the ligand and the RNA."
      ]
    },
    {
      "cell_type": "code",
      "source": [
        "from MDAnalysis.analysis.hydrogenbonds.hbond_analysis import HydrogenBondAnalysis\n",
        "\n",
        "all_results = []\n",
        "\n",
        "for universe, name in zip(universes, sim_names):\n",
        "    print(f\"\\nProcessing {name}...\")\n",
        "\n",
        "    hbond_analyzer = HydrogenBondAnalysis(\n",
        "        universe=universe,\n",
        "        # Donors are heavy atoms in the ligand (O or N)\n",
        "        donors_sel='resname BGD and name N*',\n",
        "        # Hydrogens are attached to the donors\n",
        "        hydrogens_sel='resname BGD and name H1 H2 H14 N6 H15 H16 H17 H18',\n",
        "        # Acceptors are heavy atoms in the RNA\n",
        "        acceptors_sel='segid A and (name O* or name N*)',\n",
        "        # Relax the distance cutoff slightly\n",
        "        d_a_cutoff=10\n",
        "    )\n",
        "\n",
        "    hbond_results = []\n",
        "    for ts in tqdm(universe.trajectory[::10], desc=f\"Analyzing {name}\"):\n",
        "        hbond_analyzer.run(start=ts.frame, stop=ts.frame+1)\n",
        "\n",
        "        for hbond in hbond_analyzer.results.hbonds:\n",
        "            frame = hbond[0]\n",
        "            acceptor_resid = universe.atoms[int(hbond[3])].resid\n",
        "            hbond_results.append((frame, f\"Ligand-H\", f\"RNA-Res{acceptor_resid}\"))\n",
        "\n",
        "    hbond_df = pd.DataFrame(hbond_results, columns=['Frame', 'Donor', 'Acceptor'])\n",
        "    hbond_df['Simulation'] = name\n",
        "    all_results.append(hbond_df)\n",
        "\n",
        "print(\"\\nAll hydrogen bond calculations complete.\")\n",
        "combined_df = pd.concat(all_results)\n",
        "\n",
        "\n",
        "if not combined_df.empty:\n",
        "    combined_df['H-Bond'] = combined_df['Donor'] + ' to ' + combined_df['Acceptor']\n",
        "    all_unique_hbonds = sorted(combined_df['H-Bond'].unique())\n",
        "\n",
        "    fig, axes = plt.subplots(nrows=3, ncols=1, figsize=(12, 8), sharex=True)\n",
        "    fig.suptitle('Hydrogen Bond Presence Over Time', fontsize=16)\n",
        "\n",
        "    for i, name in enumerate(sim_names):\n",
        "        subset_df = combined_df[combined_df['Simulation'] == name]\n",
        "        axes[i].set_yticks(range(len(all_unique_hbonds)))\n",
        "        axes[i].set_yticklabels(all_unique_hbonds)\n",
        "        axes[i].scatter(subset_df['Frame'], subset_df['H-Bond'], marker='|', s=100)\n",
        "        axes[i].set_ylabel('HBond')\n",
        "        axes[i].set_title(name)\n",
        "        axes[i].grid(axis='x', linestyle='--', alpha=0.6)\n",
        "\n",
        "    axes[-1].set_xlabel('Frame Number')\n",
        "    plt.tight_layout(rect=[0, 0.03, 1, 0.95])\n",
        "    plt.show()\n",
        "else:\n",
        "    print(\"\\nNo hydrogen bonds were found in any simulation with the given criteria.\")"
      ],
      "metadata": {
        "id": "RvCPlT2nt8eK"
      },
      "id": "RvCPlT2nt8eK",
      "execution_count": null,
      "outputs": []
    },
    {
      "cell_type": "markdown",
      "id": "8e710531-e6ba-4433-8209-afb84b26ca54",
      "metadata": {
        "id": "8e710531-e6ba-4433-8209-afb84b26ca54"
      },
      "source": [
        "### Question 1\n",
        "\n",
        "**How do you interprete the formation of h-bonds between the ligand and the RNA in simulation trajectories 4 and 7?**"
      ]
    },
    {
      "cell_type": "markdown",
      "metadata": {
        "id": "a8cdfc0f-00bc-486b-8174-df7e8fb16547"
      },
      "source": [
        "## Distance Ligand to Pocket"
      ],
      "id": "a8cdfc0f-00bc-486b-8174-df7e8fb16547"
    },
    {
      "cell_type": "markdown",
      "source": [
        "To investigate the position of the ligand with respect to the RNA, we can monitor the distance between the unbound side of the ligand and the center of the binding pocket.\n",
        "\n"
      ],
      "metadata": {
        "id": "0a7KrrasnlOn"
      },
      "id": "0a7KrrasnlOn"
    },
    {
      "cell_type": "code",
      "source": [
        "from MDAnalysis.lib.distances import distance_array\n",
        "\n",
        "all_results = []\n",
        "\n",
        "print(\"Calculating distances for all universes...\")\n",
        "for universe, name in zip(universes, sim_names):\n",
        "    ligand_atom = universe.select_atoms('resname BGD and around 2 name C1')\n",
        "    binding_pocket = universe.select_atoms('resid 7 8 9 10')\n",
        "\n",
        "    distance_results = []\n",
        "    for ts in tqdm(universe.trajectory[::1], desc=f\"Processing {name}\"):\n",
        "        # Calculate the center of mass of the binding pocket\n",
        "        pocket_com = binding_pocket.center_of_mass()\n",
        "\n",
        "        # Get the position of the single ligand atom\n",
        "        ligand_pos = ligand_atom.positions[0]\n",
        "\n",
        "        # Calculate the Euclidean distance between the two points\n",
        "        dist = np.linalg.norm(ligand_pos - pocket_com)\n",
        "\n",
        "        distance_results.append({'Frame': ts.frame, 'Distance': dist})\n",
        "\n",
        "    dist_df = pd.DataFrame(distance_results)\n",
        "    dist_df['Simulation'] = name\n",
        "    all_results.append(dist_df)\n",
        "\n",
        "print(\"\\nAll distance calculations complete.\")\n",
        "\n",
        "combined_df_ligtopocket = pd.concat(all_results)"
      ],
      "metadata": {
        "id": "Gau-NK0hkdJA"
      },
      "execution_count": null,
      "outputs": [],
      "id": "Gau-NK0hkdJA"
    },
    {
      "cell_type": "code",
      "source": [
        "fig, axes = plt.subplots(nrows=3, ncols=1, figsize=(12, 8), sharex=True, sharey=True)\n",
        "fig.suptitle(\"Distance: Ligand (C1) to Binding Pocket Center\", fontsize=16)\n",
        "\n",
        "for i, name in enumerate(sim_names):\n",
        "    subset_df = combined_df_ligtopocket[combined_df_ligtopocket['Simulation'] == name]\n",
        "\n",
        "    axes[i].plot(subset_df['Frame'], subset_df['Distance'], label=name)\n",
        "    axes[i].set_ylabel('Distance (Å)')\n",
        "    axes[i].set_title(name)\n",
        "    axes[i].grid(True, linestyle='--', alpha=0.6)\n",
        "\n",
        "# Set the common x-axis label and a shared y-axis limit\n",
        "axes[-1].set_xlabel('Frame Number')\n",
        "plt.ylim(bottom=0) # Set a common y-axis starting at 0\n",
        "\n",
        "plt.tight_layout(rect=[0, 0.03, 1, 0.95])\n",
        "plt.show()"
      ],
      "metadata": {
        "id": "VydBA93BlRTi"
      },
      "execution_count": null,
      "outputs": [],
      "id": "VydBA93BlRTi"
    },
    {
      "cell_type": "markdown",
      "source": [
        "### Question 2\n",
        "\n",
        "**How do you interprete the plotted distances between the ligand and the RNA in the three simulation trajectories?**"
      ],
      "metadata": {
        "id": "2WgM_2LcNxVZ"
      },
      "id": "2WgM_2LcNxVZ"
    },
    {
      "cell_type": "markdown",
      "source": [
        "### Question 3\n",
        "\n",
        "**How do you interprete the plotted distances between the ligand and the RNA in the three simulation trajectories?**\n",
        "\n",
        "**How do they compare to the h-bond analysis in the previous example?**"
      ],
      "metadata": {
        "id": "TeSN0VQ0Uz39"
      },
      "id": "TeSN0VQ0Uz39"
    },
    {
      "cell_type": "markdown",
      "id": "e8a5ced9-51af-4660-b3e0-c5047a8f5df0",
      "metadata": {
        "id": "e8a5ced9-51af-4660-b3e0-c5047a8f5df0"
      },
      "source": [
        "# Dimensionality Reduction and Clustering"
      ]
    },
    {
      "cell_type": "markdown",
      "source": [
        "To analyze a molecule's movements, we first describe its 3D shape using numerical features called descriptors. These descriptors ignore the molecule's overall tumbling and focus only on the internal changes in its structure.\n",
        "\n",
        "**Dihedral Angles**\n",
        "Dihedral angles are a simple descriptor that measures the twists in a protein's backbone. They are excellent for capturing the fundamental folding and flexibility of the protein chain.\n",
        "\n",
        "**Pairwise Distances**\n",
        "Pairwise distances describe the distances between different atoms or parts of the molecule. This provides a more detailed, global picture of the molecule's overall shape and how its different regions move closer together or further apart."
      ],
      "metadata": {
        "id": "bJsMC4ZeoryU"
      },
      "id": "bJsMC4ZeoryU"
    },
    {
      "cell_type": "markdown",
      "source": [
        "![pairwise_distances.png](data:image/png;base64,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)"
      ],
      "metadata": {
        "id": "E_BoIZ9Vooxi"
      },
      "id": "E_BoIZ9Vooxi"
    },
    {
      "cell_type": "markdown",
      "source": [
        "Pairwise distances between atoms surrounding a ligand binding pocket (blue) and a reference point (yellow).\n",
        "\n",
        "From: Steuer, J., Kukharenko, O., Riedmiller, K., Hartig, J. S., & Peter, C. (2021). Guanidine-II aptamer conformations and ligand binding modes through the lens of molecular simulation. Nucleic Acids Research, 49(14), 7954–7965. https://doi.org/10.1093/nar/gkab592\n"
      ],
      "metadata": {
        "id": "42wKgmIMPFDW"
      },
      "id": "42wKgmIMPFDW"
    },
    {
      "cell_type": "markdown",
      "id": "b53a1265-7549-4bfe-aae3-029a71ef8c6c",
      "metadata": {
        "id": "b53a1265-7549-4bfe-aae3-029a71ef8c6c"
      },
      "source": [
        "## Principal Component Analysis (PCA)\n",
        "\n",
        "**PCA** is a powerful technique used to identify the dominant, large-scale motions in a simulation.\n",
        "It reduces the complex, high-dimensional movements of all atoms into a few \"principal components\" (PCs) that describe the most significant collective motions.\n",
        "\n",
        "For example, PC1 might describe a hinge-like opening and closing of two domains, while PC2 describes a twisting motion.\n",
        "\n",
        "By projecting the trajectory onto the first two PCs (PC1 and PC2), we can create a 2D map of the molecule's \"conformational landscape.\"\n",
        "\n",
        "Clusters in the plot represent stable or semi-stable conformational states.\n",
        "\n",
        "Paths between clusters represent transitions from one state to another."
      ]
    },
    {
      "cell_type": "markdown",
      "source": [
        "\n",
        "\n",
        "<img src=\"https://media.geeksforgeeks.org/wp-content/uploads/20250526125548648108/What-is-Dimensionality-Reduction-.webp\" width=\"60%\">\n",
        "\n",
        "From: https://www.geeksforgeeks.org/machine-learning/dimensionality-reduction/\n"
      ],
      "metadata": {
        "id": "fQHy8K2uQFdD"
      },
      "id": "fQHy8K2uQFdD"
    },
    {
      "cell_type": "markdown",
      "source": [
        "\n",
        "\n",
        "<img src=\"https://numxl.com/wp-content/uploads/principal-component-analysis-pca-featured.png\" width=\"60%\">\n",
        "\n",
        "From: https://numxl.com/blogs/principal-component-analysis-pca-101/\n"
      ],
      "metadata": {
        "id": "L0x7ZRIbQFhg"
      },
      "id": "L0x7ZRIbQFhg"
    },
    {
      "cell_type": "code",
      "source": [
        "from MDAnalysis.analysis import distances\n",
        "from sklearn.decomposition import PCA\n",
        "\n",
        "all_distance_data = []\n",
        "\n",
        "print(\"Calculating pairwise distances for all universes...\")\n",
        "for universe, name in zip(universes, sim_names):\n",
        "    rna_atoms = universe.select_atoms('nucleic')\n",
        "    ligand_atoms = universe.select_atoms('resname BGD')\n",
        "\n",
        "    distance_list = []\n",
        "    for ts in tqdm(universe.trajectory, desc=f\"Processing {name}\"):\n",
        "        dist_matrix = distances.distance_array(rna_atoms, ligand_atoms)\n",
        "        distance_list.append(dist_matrix.flatten())\n",
        "\n",
        "    all_distance_data.append(np.array(distance_list))\n",
        "\n",
        "print(\"Distance calculation complete.\")\n",
        "\n",
        "# Combine data and perform a single PCA\n",
        "combined_distance_data = np.vstack(all_distance_data)\n",
        "\n",
        "print(\"\\nPerforming PCA on combined data...\")\n",
        "pca = PCA(n_components=2)\n",
        "# Fit the PCA model on the combined data from all simulations\n",
        "pca.fit(combined_distance_data)\n",
        "print(\"PCA complete.\")"
      ],
      "metadata": {
        "id": "syzFpa3B-9L_"
      },
      "id": "syzFpa3B-9L_",
      "execution_count": null,
      "outputs": []
    },
    {
      "cell_type": "code",
      "source": [
        "plt.figure(figsize=(10, 8))\n",
        "colors = ['blue', 'orange', 'green']\n",
        "\n",
        "for i, (distance_data, name) in enumerate(zip(all_distance_data, sim_names)):\n",
        "    # Transform each simulation's data into the PCA space\n",
        "    projected_distances = pca.transform(distance_data)\n",
        "\n",
        "    # Plot the projected data with a unique color and label\n",
        "    plt.scatter(projected_distances[:, 0], projected_distances[:, 1],\n",
        "                c=colors[i], label=name, alpha=0.5, s=20)\n",
        "\n",
        "# Add labels, title, and legend\n",
        "explained_variance = pca.explained_variance_ratio_\n",
        "plt.title('PCA of RNA-Ligand Distances', fontsize=16)\n",
        "plt.xlabel(f'PC1 ({explained_variance[0]*100:.1f}%)', fontsize=12)\n",
        "plt.ylabel(f'PC2 ({explained_variance[1]*100:.1f}%)', fontsize=12)\n",
        "plt.legend()\n",
        "plt.grid(True, linestyle='--', alpha=0.5)\n",
        "plt.show()"
      ],
      "metadata": {
        "id": "_8wJ3_OQ_GIc"
      },
      "id": "_8wJ3_OQ_GIc",
      "execution_count": null,
      "outputs": []
    },
    {
      "cell_type": "markdown",
      "source": [
        "We can also compute the PCA for the art of the ligand that undergoes binding.\n",
        "\n",
        "For this, we caluclate only the pairwise distances betwe the unbound end of the ligand, and the RNA residues that form the binding poccket."
      ],
      "metadata": {
        "id": "J5WDeVQotDoZ"
      },
      "id": "J5WDeVQotDoZ"
    },
    {
      "cell_type": "code",
      "source": [
        "from MDAnalysis.analysis import distances\n",
        "from sklearn.decomposition import PCA\n",
        "\n",
        "all_distance_data = []\n",
        "\n",
        "print(\"Calculating pairwise distances for all universes...\")\n",
        "for universe, name in zip(universes, sim_names):\n",
        "    rna_atoms = universe.select_atoms('segid A and resid 7 8 9 10 12')\n",
        "    ligand_atoms = universe.select_atoms('resname BGD and around 2.5 index 1166') # around the C1 atom of the ligand\n",
        "\n",
        "    distance_list = []\n",
        "    for ts in tqdm(universe.trajectory, desc=f\"Processing {name}\"):\n",
        "        dist_matrix = distances.distance_array(rna_atoms, ligand_atoms)\n",
        "        distance_list.append(dist_matrix.flatten())\n",
        "\n",
        "    all_distance_data.append(np.array(distance_list))\n",
        "\n",
        "print(\"Distance calculation complete.\")\n",
        "\n",
        "# Combine data and perform a single PCA\n",
        "combined_distance_data = np.vstack(all_distance_data)\n",
        "\n",
        "print(\"\\nPerforming PCA on combined data...\")\n",
        "pca = PCA(n_components=2)\n",
        "\n",
        "# Fit the PCA model on the combined data from all simulations\n",
        "pca.fit(combined_distance_data)\n",
        "print(\"PCA complete.\")"
      ],
      "metadata": {
        "id": "w4L__L3_tC_D"
      },
      "id": "w4L__L3_tC_D",
      "execution_count": null,
      "outputs": []
    },
    {
      "cell_type": "code",
      "source": [
        "plt.figure(figsize=(10, 8))\n",
        "color = ['cornflowerblue', 'orange', 'green']\n",
        "\n",
        "for i, (distance_data, name) in enumerate(zip(all_distance_data, sim_names)):\n",
        "    # Transform each simulation's data into the PCA space\n",
        "    projected_distances = pca.transform(distance_data)\n",
        "\n",
        "    # Plot the projected data with a unique color and label\n",
        "    plt.scatter(projected_distances[:, 0], projected_distances[:, 1],\n",
        "               c=color[i], label=name, alpha=0.4, s=20)\n",
        "\n",
        "# Add labels, title, and legend\n",
        "explained_variance = pca.explained_variance_ratio_\n",
        "plt.title('PCA of RNA-Pocket to Unbound Ligand Distances', fontsize=16)\n",
        "plt.xlabel(f'PC1 ({explained_variance[0]*100:.1f}%)', fontsize=12)\n",
        "plt.ylabel(f'PC2 ({explained_variance[1]*100:.1f}%)', fontsize=12)\n",
        "plt.legend()\n",
        "plt.grid(True, linestyle='--', alpha=0.5)\n",
        "plt.show()"
      ],
      "metadata": {
        "id": "X6k1s7h3AxFP"
      },
      "id": "X6k1s7h3AxFP",
      "execution_count": null,
      "outputs": []
    },
    {
      "cell_type": "markdown",
      "source": [
        "### Question 4\n",
        "\n",
        "**What differences can you spot between this 2D map and the one before?**"
      ],
      "metadata": {
        "id": "3YpaAKxFQlOm"
      },
      "id": "3YpaAKxFQlOm"
    },
    {
      "cell_type": "markdown",
      "id": "a9f4f86a-8b4a-49c1-a989-d9b5db498584",
      "metadata": {
        "id": "a9f4f86a-8b4a-49c1-a989-d9b5db498584"
      },
      "source": [
        "## Clustering of the 2D Conformational Landscape\n",
        "\n",
        "**Clustering** is a type of unsupervised machine learning where the goal is to find natural groupings in your data without any predefined labels.\n",
        "Think of it like sorting a vast collection of photos into piles based on visual similarity—you don't know the categories beforehand, but you can see that certain photos belong together.\n",
        "\n",
        "In molecular dynamics, we use clustering to simplify the complex motions of a trajectory.\n",
        "The 2D PCA map you created shows the conformational landscape, and clustering helps us automatically identify the most populated regions, which correspond to the molecule's major conformational states.\n",
        "Instead of analyzing thousands of individual frames, we can analyze just a few representative structures—one for each cluster—to understand the system's overall behavior.\n",
        "\n",
        "We will use the HDBSCAN algorithm implemented in scikit-learn.\n",
        "\n",
        "- **HDBSCAN**: A advanced, density-based algorithm that can find clusters of varying shapes and, importantly, does not require you to set the number of clusters beforehand. It can also identify points that don't belong to any cluster, labeling them as \"noise.\""
      ]
    },
    {
      "cell_type": "code",
      "execution_count": null,
      "id": "d9aa98b3-3413-46b5-9a3b-cea3205a32cc",
      "metadata": {
        "id": "d9aa98b3-3413-46b5-9a3b-cea3205a32cc"
      },
      "outputs": [],
      "source": [
        "from sklearn.cluster import HDBSCAN\n",
        "from sklearn.decomposition import PCA\n",
        "\n",
        "# Perform HDBSCAN clustering on the combined PCA data\n",
        "print(\"Performing HDBSCAN clustering...\")\n",
        "combined_projected_distances = pca.transform(combined_distance_data)\n",
        "\n",
        "# Initialize HDBSCAN - you can tune parameters like min_cluster_size\n",
        "hdb = HDBSCAN(min_cluster_size=100) # min_cluster_size is an important parameter to tune\n",
        "cluster_labels = hdb.fit_predict(combined_projected_distances)\n",
        "print(\"Clustering complete.\")\n",
        "\n",
        "# Get the number of clusters found (excluding noise points, labeled as -1)\n",
        "n_clusters = len(set(cluster_labels)) - (1 if -1 in cluster_labels else 0)\n",
        "print(f\"Found {n_clusters} clusters.\")"
      ]
    },
    {
      "cell_type": "code",
      "source": [
        "plt.figure(figsize=(12, 10))\n",
        "# Noise points (label -1) are colored grey\n",
        "scatter = plt.scatter(combined_projected_distances[:, 0],\n",
        "                      combined_projected_distances[:, 1],\n",
        "                      c=cluster_labels,\n",
        "                      cmap='viridis',\n",
        "                      s=10,\n",
        "                      alpha=0.9)\n",
        "\n",
        "explained_variance = pca.explained_variance_ratio_\n",
        "plt.title(f'HDBSCAN Clustering of PCA space ({n_clusters} clusters found)', fontsize=16)\n",
        "plt.xlabel(f'PC1 ({explained_variance[0]*100:.1f}%)', fontsize=12)\n",
        "plt.ylabel(f'PC2 ({explained_variance[1]*100:.1f}%)', fontsize=12)\n",
        "\n",
        "cbar = plt.colorbar(scatter)\n",
        "cbar.set_label('Cluster ID (-1 = Noise)', fontsize=12)\n",
        "\n",
        "plt.grid(True, linestyle='--', alpha=0.5)\n",
        "plt.show()"
      ],
      "metadata": {
        "id": "cBZXHJnkCaba"
      },
      "id": "cBZXHJnkCaba",
      "execution_count": null,
      "outputs": []
    },
    {
      "cell_type": "markdown",
      "id": "b4dddd65-1c11-4319-8234-0422e5b40baf",
      "metadata": {
        "id": "b4dddd65-1c11-4319-8234-0422e5b40baf"
      },
      "source": [
        "## Finding and Visualizing Cluster Centroids\n",
        "\n",
        "A cluster is just a collection of points.\n",
        "To make this chemically meaningful, we need to find the centroid—the actual simulation frame that is most representative of each cluster.\n",
        "We can find this by identifying the frame closest to the geometric center of each cluster in our 2D PCA map.\n",
        "\n",
        "Once we have the frame index for each centroid, we can use nglview to visualize its 3D structure."
      ]
    },
    {
      "cell_type": "code",
      "execution_count": null,
      "id": "086c29d0-6b4c-4c59-ae9e-0e3a7b04c725",
      "metadata": {
        "id": "086c29d0-6b4c-4c59-ae9e-0e3a7b04c725"
      },
      "outputs": [],
      "source": [
        "from sklearn.metrics.pairwise import euclidean_distances\n",
        "\n",
        "# Create a mapping from the combined index back to the simulation and frame number\n",
        "frame_map = []\n",
        "for sim_index, u in enumerate(universes):\n",
        "    for frame_index in range(len(u.trajectory)):\n",
        "        frame_map.append({'sim_index': sim_index, 'frame_index': frame_index})\n",
        "\n",
        "# Get the unique cluster labels, ignoring noise (-1)\n",
        "unique_clusters = sorted(set(cluster_labels))\n",
        "if -1 in unique_clusters:\n",
        "    unique_clusters.remove(-1)\n",
        "\n",
        "print(f\"\\nExtracting representative structures for {len(unique_clusters)} clusters...\")\n",
        "\n",
        "for cluster_id in unique_clusters:\n",
        "    # Get all points belonging to the current cluster\n",
        "    cluster_point_indices = np.where(cluster_labels == cluster_id)[0]\n",
        "    cluster_point_coords = combined_projected_distances[cluster_point_indices]\n",
        "\n",
        "    # Calculate the geometric center (mean) of the cluster in PCA space\n",
        "    cluster_center = cluster_point_coords.mean(axis=0)\n",
        "\n",
        "    # Calculate the distance of each point in the cluster to the center\n",
        "    distances_to_center = euclidean_distances(cluster_point_coords, cluster_center.reshape(1, -1))\n",
        "\n",
        "    # Find the index of the point closest to the center (this is the medoid)\n",
        "    medoid_local_index = np.argmin(distances_to_center)\n",
        "    medoid_global_index = cluster_point_indices[medoid_local_index]\n",
        "\n",
        "    # Map this index back to the original simulation and frame\n",
        "    origin_info = frame_map[medoid_global_index]\n",
        "    sim_index = origin_info['sim_index']\n",
        "    frame_index = origin_info['frame_index']\n",
        "\n",
        "    # Extract the representative structure using MDAnalysis\n",
        "    representative_universe = universes[sim_index]\n",
        "    representative_universe.trajectory[frame_index] # Go to the specific frame\n",
        "\n",
        "    # Save the frame as a PDB file\n",
        "    output_filename = f\"centroid_cluster_{cluster_id}.pdb\"\n",
        "    representative_universe.atoms.write(output_filename)\n",
        "\n",
        "    print(f\"  - Saved {output_filename} (from {sim_names[sim_index]}, frame {frame_index})\")\n",
        "\n",
        "print(\"\\nCentroid extraction complete.\")"
      ]
    },
    {
      "cell_type": "code",
      "source": [
        "from sklearn.metrics.pairwise import euclidean_distances\n",
        "\n",
        "# Create a mapping from the combined index back to the simulation and frame number\n",
        "frame_map = []\n",
        "for sim_index, u in enumerate(universes):\n",
        "    for frame_index in range(len(u.trajectory)):\n",
        "        frame_map.append({'sim_index': sim_index, 'frame_index': frame_index})\n",
        "\n",
        "# Get the unique cluster labels, ignoring noise (-1)\n",
        "unique_clusters = sorted(set(cluster_labels))\n",
        "if -1 in unique_clusters:\n",
        "    unique_clusters.remove(-1)\n",
        "\n",
        "# Create the base scatter plot, colored by cluster ID\n",
        "fig, ax = plt.subplots(figsize=(12, 10))\n",
        "scatter = ax.scatter(combined_projected_distances[:, 0],\n",
        "                     combined_projected_distances[:, 1],\n",
        "                     c=cluster_labels,\n",
        "                     cmap='viridis',\n",
        "                     s=10,\n",
        "                     alpha=0.4)\n",
        "\n",
        "\n",
        "print(\"Finding and plotting medoids for each cluster...\")\n",
        "for cluster_id in unique_clusters:\n",
        "    # Find all points belonging to the current cluster\n",
        "    cluster_point_indices = np.where(cluster_labels == cluster_id)[0]\n",
        "    cluster_point_coords = combined_projected_distances[cluster_point_indices]\n",
        "\n",
        "    # Calculate the geometric center (mean) of the cluster\n",
        "    cluster_center = cluster_point_coords.mean(axis=0)\n",
        "\n",
        "    # Find the actual data point closest to this center (medoid)\n",
        "    distances_to_center = euclidean_distances(cluster_point_coords, cluster_center.reshape(1, -1))\n",
        "    medoid_local_index = np.argmin(distances_to_center)\n",
        "    medoid_global_index = cluster_point_indices[medoid_local_index]\n",
        "    medoid_coords = cluster_point_coords[medoid_local_index]\n",
        "\n",
        "    # Plot it with a distinct marker\n",
        "    ax.scatter(medoid_coords[0], medoid_coords[1],\n",
        "               marker='X', c='red', edgecolor='black', s=200,\n",
        "               label=f'Centroid {cluster_id}' if i == 0 else \"\", zorder=10)\n",
        "\n",
        "    # Add a text label next to it\n",
        "    ax.text(medoid_coords[0] + 5, medoid_coords[1] + 5, f'Centroid {cluster_id}',\n",
        "            fontsize=12, fontweight='bold', color='black')\n",
        "\n",
        "    # Map this index back to the original simulation and frame\n",
        "    origin_info = frame_map[medoid_global_index]\n",
        "    sim_index = origin_info['sim_index']\n",
        "    frame_index = origin_info['frame_index']\n",
        "\n",
        "    # Extract the representative structure using MDAnalysis\n",
        "    representative_universe = universes[sim_index]\n",
        "    representative_universe.trajectory[frame_index] # Go to the specific frame\n",
        "\n",
        "    # Save the frame as a PDB file\n",
        "    output_filename = f\"centroid_cluster_{cluster_id}.pdb\"\n",
        "    representative_universe.atoms.write(output_filename)\n",
        "\n",
        "    print(f\"  - Saved {output_filename} (from {sim_names[sim_index]}, frame {frame_index})\")\n",
        "\n",
        "# Add labels and title\n",
        "explained_variance = pca.explained_variance_ratio_\n",
        "ax.set_title('PCA of RNA-Ligand Distances with Cluster Centroids', fontsize=16)\n",
        "ax.set_xlabel(f'PC1 ({explained_variance[0]*100:.1f}%)', fontsize=12)\n",
        "ax.set_ylabel(f'PC2 ({explained_variance[1]*100:.1f}%)', fontsize=12)\n",
        "ax.grid(True, linestyle='--', alpha=0.5)\n",
        "\n",
        "cbar = fig.colorbar(scatter)\n",
        "cbar.set_label('Cluster ID (-1 = Noise)', fontsize=12)\n",
        "\n",
        "plt.show()"
      ],
      "metadata": {
        "id": "NVoU3TbtJlAX"
      },
      "id": "NVoU3TbtJlAX",
      "execution_count": null,
      "outputs": []
    },
    {
      "cell_type": "code",
      "source": [
        "# Create the NGLview widget from the MDAnalysis Universe\n",
        "view = nv.show_structure_file('centroid_cluster_0.pdb')\n",
        "view.layout.width = '800px'\n",
        "view.layout.height = '600px'\n",
        "\n",
        "view.clear_representations()\n",
        "\n",
        "view.add_representation('ball+stick', selection='nucleic', color='grey',\n",
        "                        aspect_ratio=1.5, name='Ligand')\n",
        "\n",
        "view.center('resname BGD')\n",
        "view.background = 'white'\n",
        "\n",
        "view"
      ],
      "metadata": {
        "id": "ktsckktvJla3"
      },
      "id": "ktsckktvJla3",
      "execution_count": null,
      "outputs": []
    },
    {
      "cell_type": "markdown",
      "id": "ab8cf9ba-a1d6-4558-a5c2-399ecfa6f27c",
      "metadata": {
        "id": "ab8cf9ba-a1d6-4558-a5c2-399ecfa6f27c"
      },
      "source": [
        "### Exercise 2\n",
        "\n",
        "**Find out whats the difference between the two bound states**\n",
        "\n",
        "🔍 **Solution (Hidden - Expand to see the answer)**\n",
        "\n",
        "<details>\n",
        "<summary>Click here to see the solution after you've tried exploring the functions</summary>\n",
        "\n",
        "\n",
        "If you change the centroid-ID to 3 and 4, you can investigate the two ligand-bound states in nglview.\n",
        "\n",
        "```\n",
        "view = nv.show_structure_file('centroid_cluster_3.pdb') # change also to 4\n",
        "view.layout.width = '800px'\n",
        "view.layout.height = '600px'\n",
        "\n",
        "view.clear_representations()\n",
        "\n",
        "view.add_representation('ball+stick', selection='nucleic', color='grey',\n",
        "                        aspect_ratio=1.5, name='Ligand')\n",
        "\n",
        "view.center('resname BGD')\n",
        "view.background = 'white'\n",
        "\n",
        "view\n",
        "```\n",
        "\n",
        "The difference is the orientation of a hydrogen in the ligand, as illustrated here:\n",
        "\n",
        "<img src=\"https://oup.silverchair-cdn.com/oup/backfile/Content_public/Journal/nargab/6/3/10.1093_nargab_lqae132/2/m_lqae132fig4.jpeg?Expires=1759496277&Signature=gIh~oDT3OjpTsw9VAUG0KXEdm8wV-PctkdCTsFTylMiXoPhaotCaItvCHswj18cgopWhCbJ46~eMCB~Dt2999kNcC4RNqhizmQknnEUdN2auhZIDKFtai15F7rtELiPHGVC3dgsLz11biZh0GULH18KAukKrgQ4Zwh1ip~pvYi4PW2rB1ZKlUDH~5mJ8~BIBtR7t97kisunmhoHgX8khwAsPLx5XxGZC8~AEvCAzSngbIOGYb6JBTRO5QbCuNzA84mrx~x6WRNjc4Hm6CR8MgDgJZ68uKS9ia2FERx0cWZXAItO-w4M7NzcYhhMPf6cFiW9AxjcEtDx2StALOD5mIQ__&Key-Pair-Id=APKAIE5G5CRDK6RD3PGA\" width=\"70%\">\n",
        "\n",
        "In this figure, cluster 0 and 2 represent our clusters 3 and 4.\n",
        "\n",
        "From: Steuer, J., Sinn, M., Eble, F., Rütschlin, S., Böttcher, T., Hartig, J. S., & Peter, C. (2024). Cooperative binding of bivalent ligands yields new insights into the guanidine-II riboswitch. NAR Genomics and Bioinformatics, 6(3). https://doi.org/10.1093/nargab/lqae132\n",
        "</details>"
      ]
    },
    {
      "cell_type": "markdown",
      "id": "1c8c1bc8-cf8f-4469-a451-9bde00b084f9",
      "metadata": {
        "id": "1c8c1bc8-cf8f-4469-a451-9bde00b084f9"
      },
      "source": [
        "## Interpreting the PCA Map\n",
        "\n",
        "By coloring the low-dimensional map according to meaningful descriptors, we can obtain a better understanding of the studied system."
      ]
    },
    {
      "cell_type": "markdown",
      "source": [
        "### Ligand End-2-End Distance\n",
        "\n",
        "The end-to-end distance of the ligand allows insights on how stretched or bent it is in the different conformational states previously identified.\n",
        "\n"
      ],
      "metadata": {
        "id": "BRWRZjuO8ocn"
      },
      "id": "BRWRZjuO8ocn"
    },
    {
      "cell_type": "code",
      "source": [
        "all_distance_results = []\n",
        "\n",
        "# Loop through each universe to calculate the C1-C6 distance\n",
        "print(\"Calculating C1-C6 distances for all universes...\")\n",
        "for universe, name in zip(universes, sim_names):\n",
        "    # Define the two atoms for the distance calculation\n",
        "    c1_atom = universe.select_atoms('resname BGD and name C1')\n",
        "    c6_atom = universe.select_atoms('resname BGD and name C6')\n",
        "\n",
        "    distance_results = []\n",
        "    for ts in tqdm(universe.trajectory, desc=f\"Processing {name}\"):\n",
        "        # Get positions and calculate distance\n",
        "        dist = np.linalg.norm(c1_atom.positions[0] - c6_atom.positions[0])\n",
        "        distance_results.append({'Frame': ts.frame, 'Distance': dist})\n",
        "\n",
        "    dist_df = pd.DataFrame(distance_results)\n",
        "    dist_df['Simulation'] = name\n",
        "    all_distance_results.append(dist_df)\n",
        "\n",
        "print(\"\\nAll C1-C6 distance calculations complete.\")\n",
        "combined_df = pd.concat(all_distance_results)"
      ],
      "metadata": {
        "id": "qdbKzftGmkko"
      },
      "id": "qdbKzftGmkko",
      "execution_count": null,
      "outputs": []
    },
    {
      "cell_type": "code",
      "source": [
        "# Create the stacked plot of distance vs. time\n",
        "fig, axes = plt.subplots(nrows=3, ncols=1, figsize=(12, 8), sharex=True, sharey=True)\n",
        "fig.suptitle(\"Ligand Internal Distance (C1-C6) Over Time\", fontsize=16)\n",
        "\n",
        "for i, name in enumerate(sim_names):\n",
        "    subset_df = combined_df[combined_df['Simulation'] == name]\n",
        "    axes[i].plot(subset_df['Frame'], subset_df['Distance'], label=name)\n",
        "    axes[i].set_ylabel('Distance (Å)')\n",
        "    axes[i].set_title(name)\n",
        "    axes[i].grid(True, linestyle='--', alpha=0.6)\n",
        "\n",
        "axes[-1].set_xlabel('Frame Number')\n",
        "plt.ylim(bottom=0)\n",
        "plt.tight_layout(rect=[0, 0.03, 1, 0.95])\n",
        "plt.show()"
      ],
      "metadata": {
        "id": "IG0yvcECnB4w"
      },
      "id": "IG0yvcECnB4w",
      "execution_count": null,
      "outputs": []
    },
    {
      "cell_type": "markdown",
      "source": [
        "### Color PCA Map According to End-2-End Distance"
      ],
      "metadata": {
        "id": "itZ2J908ykq_"
      },
      "id": "itZ2J908ykq_"
    },
    {
      "cell_type": "code",
      "source": [
        "# Create the PCA plot colored by the C1-C6 distance\n",
        "plt.figure(figsize=(12, 10))\n",
        "\n",
        "# The color 'c' is now the 'Distance' column from our combined DataFrame\n",
        "scatter = plt.scatter(combined_projected_distances[:, 0],\n",
        "                      combined_projected_distances[:, 1],\n",
        "                      c=combined_df['Distance'],\n",
        "                      cmap='viridis',\n",
        "                      s=10,\n",
        "                      alpha=0.9)\n",
        "\n",
        "explained_variance = pca.explained_variance_ratio_\n",
        "plt.title('PCA Colored by Ligand C1-C6 Distance', fontsize=16)\n",
        "plt.xlabel(f'PC1 ({explained_variance[0]*100:.1f}%)', fontsize=12)\n",
        "plt.ylabel(f'PC2 ({explained_variance[1]*100:.1f}%)', fontsize=12)\n",
        "cbar = plt.colorbar(scatter)\n",
        "cbar.set_label('C1-C6 Distance (Å)', fontsize=12)\n",
        "plt.grid(True, linestyle='--', alpha=0.5)\n",
        "plt.show()"
      ],
      "metadata": {
        "id": "gsjZoD7UnCpC",
        "collapsed": true
      },
      "id": "gsjZoD7UnCpC",
      "execution_count": null,
      "outputs": []
    },
    {
      "cell_type": "markdown",
      "id": "cb0b914e-0e3b-4d69-aa19-c3bfcace5de8",
      "metadata": {
        "id": "cb0b914e-0e3b-4d69-aa19-c3bfcace5de8"
      },
      "source": [
        "## Pocket Opening"
      ]
    },
    {
      "cell_type": "code",
      "source": [
        "universe.select_atoms('(segid A and resid 8 and name O1P) or (segid A and resid 10 and name O6)')"
      ],
      "metadata": {
        "id": "bSNBMzqL-ZMK"
      },
      "id": "bSNBMzqL-ZMK",
      "execution_count": null,
      "outputs": []
    },
    {
      "cell_type": "code",
      "source": [
        "all_distance_results = []\n",
        "\n",
        "# Loop through each universe to calculate the widtch of the pocket entrance\n",
        "print(\"Calculating widtch of the pocket entrance for all universes...\")\n",
        "for universe, name in zip(universes, sim_names):\n",
        "    # Define the two atoms for the distance calculation\n",
        "    c1_atom = universe.select_atoms('segid A and resid 8 and name O1P')\n",
        "    c6_atom = universe.select_atoms('segid A and resid 10 and name O6')\n",
        "\n",
        "    distance_results = []\n",
        "    for ts in tqdm(universe.trajectory, desc=f\"Processing {name}\"):\n",
        "        # Get positions and calculate distance\n",
        "        dist = np.linalg.norm(c1_atom.positions[0] - c6_atom.positions[0])\n",
        "        distance_results.append({'Frame': ts.frame, 'Distance': dist})\n",
        "\n",
        "    dist_df = pd.DataFrame(distance_results)\n",
        "    dist_df['Simulation'] = name\n",
        "    all_distance_results.append(dist_df)\n",
        "\n",
        "print(\"\\nAll distance calculations complete.\")\n",
        "combined_df_pocketwidth = pd.concat(all_distance_results)"
      ],
      "metadata": {
        "id": "Ji0PNMDF-EQL"
      },
      "id": "Ji0PNMDF-EQL",
      "execution_count": null,
      "outputs": []
    },
    {
      "cell_type": "code",
      "source": [
        "# Create the stacked plot of distance vs. time\n",
        "fig, axes = plt.subplots(nrows=3, ncols=1, figsize=(12, 8), sharex=True, sharey=True)\n",
        "fig.suptitle(\"Ligand Internal Distance (C1-C6) Over Time\", fontsize=16)\n",
        "\n",
        "for i, name in enumerate(sim_names):\n",
        "    subset_df = combined_df_pocketwidth[combined_df['Simulation'] == name]\n",
        "    axes[i].plot(combined_df_pocketwidth['Frame'], combined_df_pocketwidth['Distance'], label=name)\n",
        "    axes[i].set_ylabel('Distance (Å)')\n",
        "    axes[i].set_title(name)\n",
        "    axes[i].grid(True, linestyle='--', alpha=0.6)\n",
        "\n",
        "axes[-1].set_xlabel('Frame Number')\n",
        "plt.ylim(bottom=0)\n",
        "plt.tight_layout(rect=[0, 0.03, 1, 0.95])\n",
        "plt.show()"
      ],
      "metadata": {
        "id": "8Btbs2Vj-EaB"
      },
      "id": "8Btbs2Vj-EaB",
      "execution_count": null,
      "outputs": []
    },
    {
      "cell_type": "markdown",
      "source": [
        "### Exercise 3\n",
        "\n",
        "**Color PCA Map According to Width of the Binding Pocket Entrance**"
      ],
      "metadata": {
        "id": "jHmgXYkMjP4J"
      },
      "id": "jHmgXYkMjP4J"
    },
    {
      "cell_type": "markdown",
      "source": [
        "🔍 **Solution (Hidden - Expand to see the answer)**\n",
        "\n",
        "<details>\n",
        "<summary>Click here to see the solution after you've tried exploring the functions</summary>\n",
        "\n",
        "\n",
        "**Color PCA Map According to Width of the Binding Pocket Entrance:**\n",
        "\n",
        "```\n",
        "# Create the PCA plot colored by the width of the binding pocket Entrance\n",
        "\n",
        "plt.figure(figsize=(12, 10))\n",
        "\n",
        "# The color 'c' is now the 'Distance' column from our combined DataFrame\n",
        "scatter = plt.scatter(combined_projected_distances[:, 0],\n",
        "                      combined_projected_distances[:, 1],\n",
        "                      c=combined_df_pocketwidth['Distance'],\n",
        "                      cmap='viridis',\n",
        "                      s=10,\n",
        "                      alpha=0.9)\n",
        "\n",
        "# Add labels, title, and a color bar\n",
        "explained_variance = pca.explained_variance_ratio_\n",
        "plt.title('PCA Colored by Width of the Binding Pocket Entrance', fontsize=16)\n",
        "plt.xlabel(f'PC1 ({explained_variance[0]*100:.1f}%)', fontsize=12)\n",
        "plt.ylabel(f'PC2 ({explained_variance[1]*100:.1f}%)', fontsize=12)\n",
        "cbar = plt.colorbar(scatter)\n",
        "cbar.set_label('C1-C6 Distance (Å)', fontsize=12)\n",
        "plt.grid(True, linestyle='--', alpha=0.5)\n",
        "plt.show()\n",
        "\n",
        "```\n",
        "\n",
        "</details>"
      ],
      "metadata": {
        "id": "-hDDETHf_PFR"
      },
      "id": "-hDDETHf_PFR"
    },
    {
      "cell_type": "markdown",
      "source": [
        "### Exercise 4\n",
        "\n",
        "**Color PCA Map According to Ligand-Pocket Distance**\n",
        "\n",
        "🔍 **Solution (Hidden - Expand to see the answer)**\n",
        "\n",
        "<details>\n",
        "<summary>Click here to see the solution after you've tried exploring the functions</summary>\n",
        "\n",
        "\n",
        "**Color PCA Map According to Ligand-Pocket Distance:**\n",
        "\n",
        "```\n",
        "# Create the PCA plot colored by the ligand-pocket distance\n",
        "plt.figure(figsize=(12, 10))\n",
        "\n",
        "# The color 'c' is now the 'Distance' column from our combined DataFrame\n",
        "scatter = plt.scatter(combined_projected_distances[:, 0],\n",
        "                      combined_projected_distances[:, 1],\n",
        "                      c=combined_df_ligtopocket['Distance'],\n",
        "                      cmap='viridis',\n",
        "                      s=10,\n",
        "                      alpha=0.9)\n",
        "\n",
        "# Add labels, title, and a color bar\n",
        "explained_variance = pca.explained_variance_ratio_\n",
        "plt.title('PCA Colored by Ligand-Pocket Distance', fontsize=16)\n",
        "plt.xlabel(f'PC1 ({explained_variance[0]*100:.1f}%)', fontsize=12)\n",
        "plt.ylabel(f'PC2 ({explained_variance[1]*100:.1f}%)', fontsize=12)\n",
        "cbar = plt.colorbar(scatter)\n",
        "cbar.set_label('C1-C6 Distance (Å)', fontsize=12)\n",
        "plt.grid(True, linestyle='--', alpha=0.5)\n",
        "plt.show()\n",
        "\n",
        "```\n",
        "\n",
        "</details>"
      ],
      "metadata": {
        "id": "nXmyW0_V6aUf"
      },
      "id": "nXmyW0_V6aUf"
    }
  ],
  "metadata": {
    "kernelspec": {
      "display_name": "Molecular Visualization",
      "language": "python",
      "name": "mol_viz"
    },
    "language_info": {
      "codemirror_mode": {
        "name": "ipython",
        "version": 3
      },
      "file_extension": ".py",
      "mimetype": "text/x-python",
      "name": "python",
      "nbconvert_exporter": "python",
      "pygments_lexer": "ipython3",
      "version": "3.13.2"
    },
    "colab": {
      "provenance": [],
      "include_colab_link": true
    }
  },
  "nbformat": 4,
  "nbformat_minor": 5
}