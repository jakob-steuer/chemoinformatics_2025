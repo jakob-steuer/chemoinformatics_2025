{
  "nbformat": 4,
  "nbformat_minor": 0,
  "metadata": {
    "colab": {
      "provenance": [],
      "toc_visible": true
    },
    "kernelspec": {
      "name": "python3",
      "display_name": "Python 3"
    },
    "language_info": {
      "name": "python"
    }
  },
  "cells": [
    {
      "cell_type": "markdown",
      "source": [
        "# Chemoinformatics: Molecular Graphs"
      ],
      "metadata": {
        "id": "X0SLjHVm-NcE"
      }
    },
    {
      "cell_type": "markdown",
      "source": [
        "## Preparation"
      ],
      "metadata": {
        "id": "zMOBorqh-jK6"
      }
    },
    {
      "cell_type": "code",
      "execution_count": null,
      "metadata": {
        "id": "WCJqRii8-MCD"
      },
      "outputs": [],
      "source": [
        "pip install rdkit networkx matplotlib"
      ]
    },
    {
      "cell_type": "code",
      "source": [
        "import rdkit\n",
        "from rdkit import Chem\n",
        "from rdkit.Chem import Draw\n",
        "import networkx as nx\n",
        "import matplotlib.pyplot as plt\n",
        "import pandas as pd"
      ],
      "metadata": {
        "id": "ituZ9Tkt-tK_"
      },
      "execution_count": null,
      "outputs": []
    },
    {
      "cell_type": "markdown",
      "source": [
        "## Build a Molecular Graph"
      ],
      "metadata": {
        "id": "WXTl11hp-p7_"
      }
    },
    {
      "cell_type": "markdown",
      "source": [
        "### Build a Simple Molecular Graph"
      ],
      "metadata": {
        "id": "5HKVmiXS_J48"
      }
    },
    {
      "cell_type": "code",
      "source": [
        "# 1. Define the molecule using its SMILES string\n",
        "aspirin_smiles = \"CC(=O)OC1=CC=CC=C1C(=O)O\"\n",
        "mol = Chem.MolFromSmiles(aspirin_smiles)\n",
        "\n",
        "# Add hydrogen atoms to the molecule for a complete graph\n",
        "mol = Chem.AddHs(mol)\n",
        "\n",
        "# 2. Create a NetworkX graph\n",
        "G = nx.Graph()\n",
        "\n",
        "# 3. Add nodes (atoms) to the graph\n",
        "for atom in mol.GetAtoms():\n",
        "    G.add_node(atom.GetIdx(),\n",
        "               atomic_symbol=atom.GetSymbol(),\n",
        "               atomic_num=atom.GetAtomicNum())\n",
        "\n",
        "# 4. Add edges (bonds) to the graph\n",
        "for bond in mol.GetBonds():\n",
        "    G.add_edge(bond.GetBeginAtomIdx(),\n",
        "               bond.GetEndAtomIdx(),\n",
        "               bond_type=bond.GetBondType())"
      ],
      "metadata": {
        "id": "sY3FgWeo-b5P"
      },
      "execution_count": null,
      "outputs": []
    },
    {
      "cell_type": "code",
      "source": [
        "# Visualize the graph\n",
        "# Get labels for nodes (atomic symbols)\n",
        "labels = nx.get_node_attributes(G, 'atomic_symbol')\n",
        "# Set node positions using a layout algorithm for better visualization\n",
        "pos = nx.spring_layout(G, seed=42)\n",
        "\n",
        "plt.figure(figsize=(10, 7))\n",
        "nx.draw(G, pos, labels=labels, with_labels=True, node_color='lightblue',\n",
        "        node_size=500, font_size=10, font_weight='bold', edge_color='gray')\n",
        "\n",
        "plt.title(\"Molecular Graph of Aspirin\", fontsize=16)\n",
        "plt.show()"
      ],
      "metadata": {
        "id": "AynNJbkt-mGA"
      },
      "execution_count": null,
      "outputs": []
    },
    {
      "cell_type": "markdown",
      "source": [
        "### Going Further: Creating a Weighted Graph\n",
        "\n",
        "We can easily extend this to create a weighted graph where the edge weight corresponds to the bond order (single, double, aromatic, etc.)."
      ],
      "metadata": {
        "id": "WUzwPSsu_GZJ"
      }
    },
    {
      "cell_type": "code",
      "source": [
        "# (Code from steps 1-3 is the same)\n",
        "mol_weighted = Chem.MolFromSmiles(aspirin_smiles)\n",
        "G_weighted = nx.Graph()\n",
        "\n",
        "for atom in mol_weighted.GetAtoms():\n",
        "    G_weighted.add_node(atom.GetIdx(), atomic_symbol=atom.GetSymbol())\n",
        "\n",
        "# Add weighted edges\n",
        "for bond in mol_weighted.GetBonds():\n",
        "    # Get the bond type as a number (e.g., 1.0 for SINGLE, 2.0 for DOUBLE)\n",
        "    bond_order = bond.GetBondTypeAsDouble()\n",
        "    G_weighted.add_edge(bond.GetBeginAtomIdx(),\n",
        "                        bond.GetEndAtomIdx(),\n",
        "                        weight=bond_order)"
      ],
      "metadata": {
        "id": "SEkBu9GQ-9Rq"
      },
      "execution_count": null,
      "outputs": []
    },
    {
      "cell_type": "code",
      "source": [
        "# Visualize with edge labels showing the weight\n",
        "pos = nx.spring_layout(G_weighted, seed=42)\n",
        "node_labels = nx.get_node_attributes(G_weighted, 'atomic_symbol')\n",
        "edge_labels = nx.get_edge_attributes(G_weighted, 'weight')\n",
        "\n",
        "plt.figure(figsize=(10, 7))\n",
        "nx.draw(G_weighted, pos, labels=node_labels, with_labels=True, node_color='lightgreen', node_size=500)\n",
        "nx.draw_networkx_edge_labels(G_weighted, pos, edge_labels=edge_labels)\n",
        "plt.title(\"Weighted Molecular Graph of Aspirin (Bond Order)\", fontsize=16)\n",
        "plt.show()"
      ],
      "metadata": {
        "id": "eUGDKHWG_TI1"
      },
      "execution_count": null,
      "outputs": []
    },
    {
      "cell_type": "code",
      "source": [],
      "metadata": {
        "id": "jSDAjmgZ_XLN"
      },
      "execution_count": null,
      "outputs": []
    },
    {
      "cell_type": "markdown",
      "source": [
        "### Exercise 1: Analyze a Different Molecule\n",
        "\n",
        "Repeat the graph construction and visualization process for caffeine. How does its graph structure differ from aspirin's?\n",
        "\n",
        "Hint: you can find out the SMILES String for caffeine using e.g. Wikipedia"
      ],
      "metadata": {
        "id": "j_5Gp6JoAkSD"
      }
    },
    {
      "cell_type": "markdown",
      "source": [
        "#### 🔍 Solution (Hidden - Expand to see the answer)\n",
        "\n",
        "<details>\n",
        "<summary>Click here to see the solution after you've tried exploring the functions</summary>\n",
        "\n",
        "Caffeine SMILES: CN1C=NC2=C1C(=O)N(C(=O)N2C)C\n",
        "\n",
        "```import rdkit\n",
        "from rdkit import Chem\n",
        "import networkx as nx\n",
        "import matplotlib.pyplot as plt\n",
        "\n",
        "# 1. Define the caffeine molecule using its SMILES string\n",
        "caffeine_smiles = \"CN1C=NC2=C1C(=O)N(C(=O)N2C)C\"\n",
        "mol = Chem.MolFromSmiles(caffeine_smiles)\n",
        "mol = Chem.AddHs(mol) # Add hydrogens for a complete graph\n",
        "\n",
        "# 2. Create a NetworkX graph\n",
        "G_caffeine = nx.Graph()\n",
        "\n",
        "# 3. Add nodes (atoms) to the graph\n",
        "for atom in mol.GetAtoms():\n",
        "    G_caffeine.add_node(atom.GetIdx(),\n",
        "                        atomic_symbol=atom.GetSymbol())\n",
        "\n",
        "# 4. Add edges (bonds) to the graph\n",
        "for bond in mol.GetBonds():\n",
        "    G_caffeine.add_edge(bond.GetBeginAtomIdx(),\n",
        "                        bond.GetEndAtomIdx())\n",
        "\n",
        "# 5. Visualize the graph\n",
        "labels = nx.get_node_attributes(G_caffeine, 'atomic_symbol')\n",
        "pos = nx.spring_layout(G_caffeine, seed=42)\n",
        "\n",
        "plt.figure(figsize=(10, 7))\n",
        "nx.draw(G_caffeine, pos, labels=labels, with_labels=True, node_color='lightcoral',\n",
        "        node_size=500, font_size=10, font_weight='bold', edge_color='gray')\n",
        "\n",
        "plt.title(\"Molecular Graph of Caffeine\", fontsize=16)\n",
        "plt.show()\n",
        "```\n",
        "\n",
        "</details>"
      ],
      "metadata": {
        "id": "CTSHZXrWAv_v"
      }
    },
    {
      "cell_type": "markdown",
      "source": [
        "### Exercise 2: Color Nodes by Element\n",
        "\n",
        "Modify the visualization code to color the nodes based on their element. This is standard practice for chemical drawings.\n",
        "\n",
        "Hint: Create a color map dictionary (e.g., {'C': 'gray', 'O': 'red', 'N': 'blue'}). Then, create a list of colors corresponding to the nodes in your graph and pass it to the node_color argument in nx.draw()."
      ],
      "metadata": {
        "id": "BN78688FBph8"
      }
    },
    {
      "cell_type": "markdown",
      "source": [
        "#### 🔍 Solution (Hidden - Expand to see the answer)\n",
        "\n",
        "<details>\n",
        "<summary>Click here to see the solution after you've tried exploring the functions</summary>\n",
        "\n",
        "```\n",
        "# Create the aspirin molecule and graph as before\n",
        "aspirin_smiles = \"CC(=O)OC1=CC=CC=C1C(=O)O\"\n",
        "mol = Chem.MolFromSmiles(aspirin_smiles)\n",
        "G_aspirin = nx.Graph()\n",
        "\n",
        "for atom in mol.GetAtoms():\n",
        "    G_aspirin.add_node(atom.GetIdx(), atomic_symbol=atom.GetSymbol())\n",
        "\n",
        "for bond in mol.GetBonds():\n",
        "    G_aspirin.add_edge(bond.GetBeginAtomIdx(), bond.GetEndAtomIdx())\n",
        "\n",
        "# --- Solution for Exercise 2 ---\n",
        "# 1. Define a color map for common elements\n",
        "color_map = {'C': '#606060', 'O': '#E60000', 'N': '#0082E6', 'H': '#CCCCCC'}\n",
        "\n",
        "# 2. Create a list of colors for each node in the graph\n",
        "node_colors = []\n",
        "for node in G_aspirin.nodes(data=True):\n",
        "    symbol = node[1]['atomic_symbol']\n",
        "    node_colors.append(color_map.get(symbol, 'pink')) # Default to pink if element not in map\n",
        "\n",
        "# 3. Visualize the graph with the specified node colors\n",
        "labels = nx.get_node_attributes(G_aspirin, 'atomic_symbol')\n",
        "pos = nx.spring_layout(G_aspirin, seed=42)\n",
        "\n",
        "plt.figure(figsize=(10, 7))\n",
        "# Use the node_colors list for the node_color argument\n",
        "nx.draw(G_aspirin, pos, labels=labels, with_labels=True, node_color=node_colors,\n",
        "        node_size=500, font_size=10, font_weight='bold', edge_color='gray',\n",
        "        edgecolors='black') # Add a black edge to nodes for clarity\n",
        "\n",
        "plt.title(\"Aspirin Graph with Nodes Colored by Element\", fontsize=16)\n",
        "plt.show()\n",
        "```\n",
        "\n",
        "</details>"
      ],
      "metadata": {
        "id": "Db_UgrqNBph9"
      }
    },
    {
      "cell_type": "markdown",
      "source": [
        "## Calculate Graph Metrics\n",
        "\n",
        "Using the generated NetworkX graph for aspirin, we can calculate and print the following:\n",
        "\n",
        "The degree of each atom (which corresponds to its valency or number of connections).\n",
        "\n",
        "The shortest path between the two oxygen atoms in the carboxylic acid group (-C(=O)O)."
      ],
      "metadata": {
        "id": "a6e1g-X8CHZ5"
      }
    },
    {
      "cell_type": "code",
      "source": [
        "# Create the aspirin molecule and graph (without hydrogens for simplicity)\n",
        "aspirin_smiles = \"CC(=O)OC1=CC=CC=C1C(=O)O\"\n",
        "mol = Chem.MolFromSmiles(aspirin_smiles)\n",
        "G_aspirin_heavy = nx.Graph()\n",
        "\n",
        "for atom in mol.GetAtoms():\n",
        "    G_aspirin_heavy.add_node(atom.GetIdx(), atomic_symbol=atom.GetSymbol())\n",
        "for bond in mol.GetBonds():\n",
        "    G_aspirin_heavy.add_edge(bond.GetBeginAtomIdx(), bond.GetEndAtomIdx())\n",
        "\n",
        "# Calculate and print the degree of each atom (valency)\n",
        "print(\"--- Atom Degrees (Valency) ---\")\n",
        "for node_idx, degree in G_aspirin_heavy.degree():\n",
        "    symbol = G_aspirin_heavy.nodes[node_idx]['atomic_symbol']\n",
        "    print(f\"Atom {node_idx} ({symbol}): Degree = {degree}\")\n",
        "\n",
        "# Find the shortest path between the two carboxylic acid oxygens\n",
        "print(\"\\n--- Shortest Path Calculation ---\")\n",
        "# Find the indices of the carboxylic acid atoms: C, O, O\n",
        "# The C is bonded to the ring and to two Os.\n",
        "cooh_atoms = {}\n",
        "for atom in mol.GetAtoms():\n",
        "    if atom.GetSymbol() == 'C':\n",
        "        # Check if this C is part of a carboxylic acid\n",
        "        o_neighbors = [n for n in atom.GetNeighbors() if n.GetSymbol() == 'O']\n",
        "        if len(o_neighbors) == 2:\n",
        "            cooh_atoms['C'] = atom.GetIdx()\n",
        "            cooh_atoms['O1'] = o_neighbors[0].GetIdx()\n",
        "            cooh_atoms['O2'] = o_neighbors[1].GetIdx()\n",
        "            break # Found our group\n",
        "\n",
        "if cooh_atoms:\n",
        "    o1_idx, o2_idx = cooh_atoms['O1'], cooh_atoms['O2']\n",
        "\n",
        "    # Calculate shortest path using NetworkX\n",
        "    path = nx.shortest_path(G_aspirin_heavy, source=o1_idx, target=o2_idx)\n",
        "\n",
        "    # Format path for printing\n",
        "    path_symbols = [G_aspirin_heavy.nodes[i]['atomic_symbol'] for i in path]\n",
        "    path_str = \" -> \".join([f\"{idx}({sym})\" for idx, sym in zip(path, path_symbols)])\n",
        "\n",
        "    print(f\"The carboxylic acid oxygens are at indices: {o1_idx} and {o2_idx}\")\n",
        "    print(f\"The shortest path between them is: {path_str}\")\n",
        "    print(f\"Path length: {len(path) - 1} bonds\")\n",
        "else:\n",
        "    print(\"Could not identify the carboxylic acid group automatically.\")"
      ],
      "metadata": {
        "id": "4FN_M44i_7hq"
      },
      "execution_count": null,
      "outputs": []
    },
    {
      "cell_type": "markdown",
      "source": [
        "This script will perform the subgraph isomorphism test for each molecule in the database and then generate an image highlighting the matches.\n",
        "\n"
      ],
      "metadata": {
        "id": "vFtcPvFxCGZU"
      }
    },
    {
      "cell_type": "markdown",
      "source": [
        "## Subgraph Isomorphism Task\n",
        "\n",
        "In the following, we will perform a subgraph isomorphism test for each molecule in a database and then generate an image highlighting the matches.\n",
        "\n",
        "**The Problem: Finding a Pharmacophore**\n",
        "\n",
        "A pharmacophore is a part of a molecule's structure that is responsible for its biological activity. A common and important pharmacophore is the phenylsulfonamide group.\n",
        "\n",
        "**The Task**:\n",
        "\n",
        "We write a Python script to search a small \"database\" of drug molecules and identify which ones contain the phenylsulfonamide substructure. For each match, we will visualize the molecule with the pharmacophore highlighted.\n",
        "\n",
        "**Setup:**\n",
        "\n",
        "Query Graph: The phenylsulfonamide substructure.\n",
        "\n",
        "We'll represent this using a SMARTS string: c1ccc(S(=O)(=O)N)cc1.\n",
        "\n",
        "\"Database\": A list of three molecules represented by their SMILES strings."
      ],
      "metadata": {
        "id": "u1t3kyZzFUBc"
      }
    },
    {
      "cell_type": "code",
      "source": [
        "from rdkit import Chem\n",
        "from rdkit.Chem import Draw\n",
        "\n",
        "# The query substructure (phenylsulfonamide) as a SMARTS string\n",
        "query_smarts = \"c1ccc(S(=O)(=O)N)cc1\"\n",
        "\n",
        "# Convert the SMARTS string into a query molecule object\n",
        "query_mol = Chem.MolFromSmarts(query_smarts)\n",
        "query_mol.SetProp(\"_Name\", \"Query: Phenylsulfonamide\")\n",
        "\n",
        "print(\"--- Visualizing the Query Substructure ---\")\n",
        "\n",
        "# Draw the molecule. MolsToGridImage is used here for consistency,\n",
        "# but Draw.MolToImage would also work for a single molecule.\n",
        "img = Draw.MolsToGridImage(\n",
        "    [query_mol],\n",
        "    molsPerRow=1,\n",
        "    subImgSize=(300, 300),\n",
        "    legends=[query_mol.GetProp(\"_Name\")] # Use the property as a legend\n",
        ")\n",
        "\n",
        "# Display the image in Jupyter by making it the last line of the cell\n",
        "img"
      ],
      "metadata": {
        "id": "OGiHcKANRADc"
      },
      "execution_count": null,
      "outputs": []
    },
    {
      "cell_type": "code",
      "source": [
        "# Setup\n",
        "molecule_database = {\n",
        "    \"Sulfanilamide\": \"C1=CC(=CC=C1S(=O)(=O)N)N\",\n",
        "    \"Celecoxib\": \"CC1=CC=C(C=C1)C2=C(C(=NN2)C(F)(F)F)C3=CC=C(C=C3)S(=O)(=O)N\",\n",
        "    \"Aspirin\": \"CC(=O)OC1=CC=CC=C1C(=O)O\"\n",
        "}\n",
        "\n",
        "print(f\"Searching for the phenylsulfonamide substructure...\\n\")\n",
        "\n",
        "# Perform the Isomorphism Test\n",
        "matching_molecules = []\n",
        "matching_indices = []\n",
        "molecule_names = []\n",
        "\n",
        "for name, smiles in molecule_database.items():\n",
        "    mol = Chem.MolFromSmiles(smiles)\n",
        "    if mol.HasSubstructMatch(query_mol):\n",
        "        print(f\"✔️ Match found in: {name}\")\n",
        "        match_idx = mol.GetSubstructMatch(query_mol)\n",
        "        matching_molecules.append(mol)\n",
        "        matching_indices.append(match_idx)\n",
        "        molecule_names.append(name)\n",
        "    else:\n",
        "        print(f\"❌ No match in: {name}\")\n",
        "\n",
        "# Create the Image Object\n",
        "if matching_molecules:\n",
        "    img = Draw.MolsToGridImage(\n",
        "        matching_molecules,\n",
        "        molsPerRow=2,\n",
        "        subImgSize=(300, 300),\n",
        "        legends=molecule_names,\n",
        "        highlightAtomLists=matching_indices\n",
        "    )\n",
        "    print(\"\\nImage object created. Display it by running the 'img' variable in the next cell.\")"
      ],
      "metadata": {
        "id": "FeM7UCTnF_I3"
      },
      "execution_count": null,
      "outputs": []
    },
    {
      "cell_type": "code",
      "source": [
        "img"
      ],
      "metadata": {
        "id": "Gi97bOupG30L"
      },
      "execution_count": null,
      "outputs": []
    },
    {
      "cell_type": "markdown",
      "source": [
        "**Subgraph Isomorphism**: This exercise solves the subgraph isomorphism problem, which is far more common in chemistry than strict graph isomorphism. We aren't asking \"Is this molecule identical to our query?\" but rather \"Does this molecule contain our query's structure?\"\n",
        "\n",
        "**SMILES vs. SMARTS**: We used SMILES to represent specific, concrete molecules. We used SMARTS to define the query, as it's a language designed to represent abstract structural patterns. For example, c in SMARTS matches any aromatic carbon, making it more general than C in SMILES.\n",
        "\n",
        "**The VF2 Algorithm**: RDKit's substructure matching is powered by a highly efficient algorithm, typically a variation of the VF2 algorithm, which is designed to solve graph isomorphism problems much faster than a brute-force approach."
      ],
      "metadata": {
        "id": "x99y4ND8HRMj"
      }
    },
    {
      "cell_type": "markdown",
      "source": [
        "## Analyzing Drug-Target Networks with Bipartite Graphs\n",
        "\n",
        "In chemoinformatics and pharmacology, we often deal with \"two-mode\" networks where one set of items (like drugs) interacts with another set of items (like protein targets). A simple graph isn't the right tool, because we're not modeling drug-drug or target-target interactions directly.\n",
        "\n",
        "A bipartite graph is the perfect model for this. It's a graph whose nodes can be divided into two distinct sets, and edges only connect nodes from different sets.\n",
        "\n",
        "\n",
        "\n"
      ],
      "metadata": {
        "id": "MloKQQELtxxq"
      }
    },
    {
      "cell_type": "markdown",
      "source": [
        "In the following figure, the interaction graph (yellow) represents a bipartite graph of the two distinct protein and ligand graphs.\n",
        "\n",
        "<img src=\"https://www.biorxiv.org/content/biorxiv/early/2022/08/21/2022.08.19.504617/F1.large.jpg?width=800&height=600&carousel=1\" width=\"50%\">\n",
        "\n",
        "From: Xia, C., Feng, S.-H., Xia, Y., Pan, X., & Shen, H.-B. (2022). Leveraging Scaffold Information to Predict Protein-ligand Binding Affinity with an Empirical Graph Neural Network. Cold Spring Harbor Laboratory. https://doi.org/10.1101/2022.08.19.504617"
      ],
      "metadata": {
        "id": "AQ_IUF5Hw2AY"
      }
    },
    {
      "cell_type": "markdown",
      "source": [
        "In our case:\n",
        "\n",
        "Set U: Drugs\n",
        "\n",
        "Set V: Protein Targets\n",
        "\n",
        "Edges: Represent a known interaction (e.g., a drug binds to a target).\n",
        "\n",
        "We will investigate how to build and analyze such a network to uncover interesting relationships."
      ],
      "metadata": {
        "id": "EiSASEbxw170"
      }
    },
    {
      "cell_type": "code",
      "source": [
        "# Let's create a small, illustrative dataset of drug-target interactions.\n",
        "# In a real-world scenario, this would come from a database like DrugBank or ChEMBL.\n",
        "data = {\n",
        "    'drug': ['Drug A', 'Drug B', 'Drug C', 'Drug D', 'Drug E'],\n",
        "    'target': ['EGFR', 'EGFR', 'HER2', 'CDK2', 'CDK2']\n",
        "}\n",
        "# Add some polypharmacology (drugs hitting multiple targets)\n",
        "data['drug'].extend(['Drug B', 'Drug D'])\n",
        "data['target'].extend(['HER2', 'VEGFR'])\n",
        "\n",
        "interaction_df = pd.DataFrame(data)\n",
        "print(\"Our Drug-Target Interaction Data:\")\n",
        "print(interaction_df)"
      ],
      "metadata": {
        "id": "N5xg5WviHWzQ"
      },
      "execution_count": null,
      "outputs": []
    },
    {
      "cell_type": "markdown",
      "source": [
        "### Building and Visualizing the Bipartite Graph\n",
        "\n",
        "Now, we'll create a networkx graph. It's crucial that we tell networkx which nodes are drugs and which are targets. We do this by adding a bipartite attribute to each node."
      ],
      "metadata": {
        "id": "COqoIKH1uSlB"
      }
    },
    {
      "cell_type": "code",
      "source": [
        "# Create an empty graph\n",
        "B = nx.Graph()\n",
        "\n",
        "# Get the unique drugs and targets\n",
        "drugs = interaction_df['drug'].unique()\n",
        "targets = interaction_df['target'].unique()\n",
        "\n",
        "# Add nodes with the 'bipartite' attribute\n",
        "B.add_nodes_from(drugs, bipartite=0) # 0 for drugs\n",
        "B.add_nodes_from(targets, bipartite=1) # 1 for targets\n",
        "\n",
        "# Add edges from the dataframe\n",
        "B.add_edges_from(interaction_df.values)\n",
        "\n",
        "# --- Visualize the Bipartite Graph ---\n",
        "# A standard layout won't work well. We need a specific bipartite layout.\n",
        "plt.figure(figsize=(10, 7))\n",
        "\n",
        "# The bipartite_layout positions nodes in two straight lines\n",
        "pos = nx.bipartite_layout(B, nodes=drugs)\n",
        "\n",
        "# Draw the graph\n",
        "nx.draw(B, pos, with_labels=True, node_size=1000, font_weight='bold',\n",
        "        # Color nodes based on their set\n",
        "        node_color=['skyblue' if B.nodes[node]['bipartite']==0 else 'lightgreen' for node in B.nodes])\n",
        "\n",
        "plt.title(\"Drug-Target Bipartite Network\", fontsize=16)\n",
        "plt.show()"
      ],
      "metadata": {
        "id": "KtnSXL5GuI-7"
      },
      "execution_count": null,
      "outputs": []
    },
    {
      "cell_type": "markdown",
      "source": [
        "### Basic Analysis - Who Are the Hubs?\n",
        "\n",
        "A simple but powerful analysis is to check the degree of each node.\n",
        "\n",
        "A drug with a high degree is \"promiscuous\" or polypharmacological—it hits many targets.\n",
        "\n",
        "A target with a high degree is a \"popular\" target, hit by many different drugs."
      ],
      "metadata": {
        "id": "9PK96wDzuZzj"
      }
    },
    {
      "cell_type": "code",
      "source": [
        "# Calculate degrees for each node\n",
        "degrees = dict(B.degree())\n",
        "\n",
        "# Separate drug and target degrees for clarity\n",
        "drug_degrees = {node: deg for node, deg in degrees.items() if node in drugs}\n",
        "target_degrees = {node: deg for node, deg in degrees.items() if node in targets}\n",
        "\n",
        "print(\"--- Drug Promiscuity (Degree) ---\")\n",
        "# Sort by degree for easier interpretation\n",
        "print(sorted(drug_degrees.items(), key=lambda item: item[1], reverse=True))\n",
        "\n",
        "print(\"\\n--- Target Popularity (Degree) ---\")\n",
        "print(sorted(target_degrees.items(), key=lambda item: item[1], reverse=True))"
      ],
      "metadata": {
        "id": "ntwtOdVzuX80"
      },
      "execution_count": null,
      "outputs": []
    },
    {
      "cell_type": "markdown",
      "source": [
        "#### Interpretation:\n",
        "\n",
        "From the output, we can draw clear conclusions:\n",
        "\n",
        "Most Promiscuous Drugs: Drug B and Drug D are tied as the most promiscuous drugs in our network, as each targets 2 different proteins.\n",
        "\n",
        "Most Popular Targets: EGFR, HER2, and CDK2 are tied as the most popular targets. Each of them is targeted by 2 different drugs, making them central hubs in this network."
      ],
      "metadata": {
        "id": "opqIavarvJJU"
      }
    },
    {
      "cell_type": "markdown",
      "source": [
        "### Advanced Analysis - Bipartite Projections\n",
        "\n",
        "This is where the real power of bipartite analysis comes in.\n",
        "\n",
        "We can \"project\" the graph onto one of the node sets to uncover hidden relationships.\n",
        "\n",
        "#### Drug-Similarity Network\n",
        "\n",
        "Let's create a new graph where the nodes are only drugs.\n",
        "\n",
        "An edge will exist between two drugs if they share at least one common target."
      ],
      "metadata": {
        "id": "p8M_Yq4svSxU"
      }
    },
    {
      "cell_type": "code",
      "source": [
        "# Project the bipartite graph onto the drug nodes\n",
        "drug_projection = nx.bipartite.projected_graph(B, nodes=drugs)\n",
        "\n",
        "# Visualize the drug-similarity network\n",
        "plt.figure(figsize=(8, 6))\n",
        "pos_drugs = nx.spring_layout(drug_projection, seed=42)\n",
        "nx.draw(drug_projection, pos_drugs, with_labels=True, node_size=1000,\n",
        "        node_color='skyblue', font_weight='bold')\n",
        "plt.title(\"Projected Drug-Similarity Network\", fontsize=16)\n",
        "plt.show()"
      ],
      "metadata": {
        "id": "WPaqOrVfuiK8"
      },
      "execution_count": null,
      "outputs": []
    },
    {
      "cell_type": "markdown",
      "source": [
        "#### Interpretation:\n",
        "\n",
        "We see an edge between Drug A and Drug B. Why?\n",
        "\n",
        "<details>\n",
        "<summary>Click here to see the solution.</summary>\n",
        "Because they both target EGFR. This suggests they might have a similar mechanism of action or could be studied together. The same logic applies to Drug C and Drug B (sharing HER2).\n",
        "</details>"
      ],
      "metadata": {
        "id": "a48NAGiUvWBe"
      }
    },
    {
      "cell_type": "markdown",
      "source": [
        "### Target-Relationship Network\n",
        "\n",
        "Now, let's do the opposite.\n",
        "\n",
        "We'll create a graph where the nodes are only targets.\n",
        "\n",
        "An edge will exist between two targets if they are hit by the same drug."
      ],
      "metadata": {
        "id": "3XW3coTgwEiW"
      }
    },
    {
      "cell_type": "code",
      "source": [
        "# Project the bipartite graph onto the target nodes\n",
        "target_projection = nx.bipartite.projected_graph(B, nodes=targets)\n",
        "\n",
        "# Visualize the target-relationship network\n",
        "plt.figure(figsize=(8, 6))\n",
        "pos_targets = nx.spring_layout(target_projection, seed=42)\n",
        "nx.draw(target_projection, pos_targets, with_labels=True, node_size=1000,\n",
        "        node_color='lightgreen', font_weight='bold')\n",
        "plt.title(\"Projected Target-Relationship Network\", fontsize=16)\n",
        "plt.show()"
      ],
      "metadata": {
        "id": "UlpGVu0SvWNg"
      },
      "execution_count": null,
      "outputs": []
    },
    {
      "cell_type": "markdown",
      "source": [
        "#### Interpretation:\n",
        "\n",
        "We see an edge between EGFR and HER2. Why?\n",
        "\n",
        "<details>\n",
        "<summary>Click here to see the solution.</summary>\n",
        "Because they are both targeted by Drug B.\n",
        "\n",
        "In reality, EGFR and HER2 are part of the same family of receptor tyrosine kinases, so this relationship is chemically and biologically meaningful.\n",
        "\n",
        "This type of analysis can help uncover potential pathway connections or suggest that drugs hitting one target might also affect the other.\n",
        "</details>"
      ],
      "metadata": {
        "id": "7Pfyp78yvfA8"
      }
    }
  ]
}