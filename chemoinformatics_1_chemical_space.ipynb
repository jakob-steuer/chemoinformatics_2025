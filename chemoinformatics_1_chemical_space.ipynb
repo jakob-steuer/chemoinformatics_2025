{
  "nbformat": 4,
  "nbformat_minor": 0,
  "metadata": {
    "colab": {
      "provenance": [],
      "toc_visible": true
    },
    "kernelspec": {
      "name": "python3",
      "display_name": "Python 3"
    },
    "language_info": {
      "name": "python"
    }
  },
  "cells": [
    {
      "cell_type": "markdown",
      "source": [
        "**Note**:\n",
        "\n",
        "This Notebook is inspired by the following post:\n",
        "\n",
        "https://practicalcheminformatics.blogspot.com/2019/11/visualizing-chemical-space.html\n",
        "\n",
        "Created with Google Gemini v2.5 Pro"
      ],
      "metadata": {
        "id": "-aiVKAP9WR_e"
      }
    },
    {
      "cell_type": "markdown",
      "source": [
        "# Chemoinformatics: Chemical Space\n",
        "\n",
        "In this notebook, we will explore the concept of chemical space.\n",
        "\n",
        "We'll represent a set of molecules numerically using Morgan fingerprints and then use Principal Component Analysis (PCA) to reduce the high-dimensional data into a 2D plot.\n",
        "\n",
        "This will allow us to visually identify which molecules are structurally related."
      ],
      "metadata": {
        "id": "b7cLJgVAVB0c"
      }
    },
    {
      "cell_type": "markdown",
      "source": [
        "## Preparation\n",
        "\n",
        "First, let's make sure we have the necessary libraries and set up our environment.\n",
        "\n",
        "We'll also need the `%matplotlib` inline command to ensure our plots display correctly in Jupyter."
      ],
      "metadata": {
        "id": "cNUg_umKVFXC"
      }
    },
    {
      "cell_type": "code",
      "source": [
        "pip install rdkit networkx matplotlib"
      ],
      "metadata": {
        "id": "DYlUD0fyViCB"
      },
      "execution_count": null,
      "outputs": []
    },
    {
      "cell_type": "code",
      "execution_count": null,
      "metadata": {
        "id": "4usSQWLnUojd"
      },
      "outputs": [],
      "source": [
        "# Make sure plots appear in the notebook\n",
        "%matplotlib inline\n",
        "\n",
        "# Import necessary libraries\n",
        "import numpy as np\n",
        "from rdkit import Chem\n",
        "from rdkit.Chem import AllChem, Draw\n",
        "from sklearn.decomposition import PCA\n",
        "import matplotlib.pyplot as plt"
      ]
    },
    {
      "cell_type": "markdown",
      "source": [
        "## Define Our Molecule Dataset\n",
        "\n",
        "Instead of a large dataset, we'll use a hand-picked set of 9 molecules.\n",
        "\n",
        "This set includes a series of simple alcohols, some aromatic compounds, and two more complex drug molecules.\n",
        "\n",
        "This should create some clear separation in the low-dimensional representation."
      ],
      "metadata": {
        "id": "iU-c6XoLVPLW"
      }
    },
    {
      "cell_type": "code",
      "source": [
        "# A curated dictionary of molecules {name: SMILES}\n",
        "molecule_dict = {\n",
        "    # Alcohols\n",
        "    \"Methanol\": \"CO\",\n",
        "    \"Ethanol\": \"CCO\",\n",
        "    \"Propanol\": \"CCCO\",\n",
        "\n",
        "    # Aromatics\n",
        "    \"Benzene\": \"c1ccccc1\",\n",
        "    \"Toluene\": \"Cc1ccccc1\",\n",
        "    \"Phenol\": \"c1ccc(O)cc1\",\n",
        "\n",
        "    # Common Drugs\n",
        "    \"Aspirin\": \"CC(=O)OC1=CC=CC=C1C(=O)O\",\n",
        "    \"Caffeine\": \"CN1C=NC2=C1C(=O)N(C(=O)N2C)C\",\n",
        "    \"Paracetamol\": \"CC(=O)NC1=CC=C(O)C=C1\"\n",
        "}\n",
        "\n",
        "# Create RDKit molecule objects and store them\n",
        "mols = [Chem.MolFromSmiles(smiles) for smiles in molecule_dict.values()]\n",
        "mol_names = list(molecule_dict.keys())\n",
        "\n",
        "# Let's see our molecules\n",
        "Draw.MolsToGridImage(mols, legends=mol_names, molsPerRow=3)"
      ],
      "metadata": {
        "id": "MAxa-ScBVpPl"
      },
      "execution_count": null,
      "outputs": []
    },
    {
      "cell_type": "markdown",
      "source": [
        "## Generate Molecular Fingerprints\n",
        "\n",
        "Now, we need to convert these chemical structures into a format a machine learning algorithm can understand: numbers.\n",
        "\n",
        "Before we generate these numbers, it's important to understand what a molecular fingerprint is.\n",
        "\n",
        "Think of it like a barcode for a molecule. It's a compact, digital representation that summarizes the molecule's structure. Most fingerprints are bit vectors, which are simply long arrays of 0s and 1s.\n",
        "\n",
        "Each position (or \"bit\") in the array corresponds to a specific structural feature.\n",
        "\n",
        "If the molecule has that feature, the bit is 1.\n",
        "\n",
        "If it doesn't have the feature, the bit is 0.\n",
        "\n",
        "This allows a computer to quickly compare molecules by just comparing their barcodes."
      ],
      "metadata": {
        "id": "qFrYEBG9VyBt"
      }
    },
    {
      "cell_type": "markdown",
      "source": [
        "**Morgan Fingerprints**\n",
        "We will use Morgan fingerprints (a type of circular fingerprint) for this. Each molecule will be represented as a long vector (a list of 0s and 1s) of a fixed length (e.g., 2048 bits).\n",
        "<details>\n",
        "<summary>Additional Information</summary>\n",
        "\n",
        "The Morgan fingerprint, a type of **Extended-Connectivity Fingerprint (ECFP)**, is one of the most effective and widely used types. It works by identifying circular substructures around each atom.\n",
        "\n",
        "Atom Identifiers: Initially, each atom is described by its properties (like atomic number, connections, etc.).\n",
        "\n",
        "Iterative Growth: The algorithm then \"grows\" outward. In each iteration (defined by a radius), it captures a larger circular neighborhood around every atom. The identifier for this new, larger fragment includes the information from all the atoms within that radius.\n",
        "\n",
        "Hashing and Folding: Each unique fragment identifier is processed by a \"hashing function\" that converts it into a number. This number determines which bit in the final vector gets switched to 1. To keep the fingerprint at a fixed length (e.g., 2048 bits), the output of the hash function is \"folded\" to fit within this size.\n",
        "\n",
        "**What are the 2048 dimensions?**\n",
        "\n",
        "The 2048 dimensions are the bits in our final, fixed-length vector. Crucially, due to the hashing and folding process explained above, each bit does not represent one single, human-readable feature. Instead, each bit can be activated by one or more different circular substructures that happen to hash to the same position. This is a trade-off that makes fingerprints very fast and efficient, even if it makes them a bit harder to interpret directly.\n",
        "<details>"
      ],
      "metadata": {
        "id": "3p3Pv0ePlxx-"
      }
    },
    {
      "cell_type": "code",
      "source": [
        "# Generate Morgan fingerprints for each molecule\n",
        "# Radius 2 is standard (ECFP4), nBits is the length of the vector\n",
        "fp_list = []\n",
        "bitinfo_list = [] # We'll store bit info here for later analysis\n",
        "for mol in mols:\n",
        "    bitinfo = {}\n",
        "    fp = AllChem.GetMorganFingerprintAsBitVect(mol, 2, nBits=2048, bitInfo=bitinfo)\n",
        "    fp_list.append(fp)\n",
        "    bitinfo_list.append(bitinfo)\n",
        "\n",
        "# Convert the RDKit explicit bit vectors into a NumPy array\n",
        "np_fps = np.array(fp_list)\n",
        "\n",
        "print(f\"Shape of our fingerprint matrix: {np_fps.shape}\")\n",
        "print(\"This means we have 9 molecules, each described by 2048 features (bits).\")"
      ],
      "metadata": {
        "id": "9p7MGGbSVtKf"
      },
      "execution_count": null,
      "outputs": []
    },
    {
      "cell_type": "markdown",
      "source": [
        "## Reduce Dimensions with PCA\n",
        "\n",
        "Our data has 2048 dimensions, which is impossible to visualize directly. We'll use Principal Component Analysis (PCA) to find the two most important \"principal components\" that capture the most variance in the data. This effectively projects our 2048D data down to 2D."
      ],
      "metadata": {
        "id": "EzIIdq8BXNZ2"
      }
    },
    {
      "cell_type": "code",
      "source": [
        "# Initialize PCA to find the top 2 principal components\n",
        "pca = PCA(n_components=2)\n",
        "\n",
        "# Fit and transform the fingerprint data\n",
        "crds = pca.fit_transform(np_fps)\n",
        "\n",
        "print(f\"Shape of our new coordinate matrix: {crds.shape}\")\n",
        "print(\"The data has been successfully projected from 2048D to 2D.\")"
      ],
      "metadata": {
        "id": "3mlvVN19XDSu"
      },
      "execution_count": null,
      "outputs": []
    },
    {
      "cell_type": "markdown",
      "source": [
        "## Inspecting the Explained Variance\n",
        "\n",
        "Before we plot our 2D chemical space, let's check how much of the original information (variance) is captured by our two principal components. This tells us how faithfully our 2D map represents the full 2048-dimensional reality."
      ],
      "metadata": {
        "id": "YVFdv2OMYWkp"
      }
    },
    {
      "cell_type": "code",
      "source": [
        "# The pca object stores the explained variance ratio for each component\n",
        "explained_variance = pca.explained_variance_ratio_\n",
        "\n",
        "print(f\"Variance explained by PC1: {explained_variance[0]:.2%}\")\n",
        "print(f\"Variance explained by PC2: {explained_variance[1]:.2%}\")\n",
        "print(f\"Total variance explained by the first two components: {explained_variance.sum():.2%}\")\n",
        "\n",
        "# Create a Scree Plot to visualize the explained variance\n",
        "plt.figure(figsize=(8, 5))\n",
        "# Bar plot for individual variance\n",
        "plt.bar(range(len(explained_variance)), explained_variance, alpha=0.7, align='center',\n",
        "        label='Individual explained variance')\n",
        "# Line plot for cumulative variance\n",
        "plt.plot(range(len(explained_variance)), np.cumsum(explained_variance), 'r-o',\n",
        "         label='Cumulative explained variance')\n",
        "\n",
        "plt.ylabel('Explained variance ratio')\n",
        "plt.xlabel('Principal component index')\n",
        "plt.xticks(range(len(explained_variance)), [f\"PC{i+1}\" for i in range(len(explained_variance))])\n",
        "plt.title('Scree Plot')\n",
        "plt.legend(loc='best')\n",
        "plt.grid(True)\n",
        "plt.show()"
      ],
      "metadata": {
        "id": "5fagKpQhYZtA"
      },
      "execution_count": null,
      "outputs": []
    },
    {
      "cell_type": "markdown",
      "source": [
        "### Interpretation\n",
        "\n",
        "The explained variance analysis tells you the quality of your projection.\n",
        "\n",
        "For example, if the first two components explain 45% of the variance, it means that your 2D plot, while useful for visualization, has compressed away over half of the structural information.\n",
        "\n",
        "The scree plot is a standard way to visualize this and helps you decide how many components you might need to retain to capture a sufficient amount of information (e.g., you might decide you need 5 components to capture 80% of the variance)."
      ],
      "metadata": {
        "id": "Cxrm3fJHYmdq"
      }
    },
    {
      "cell_type": "markdown",
      "source": [
        "## Visualize the Chemical Space\n",
        "\n",
        "Finally, let's create a scatter plot of our 2D data.\n",
        "\n",
        "Each point will represent a molecule, and its position will be determined by the two principal components.\n",
        "\n",
        "We'll label each point with the molecule's name to see how they are related."
      ],
      "metadata": {
        "id": "vtj1PStYXV0v"
      }
    },
    {
      "cell_type": "code",
      "source": [
        "# Create the scatter plot\n",
        "plt.figure(figsize=(12, 8))\n",
        "x = crds[:, 0] # First principal component\n",
        "y = crds[:, 1] # Second principal component\n",
        "\n",
        "plt.scatter(x, y)\n",
        "\n",
        "# Add labels to each point\n",
        "for i, name in enumerate(mol_names):\n",
        "    plt.text(x[i] + 0.05, y[i] + 0.05, name, fontsize=12)\n",
        "\n",
        "# Add titles and labels\n",
        "plt.title(\"Chemical Space of 9 Molecules (PCA)\", fontsize=16)\n",
        "plt.xlabel(\"Principal Component 1\", fontsize=12)\n",
        "plt.ylabel(\"Principal Component 2\", fontsize=12)\n",
        "plt.grid(True)\n",
        "plt.show()"
      ],
      "metadata": {
        "id": "78YDvod4XQ6a"
      },
      "execution_count": null,
      "outputs": []
    },
    {
      "cell_type": "markdown",
      "source": [
        "### Task 1: How Trustworthy is Our 2D Map?\n",
        "\n",
        "Look at the Plot which shows the explained variance, and then look at our final 2D Chemical Space scatter plot. We have projected 2048-dimensional data onto a simple 2D map.\n",
        "\n",
        "**Your Task:**\n",
        "Critically evaluate this 2D representation.\n",
        "\n",
        "Based on the total explained variance you calculated, what percentage of the original structural information is missing from our 2D map?\n",
        "\n",
        "Does this 2D representation agree with your chemical expectations? Considering the information loss, why can we still be confident that the clear separation between the alcohols and the aromatics along the PC2 axis is a meaningful chemical distinction?\n",
        "\n",
        "The plot only shows PC1 and PC2. What do you hypothesize is the most likely structural difference being represented by PC3 (the largest source of variance not shown on our plot)?"
      ],
      "metadata": {
        "id": "0b1stInArKwM"
      }
    },
    {
      "cell_type": "markdown",
      "source": [
        "## Investigating Feature Importance\n",
        "\n",
        "The PCA plot shows us how the molecules are separated, but not why. Which specific structural features are PC1 and PC2 using to make their decisions?\n",
        "\n",
        "To find out, we can inspect the PCA loadings. The loadings tell us how much each of our original 2048 features (the fingerprint bits) contributes to each principal component. A bit with a large loading (either positive or negative) is highly influential.\n",
        "\n",
        "We can then visualize the substructures that correspond to these highly influential bits."
      ],
      "metadata": {
        "id": "0-R3hj9AnsZe"
      }
    },
    {
      "cell_type": "code",
      "source": [
        "# The loadings are stored in pca.components_\n",
        "# The shape is (n_components, n_features), so (2, 2048) in our case\n",
        "loadings = pca.components_\n",
        "\n",
        "# --- Analyze PC1 ---\n",
        "pc1_loadings = loadings[0]\n",
        "# Get the indices of the bits with the highest absolute influence on PC1\n",
        "influential_bits_pc1 = np.argsort(np.abs(pc1_loadings))[::-1][:5] # Top 5\n",
        "\n",
        "print(\"--- Top 5 Most Influential Substructures for PC1 ---\")\n",
        "# Find which molecule these bits came from and draw the substructures\n",
        "for bit in influential_bits_pc1:\n",
        "    # Find a molecule that has this bit set to 1\n",
        "    for i, fp in enumerate(fp_list):\n",
        "        if fp[int(bit)]:\n",
        "            print(f\"Bit {bit} (from {mol_names[i]})\")\n",
        "            display(Draw.DrawMorganBit(mols[i], int(bit), bitinfo_list[i]))\n",
        "            break"
      ],
      "metadata": {
        "id": "Vu46SB5sn16A"
      },
      "execution_count": null,
      "outputs": []
    },
    {
      "cell_type": "code",
      "source": [
        "# --- Analyze PC2 ---\n",
        "pc2_loadings = loadings[1]\n",
        "# Get the indices of the bits with the highest absolute influence on PC2\n",
        "influential_bits_pc2 = np.argsort(np.abs(pc2_loadings))[::-1][:5] # Top 5\n",
        "\n",
        "print(\"\\n--- Top 5 Most Influential Substructures for PC2 ---\")\n",
        "for bit in influential_bits_pc2:\n",
        "    for i, fp in enumerate(fp_list):\n",
        "        if fp[int(bit)]:\n",
        "            print(f\"Bit {bit} (from {mol_names[i]})\")\n",
        "            display(Draw.DrawMorganBit(mols[i], int(bit), bitinfo_list[i]))\n",
        "            break"
      ],
      "metadata": {
        "id": "b3XN4ETcpBMp"
      },
      "execution_count": null,
      "outputs": []
    },
    {
      "cell_type": "markdown",
      "source": [
        "### Task 2: Explain the Layout of our 2D Chemical Space Plot\n",
        "\n",
        "For each Question below, justify the molecule's position by comparing its chemical structure to its neighbors and the identified important features.\n",
        "\n",
        "**Q1**: The plot shows Caffeine is the most isolated molecule, pushed far out along the PC1 axis. Identify at least two unique structural features of Caffeine that are absent in all other molecules and explain why they make it the primary outlier.\n",
        "\n",
        "**Q2**: Locate Benzene, Toluene, and Phenol. They all share a core benzene ring, yet they are spread out. Explain their specific order on the plot. Why is Toluene much closer to Phenol than Benzene is?\n",
        "\n",
        "**Q3**: The alcohols (Methanol, Ethanol, Propanol) are clustered very tightly. What single, systematically changing feature is responsible for the small separation that does exist between them?\n",
        "\n",
        "**Q4**: Why is the C=O group in caffeine identified as the most important feature in the feature importance. There are C=O groups in e.g. Aspirin and Paracetamol, while the heterocyclic C-N-C motifs are unique to caffeine?"
      ],
      "metadata": {
        "id": "5kAAaWASn3-z"
      }
    },
    {
      "cell_type": "markdown",
      "source": [
        "#### 🔍 Solution to Q4 (Hidden - Expand to see the answer)\n",
        "\n",
        "<details>\n",
        "<summary>Click here to see the solution after you've tried exploring the functions</summary>\n",
        "The key to understanding this result lies in remembering how Morgan fingerprints work: they encode not just an atom or a bond, but its entire local chemical environment.\n",
        "\n",
        "**The Environment is Everything**\n",
        "The C=O group in caffeine is not seen by the algorithm as just an isolated carbonyl. Instead, the fingerprint bit that is generated represents the C=O group plus the atoms it's connected to within a specific radius.\n",
        "\n",
        "Let's compare the environments:\n",
        "\n",
        "**Caffeine's C=O**: This carbonyl is part of a unique, electron-deficient, nitrogen-rich, fused purine ring system. The influential bit likely represents a fragment like N-C(=O)-N within that specific ring structure.\n",
        "\n",
        "**Aspirin's C=O**: One is part of an ester (O-C(=O)-C) and the other is part of a carboxylic acid (O=C(-O)-C), both attached to a simple benzene ring.\n",
        "\n",
        "**Paracetamol's C=O**: This one is part of an amide group (N-C(=O)-C) attached to a phenol ring.\n",
        "\n",
        "Because the local environments are completely different, the algorithm generates different fragment identifiers for each of these C=O groups. These different identifiers are then hashed to different bits in the 2048-bit vector.\n",
        "\n",
        "**Why C=O and not C-N-C?**\n",
        "You are correct that the heterocyclic C-N-C motifs are unique to caffeine and are the reason for its separation along PC1. The feature importance analysis simply highlighted one of the most information-rich parts of that unique scaffold.\n",
        "\n",
        "Think of it this way:\n",
        "\n",
        "The entire purine scaffold of caffeine is what makes it an outlier.\n",
        "\n",
        "The PCA identifies all the bits that represent fragments of this unique scaffold as important.\n",
        "\n",
        "When we ask for the \"top 5\" most influential bits, it just so happens that **one of the most statistically powerful fragments within that unique scaffold is the carbonyl group in its unique purine environment**. The other influential bits shown are, as you noted, other parts of that same unique heterocyclic system.\n",
        "\n",
        "In short,the analysis is highlighting different pieces of the same unique puzzle. The C=O bit is ranked highly not because it's a simple carbonyl, but because it's a \"caffeine-flavored\" carbonyl, which is a feature no other molecule in the dataset possesses.\n",
        "</details>"
      ],
      "metadata": {
        "id": "CrhJSg2vrnLP"
      }
    },
    {
      "cell_type": "markdown",
      "source": [
        "### Interpretation\n",
        "\n",
        "A close inspection of the PCA plot reveals a clear hierarchy in how the structural variance is captured. Instead of a single, continuous gradient, the principal components have separated the molecules based on their most distinct features.\n",
        "\n",
        "**Principal Component 1 (The X-axis)**: The \"Caffeine Axis\"\n",
        "The first principal component, which explains the largest amount of variance, is overwhelmingly dominated by a single molecule: Caffeine. It is pushed far out to one side, while all other eight molecules are clustered together on the other.\n",
        "\n",
        "This happens because Caffeine is the most structurally unique molecule in our dataset. Its nitrogen-rich, fused heterocyclic purine ring system is fundamentally different from the simple aliphatic alcohols and the single-ring aromatic compounds. PC1 has therefore identified the presence of this specific scaffold as the single biggest source of variation in the entire dataset.\n",
        "\n",
        "**Principal Component 2 (The Y-axis)**: The \"Aromatic vs. Aliphatic Axis\"\n",
        "With Caffeine's profound uniqueness captured by PC1, the second principal component is free to explain the next largest source of variance among the remaining eight molecules. This axis clearly separates the molecules into two fundamental chemical families:\n",
        "\n",
        "On one side of the Y-axis, you'll find the alcohols (Methanol, Ethanol, Propanol).\n",
        "\n",
        "On the other side, you'll find all the molecules that contain a benzene ring (Benzene, Toluene, Phenol, Aspirin, and Paracetamol)."
      ],
      "metadata": {
        "id": "-l4cAmB7XkTb"
      }
    },
    {
      "cell_type": "markdown",
      "source": [
        "**In conclusion**, this is a perfect illustration of how PCA deconstructs chemical space. It first isolated the biggest outlier (Caffeine) along PC1 and then used PC2 to organize the remaining, more closely related molecules based on their most significant shared feature: the presence or absence of an aromatic ring."
      ],
      "metadata": {
        "id": "jO1kHxp1rnPi"
      }
    }
  ]
}