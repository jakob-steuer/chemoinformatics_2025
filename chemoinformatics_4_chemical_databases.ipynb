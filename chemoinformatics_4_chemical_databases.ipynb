{
  "nbformat": 4,
  "nbformat_minor": 0,
  "metadata": {
    "colab": {
      "provenance": [],
      "toc_visible": true,
      "authorship_tag": "ABX9TyNnmvZOhXNCYfuWz0zR2tH8",
      "include_colab_link": true
    },
    "kernelspec": {
      "name": "python3",
      "display_name": "Python 3"
    },
    "language_info": {
      "name": "python"
    }
  },
  "cells": [
    {
      "cell_type": "markdown",
      "metadata": {
        "id": "view-in-github",
        "colab_type": "text"
      },
      "source": [
        "<a href=\"https://colab.research.google.com/github/jakob-steuer/chemoinformatics_2025/blob/main/chemoinformatics_4_chemical_databases.ipynb\" target=\"_parent\"><img src=\"https://colab.research.google.com/assets/colab-badge.svg\" alt=\"Open In Colab\"/></a>"
      ]
    },
    {
      "cell_type": "markdown",
      "source": [
        "Created with Google Gemini v2.5 Pro"
      ],
      "metadata": {
        "id": "pj9UhSAp7KO7"
      }
    },
    {
      "cell_type": "code",
      "source": [
        "pip install rdkit requests pubchempy"
      ],
      "metadata": {
        "colab": {
          "base_uri": "https://localhost:8080/"
        },
        "id": "t-2uOWqv61Zk",
        "outputId": "3679a149-536c-440c-e7e2-a4689be96d14"
      },
      "execution_count": null,
      "outputs": [
        {
          "output_type": "stream",
          "name": "stdout",
          "text": [
            "Collecting rdkit\n",
            "  Downloading rdkit-2025.3.6-cp312-cp312-manylinux_2_28_x86_64.whl.metadata (4.1 kB)\n",
            "Requirement already satisfied: requests in /usr/local/lib/python3.12/dist-packages (2.32.4)\n",
            "Requirement already satisfied: numpy in /usr/local/lib/python3.12/dist-packages (from rdkit) (2.0.2)\n",
            "Requirement already satisfied: Pillow in /usr/local/lib/python3.12/dist-packages (from rdkit) (11.3.0)\n",
            "Requirement already satisfied: charset_normalizer<4,>=2 in /usr/local/lib/python3.12/dist-packages (from requests) (3.4.3)\n",
            "Requirement already satisfied: idna<4,>=2.5 in /usr/local/lib/python3.12/dist-packages (from requests) (3.10)\n",
            "Requirement already satisfied: urllib3<3,>=1.21.1 in /usr/local/lib/python3.12/dist-packages (from requests) (2.5.0)\n",
            "Requirement already satisfied: certifi>=2017.4.17 in /usr/local/lib/python3.12/dist-packages (from requests) (2025.8.3)\n",
            "Downloading rdkit-2025.3.6-cp312-cp312-manylinux_2_28_x86_64.whl (36.1 MB)\n",
            "\u001b[2K   \u001b[90m━━━━━━━━━━━━━━━━━━━━━━━━━━━━━━━━━━━━━━━━\u001b[0m \u001b[32m36.1/36.1 MB\u001b[0m \u001b[31m53.8 MB/s\u001b[0m eta \u001b[36m0:00:00\u001b[0m\n",
            "\u001b[?25hInstalling collected packages: rdkit\n",
            "Successfully installed rdkit-2025.3.6\n"
          ]
        }
      ]
    },
    {
      "cell_type": "markdown",
      "source": [
        "# Databases"
      ],
      "metadata": {
        "id": "88xWxmAkJtb6"
      }
    },
    {
      "cell_type": "markdown",
      "source": [
        "# Comparison of Substructure Search Algorithms"
      ],
      "metadata": {
        "id": "q0vrBmBW65ZK"
      }
    },
    {
      "cell_type": "markdown",
      "source": [
        "## Introduction to Substructure Search Algorithms\n",
        "In chemoinformatics, a common task is to search a database of molecules to find those that contain a specific chemical substructure (a smaller part or fragment). This is a computationally intensive task that relies on solving the subgraph isomorphism problem.\n",
        "\n",
        "**Brute-Force Search:** This is the simplest, but most inefficient, approach. It attempts to find a match by systematically checking every possible mapping of the query molecule's atoms and bonds onto the target molecule. Its complexity grows factorially, making it impractical for all but the smallest molecules.\n",
        "\n",
        "**Backtracking Algorithm** (e.g., VF2): This is a much smarter approach. It builds a mapping between the query and target atoms one step at a time. If at any point it finds a mapping that violates the rules (e.g., an incorrect atom type or a missing bond), it \"backtracks\" to the previous step and tries a different path. This pruning of invalid search paths makes it vastly more efficient than a brute-force search. The RDKit library's default search algorithm is based on this principle."
      ],
      "metadata": {
        "id": "tJvPgAhl7rRd"
      }
    },
    {
      "cell_type": "markdown",
      "source": [
        "## The Molecule Database and Query\n",
        "\n",
        "First, let's define our small database of six molecules and the substructure we want to search for. For our exercise, we will search for a benzene ring."
      ],
      "metadata": {
        "id": "vMtFVibl70SM"
      }
    },
    {
      "cell_type": "code",
      "source": [
        "from rdkit import Chem\n",
        "\n",
        "# Step 1: Define the database and query\n",
        "smiles_database = {\n",
        "    'Ethanol': 'CCO',\n",
        "    'Acetic Acid': 'CC(=O)O',\n",
        "    'Toluene': 'Cc1ccccc1',\n",
        "    'Phenol': 'c1ccc(O)cc1',\n",
        "    'Aniline': 'c1ccc(N)cc1',\n",
        "    'Cyclohexane': 'C1CCCCC1'\n",
        "}\n",
        "\n",
        "query_smiles = 'c1ccccc1' # Benzene ring\n",
        "\n",
        "# Step 2: Create RDKit molecule objects\n",
        "query_mol = Chem.MolFromSmiles(query_smiles)\n",
        "db_mols = {name: Chem.MolFromSmiles(smi) for name, smi in smiles_database.items()}"
      ],
      "metadata": {
        "id": "Un3vwkF183g3"
      },
      "execution_count": 41,
      "outputs": []
    },
    {
      "cell_type": "code",
      "source": [
        "%%time\n",
        "print(\"--- Running Substructure Search ---\")\n",
        "print(f\"Query: Benzene\\n\")\n",
        "\n",
        "# Step 3: Iterate and search the database\n",
        "match_count = 0\n",
        "for name, mol in db_mols.items():\n",
        "    # HasSubstructMatch uses an efficient backtracking algorithm (like VF2)\n",
        "    has_match = mol.HasSubstructMatch(query_mol)\n",
        "    if has_match:\n",
        "        print(f\"✅ Match found in: {name}\")\n",
        "        match_count += 1\n",
        "    else:\n",
        "        print(f\"❌ No match in:   {name}\")\n",
        "\n",
        "print(f\"\\n--- Search Complete. Found {match_count} total matches. ---\")"
      ],
      "metadata": {
        "colab": {
          "base_uri": "https://localhost:8080/"
        },
        "id": "Abr2fhlw8LtG",
        "outputId": "f9d5afaf-6172-4904-8b79-153151ce1c40"
      },
      "execution_count": 42,
      "outputs": [
        {
          "output_type": "stream",
          "name": "stdout",
          "text": [
            "--- Running Substructure Search ---\n",
            "Query: Benzene\n",
            "\n",
            "❌ No match in:   Ethanol\n",
            "❌ No match in:   Acetic Acid\n",
            "✅ Match found in: Toluene\n",
            "✅ Match found in: Phenol\n",
            "✅ Match found in: Aniline\n",
            "❌ No match in:   Cyclohexane\n",
            "\n",
            "--- Search Complete. Found 3 total matches. ---\n",
            "CPU times: user 1.37 ms, sys: 0 ns, total: 1.37 ms\n",
            "Wall time: 1.14 ms\n"
          ]
        }
      ]
    },
    {
      "cell_type": "code",
      "source": [
        "from rdkit import Chem\n",
        "from itertools import permutations\n",
        "\n",
        "def brute_force_search(target_mol, query_mol):\n",
        "    \"\"\"\n",
        "    Performs a brute-force substructure search.\n",
        "\n",
        "    Args:\n",
        "        target_mol: The RDKit molecule to search within.\n",
        "        query_mol: The RDKit query molecule.\n",
        "\n",
        "    Returns:\n",
        "        True if the query is a substructure of the target, False otherwise.\n",
        "    \"\"\"\n",
        "    num_target_atoms = target_mol.GetNumAtoms()\n",
        "    num_query_atoms = query_mol.GetNumAtoms()\n",
        "\n",
        "    if num_query_atoms > num_target_atoms:\n",
        "        return False\n",
        "\n",
        "    # Generate all possible mappings of query atoms to a subset of target atoms\n",
        "    target_atom_indices = range(num_target_atoms)\n",
        "    for mapping in permutations(target_atom_indices, num_query_atoms):\n",
        "        # `mapping` is a tuple where mapping[i] is the index of the target atom\n",
        "        # that corresponds to the i-th query atom.\n",
        "        # Example: mapping = (3, 0, 1, 5, 4, 2)\n",
        "\n",
        "        is_valid_mapping = True\n",
        "        # Check if this mapping preserves the bond structure\n",
        "        for query_bond in query_mol.GetBonds():\n",
        "            q_idx1 = query_bond.GetBeginAtomIdx()\n",
        "            q_idx2 = query_bond.GetEndAtomIdx()\n",
        "\n",
        "            # Find the corresponding atoms in the target molecule based on the current mapping\n",
        "            t_idx1 = mapping[q_idx1]\n",
        "            t_idx2 = mapping[q_idx2]\n",
        "\n",
        "            # Check if a bond exists between these two atoms in the target molecule\n",
        "            if target_mol.GetBondBetweenAtoms(t_idx1, t_idx2) is None:\n",
        "                # If any bond is missing, this mapping is invalid\n",
        "                is_valid_mapping = False\n",
        "                break # Move to the next mapping\n",
        "\n",
        "        # If we checked all bonds and they all exist, we found a match!\n",
        "        if is_valid_mapping:\n",
        "            return True\n",
        "\n",
        "    # If we go through all possible permutations and find no valid mapping\n",
        "    return False"
      ],
      "metadata": {
        "id": "Gu7KVVqe9Ox3"
      },
      "execution_count": 43,
      "outputs": []
    },
    {
      "cell_type": "code",
      "source": [
        "%%time\n",
        "# --- Re-run the search using our brute-force implementation ---\n",
        "\n",
        "print(\"--- Running BRUTE-FORCE Substructure Search ---\")\n",
        "print(f\"Query: Benzene\\n\")\n",
        "\n",
        "match_count = 0\n",
        "for name, mol in db_mols.items():\n",
        "    has_match = brute_force_search(mol, query_mol)\n",
        "    if has_match:\n",
        "        print(f\"✅ Match found in: {name}\")\n",
        "        match_count += 1\n",
        "    else:\n",
        "        print(f\"❌ No match in:   {name}\")\n",
        "\n",
        "print(f\"\\n--- Search Complete. Found {match_count} total matches. ---\")"
      ],
      "metadata": {
        "colab": {
          "base_uri": "https://localhost:8080/"
        },
        "id": "9SgPPX2R8zwa",
        "outputId": "3deae740-ec4e-4738-9f45-4bd12e51bb98"
      },
      "execution_count": 44,
      "outputs": [
        {
          "output_type": "stream",
          "name": "stdout",
          "text": [
            "--- Running BRUTE-FORCE Substructure Search ---\n",
            "Query: Benzene\n",
            "\n",
            "❌ No match in:   Ethanol\n",
            "❌ No match in:   Acetic Acid\n",
            "✅ Match found in: Toluene\n",
            "✅ Match found in: Phenol\n",
            "✅ Match found in: Aniline\n",
            "✅ Match found in: Cyclohexane\n",
            "\n",
            "--- Search Complete. Found 4 total matches. ---\n",
            "CPU times: user 7.76 ms, sys: 0 ns, total: 7.76 ms\n",
            "Wall time: 7.77 ms\n"
          ]
        }
      ]
    },
    {
      "cell_type": "markdown",
      "source": [
        "# Substructure Search with SMARTS"
      ],
      "metadata": {
        "id": "SdlZylCe7q-V"
      }
    },
    {
      "cell_type": "markdown",
      "source": [
        "## Use SMARTS to define a Struture"
      ],
      "metadata": {
        "id": "mVKN3pkR3-es"
      }
    },
    {
      "cell_type": "markdown",
      "source": [
        "We will reuse our example from `Exercise 2 (Molecular Graphs): Subgraph Isomorphism Task`."
      ],
      "metadata": {
        "id": "bw4lTs2PIFlg"
      }
    },
    {
      "cell_type": "markdown",
      "source": [
        "We will perform a subgraph isomorphism test for each molecule in a database and then generate an image highlighting the matches.\n",
        "\n",
        "Query Graph: The phenylsulfonamide substructure.\n",
        "\n",
        "We'll represent this using a SMARTS string: c1ccc(S(=O)(=O)N)cc1."
      ],
      "metadata": {
        "id": "u-D2VlxXIkp3"
      }
    },
    {
      "cell_type": "code",
      "source": [
        "from rdkit import Chem\n",
        "from rdkit.Chem import Draw\n",
        "\n",
        "# The query substructure (phenylsulfonamide) as a SMARTS string\n",
        "query_smarts = \"c1ccc(S(=O)(=O)N)cc1\"\n",
        "\n",
        "# Convert the SMARTS string into a query molecule object\n",
        "query_mol = Chem.MolFromSmarts(query_smarts)\n",
        "query_mol.SetProp(\"_Name\", \"Query: Phenylsulfonamide\")\n",
        "\n",
        "print(\"--- Visualizing the Query Substructure ---\")\n",
        "\n",
        "# Draw the molecule. MolsToGridImage is used here for consistency,\n",
        "# but Draw.MolToImage would also work for a single molecule.\n",
        "img = Draw.MolsToGridImage(\n",
        "    [query_mol],\n",
        "    molsPerRow=1,\n",
        "    subImgSize=(300, 300),\n",
        "    legends=[query_mol.GetProp(\"_Name\")] # Use the property as a legend\n",
        ")\n",
        "\n",
        "# Display the image in Jupyter by making it the last line of the cell\n",
        "img"
      ],
      "metadata": {
        "colab": {
          "base_uri": "https://localhost:8080/",
          "height": 335
        },
        "id": "XNkLfShMILgg",
        "outputId": "0a8cae8e-67d2-4d23-fec9-9391594769b7"
      },
      "execution_count": null,
      "outputs": [
        {
          "output_type": "stream",
          "name": "stdout",
          "text": [
            "--- Visualizing the Query Substructure ---\n"
          ]
        },
        {
          "output_type": "execute_result",
          "data": {
            "image/png": "[encoded data removed]",
            "text/plain": [
              "<IPython.core.display.Image object>"
            ]
          },
          "metadata": {},
          "execution_count": 4
        }
      ]
    },
    {
      "cell_type": "markdown",
      "source": [
        "## Exercise 1\n",
        "\n",
        "As discussed in the lecture, write a more general SMARTS query to find any sulfonamide attached to any 6-membered aromatic ring. Print the resulting molecule and compare it to the structure in the initial query."
      ],
      "metadata": {
        "id": "4-aKxXbBI1A9"
      }
    },
    {
      "cell_type": "code",
      "source": [
        "# --- YOUR CODE ---"
      ],
      "metadata": {
        "id": "1_e0HWR0JOKg"
      },
      "execution_count": null,
      "outputs": []
    },
    {
      "cell_type": "markdown",
      "source": [
        "## Load molecular database\n",
        "\n",
        "We will test the two SMARTS strings on a small molecular database.\n",
        "\n",
        "For this, first download the database file from github."
      ],
      "metadata": {
        "id": "p3yscU4fVCGI"
      }
    },
    {
      "cell_type": "code",
      "source": [
        "# Import database from github\n",
        "!wget https://raw.githubusercontent.com/jakob-steuer/chemoinformatics_2025/refs/heads/main/molecules.smi"
      ],
      "metadata": {
        "colab": {
          "base_uri": "https://localhost:8080/"
        },
        "id": "oPA-NKVTT0xC",
        "outputId": "5a5e9979-bbda-47b0-a103-0446b6507626"
      },
      "execution_count": 12,
      "outputs": [
        {
          "output_type": "stream",
          "name": "stdout",
          "text": [
            "--2025-09-30 06:29:30--  https://raw.githubusercontent.com/jakob-steuer/chemoinformatics_2025/refs/heads/main/molecules.smi\n",
            "Resolving raw.githubusercontent.com (raw.githubusercontent.com)... 185.199.110.133, 185.199.108.133, 185.199.111.133, ...\n",
            "Connecting to raw.githubusercontent.com (raw.githubusercontent.com)|185.199.110.133|:443... connected.\n",
            "HTTP request sent, awaiting response... 200 OK\n",
            "Length: 168 [text/plain]\n",
            "Saving to: ‘molecules.smi.1’\n",
            "\n",
            "molecules.smi.1     100%[===================>]     168  --.-KB/s    in 0s      \n",
            "\n",
            "2025-09-30 06:29:30 (8.40 MB/s) - ‘molecules.smi.1’ saved [168/168]\n",
            "\n"
          ]
        }
      ]
    },
    {
      "cell_type": "markdown",
      "source": [
        "## Exercise 2\n",
        "\n",
        "Inspect the content of the database file you just downloaded.\n",
        "\n",
        "There are many ways of how to do this!"
      ],
      "metadata": {
        "id": "1cSXAdICVxzM"
      }
    },
    {
      "cell_type": "code",
      "source": [
        "# Open the smiles database\n",
        "input_filename = \"molecules.smi\"\n",
        "molecule_database = {}\n",
        "mols = []\n",
        "legends = []\n",
        "\n",
        "# Open the file in read mode ('r')\n",
        "with open(input_filename, 'r') as f:\n",
        "    for line in f:\n",
        "        if not line.strip():\n",
        "            continue\n",
        "\n",
        "        # Split the line into SMILES and name, add to database\n",
        "        smiles, name = line.strip().split(maxsplit=1)\n",
        "        molecule_database[name] = smiles\n",
        "\n",
        "        # Create RDKit molecule object and add it to our list\n",
        "        mol = Chem.MolFromSmiles(smiles)\n",
        "        if mol:\n",
        "            mols.append(mol)\n",
        "            legends.append(name)\n",
        "\n",
        "print(\"Successfully loaded molecules into dictionary:\")\n",
        "print(molecule_database)"
      ],
      "metadata": {
        "colab": {
          "base_uri": "https://localhost:8080/"
        },
        "id": "kCFFSAXcKJkX",
        "outputId": "6134b026-283e-4b2d-b403-413474dfa5b5"
      },
      "execution_count": 18,
      "outputs": [
        {
          "output_type": "stream",
          "name": "stdout",
          "text": [
            "Successfully loaded molecules into dictionary:\n",
            "{'MOL_001': 'c1ccc(S(=O)(=O)N)cc1', 'MOL_002': 'Cc1ccc(S(=O)(=O)N)cc1', 'MOL_003': 'Clc1cc(S(=O)(=O)N)ccc1Cl', 'MOL_004': 'n1cccc(S(=O)(=O)N)c1', 'MOL_005': 'c1cncc(S(=O)(=O)N)c1', 'MOL_006': 'c1ccccc1N'}\n"
          ]
        }
      ]
    },
    {
      "cell_type": "code",
      "source": [
        "# Visualize the molecules in the database\n",
        "img = Draw.MolsToGridImage(mols, molsPerRow=3, subImgSize=(300, 300), legends=legends)\n",
        "img"
      ],
      "metadata": {
        "colab": {
          "base_uri": "https://localhost:8080/",
          "height": 617
        },
        "id": "9okJRqOAUSNR",
        "outputId": "6947d121-ccbf-42c6-8418-994c20ad1837"
      },
      "execution_count": 20,
      "outputs": [
        {
          "output_type": "execute_result",
          "data": {
            "image/png": "[encoded data removed]",
            "text/plain": [
              "<IPython.core.display.Image object>"
            ]
          },
          "metadata": {},
          "execution_count": 20
        }
      ]
    },
    {
      "cell_type": "markdown",
      "source": [
        "## Exercise 3\n",
        "\n",
        "Test both queries on the database.\n",
        "\n",
        "- What do you expect will be the difference?"
      ],
      "metadata": {
        "id": "yitHAj4eJVAc"
      }
    },
    {
      "cell_type": "code",
      "source": [
        "print(f\"Searching for the phenylsulfonamide substructure...\\n\")\n",
        "\n",
        "# Perform the Isomorphism Test\n",
        "matching_molecules = []\n",
        "matching_indices = []\n",
        "molecule_names = []\n",
        "\n",
        "for name, smiles in molecule_database.items():\n",
        "    mol = Chem.MolFromSmiles(smiles)\n",
        "    if mol.HasSubstructMatch(query_mol):\n",
        "        print(f\"✔️ Match found in: {name}\")\n",
        "        match_idx = mol.GetSubstructMatch(query_mol)\n",
        "        matching_molecules.append(mol)\n",
        "        matching_indices.append(match_idx)\n",
        "        molecule_names.append(name)\n",
        "    else:\n",
        "        print(f\"❌ No match in: {name}\")\n",
        "\n",
        "# Create the Image Object\n",
        "if matching_molecules:\n",
        "    img = Draw.MolsToGridImage(\n",
        "        matching_molecules,\n",
        "        molsPerRow=2,\n",
        "        subImgSize=(300, 300),\n",
        "        legends=molecule_names,\n",
        "        highlightAtomLists=matching_indices\n",
        "    )\n",
        "\n",
        "img"
      ],
      "metadata": {
        "colab": {
          "base_uri": "https://localhost:8080/",
          "height": 1000
        },
        "id": "QkNpxnyWJjQN",
        "outputId": "82e14b21-71f3-4ef6-da9a-eede4270ef44"
      },
      "execution_count": 14,
      "outputs": [
        {
          "output_type": "stream",
          "name": "stdout",
          "text": [
            "Searching for the phenylsulfonamide substructure...\n",
            "\n",
            "✔️ Match found in: MOL_001\n",
            "✔️ Match found in: MOL_002\n",
            "✔️ Match found in: MOL_003\n",
            "✔️ Match found in: MOL_004\n",
            "✔️ Match found in: MOL_005\n",
            "❌ No match in: MOL_006\n"
          ]
        },
        {
          "output_type": "execute_result",
          "data": {
            "image/png": "[encoded data removed]",
            "text/plain": [
              "<IPython.core.display.Image object>"
            ]
          },
          "metadata": {},
          "execution_count": 14
        }
      ]
    },
    {
      "cell_type": "markdown",
      "source": [
        "# Explore the PubChem Database with PubChemPy"
      ],
      "metadata": {
        "id": "TAmvxQpwrJjM"
      }
    },
    {
      "cell_type": "code",
      "source": [
        "import pubchempy as pcp\n",
        "from pubchempy import get_compounds\n",
        "from pubchempy import Compound"
      ],
      "metadata": {
        "id": "23WpC7OfrpYX"
      },
      "execution_count": 35,
      "outputs": []
    },
    {
      "cell_type": "markdown",
      "source": [
        "## Exercise 4\n",
        "\n",
        "We will use the PubChemPy package to retrieve information from the PubChem database.\n",
        "\n",
        "The PubChemPy documentation is a great resource to solve the following tasks: https://docs.pubchempy.org/en/latest/\n"
      ],
      "metadata": {
        "id": "SktXor8EseoE"
      }
    },
    {
      "cell_type": "markdown",
      "source": [
        "### **Task 1:**\n",
        "Search for ibuprofen compound by name"
      ],
      "metadata": {
        "id": "3lM1mzFAr8SE"
      }
    },
    {
      "cell_type": "code",
      "source": [
        "# --- YOUR CODE GOES HERE ---"
      ],
      "metadata": {
        "id": "0fIu8136rchL"
      },
      "execution_count": 26,
      "outputs": []
    },
    {
      "cell_type": "markdown",
      "source": [
        "#### 🔍 Solution (Hidden - Expand to see the answer)\n",
        "\n",
        "<details>\n",
        "<summary>Click here to see the solution after you've tried exploring the functions</summary>\n",
        "\n",
        "```\n",
        "for compound in get_compounds('ibuprofen', 'name'):\n",
        "    print(compound.cid)\n",
        "    print(compound.isomeric_smiles)  \n",
        "```\n",
        "\n",
        "Instead of name, you could also use, smiles, sdf, inchi, inchikey or formula.\n",
        "</details>"
      ],
      "metadata": {
        "id": "1iKehRB3tFKO"
      }
    },
    {
      "cell_type": "markdown",
      "source": [
        "### **Task 2:**\n",
        "Retrieve the calculated properties molecular_formula, molecular_weight, and xlogP for the compound"
      ],
      "metadata": {
        "id": "rcdTFyoPsN1p"
      }
    },
    {
      "cell_type": "code",
      "source": [
        "# --- YOUR CODE GOES HERE ---"
      ],
      "metadata": {
        "id": "K27-JlKEsOBS"
      },
      "execution_count": 28,
      "outputs": []
    },
    {
      "cell_type": "markdown",
      "source": [
        "#### 🔍 Solution (Hidden - Expand to see the answer)\n",
        "\n",
        "<details>\n",
        "<summary>Click here to see the solution after you've tried exploring the functions</summary>\n",
        "\n",
        "```\n",
        "compound = Compound.from_cid(3672)\n",
        "print(compound.molecular_formula)\n",
        "print(compound.molecular_weight)\n",
        "print(compound.xlogp)\n",
        "```\n",
        "\n",
        "</details>"
      ],
      "metadata": {
        "id": "1E4jA07qtY3g"
      }
    },
    {
      "cell_type": "markdown",
      "source": [
        "### **Task 3:**\n",
        "Search for similar structures to L-Alanine (`C[C@@H](C(=O)O)N`)"
      ],
      "metadata": {
        "id": "J--Wl_g2sOK_"
      }
    },
    {
      "cell_type": "code",
      "source": [
        "# --- YOUR CODE GOES HERE ---"
      ],
      "metadata": {
        "id": "J9NtLdcMsOUg"
      },
      "execution_count": 30,
      "outputs": []
    },
    {
      "cell_type": "markdown",
      "source": [
        "#### 🔍 Solution (Hidden - Expand to see the answer)\n",
        "\n",
        "<details>\n",
        "<summary>Click here to see the solution after you've tried exploring the functions</summary>\n",
        "\n",
        "```\n",
        "pcp.get_compounds('C[C@@H](C(=O)O)N', 'smiles', searchtype='superstructure', listkey_count=3)\n",
        "```\n",
        "\n",
        "</details>"
      ],
      "metadata": {
        "id": "jZghejxXyMaf"
      }
    },
    {
      "cell_type": "markdown",
      "source": [
        "### **Task 4:**\n",
        "Get 3D record for Aspirin"
      ],
      "metadata": {
        "id": "wVZpUzw1sOe9"
      }
    },
    {
      "cell_type": "code",
      "source": [
        "# --- YOUR CODE GOES HERE ---"
      ],
      "metadata": {
        "id": "8ToDHZPZsOnx"
      },
      "execution_count": 32,
      "outputs": []
    },
    {
      "cell_type": "markdown",
      "source": [
        "#### 🔍 Solution (Hidden - Expand to see the answer)\n",
        "\n",
        "<details>\n",
        "<summary>Click here to see the solution after you've tried exploring the functions</summary>\n",
        "\n",
        "```\n",
        "pcp.get_compounds('Aspirin', 'name', record_type='3d')\n",
        "```\n",
        "\n",
        "</details>"
      ],
      "metadata": {
        "id": "PSzugov3yNyP"
      }
    },
    {
      "cell_type": "markdown",
      "source": [
        "### **Task 5:**\n",
        "Get the conformational energy of Aspirin using it’s 3D conformation"
      ],
      "metadata": {
        "id": "dZF3gaqKsOwm"
      }
    },
    {
      "cell_type": "code",
      "source": [
        "# --- YOUR CODE GOES HERE ---"
      ],
      "metadata": {
        "id": "6dF-UOm9sO5f"
      },
      "execution_count": 34,
      "outputs": []
    },
    {
      "cell_type": "markdown",
      "source": [
        "#### 🔍 Solution (Hidden - Expand to see the answer)\n",
        "\n",
        "<details>\n",
        "<summary>Click here to see the solution after you've tried exploring the functions</summary>\n",
        "\n",
        "```\n",
        "pcp.get_compounds('Aspirin', 'name', record_type='3d')[0].mmff94_energy_3d\n",
        "```\n",
        "\n",
        "You can retrieve properties such as volume_3d, multipoles_3d, conformer_rmsd_3d, effective_rotor_count_3d, pharmacophore_features_3d, mmff94_partial_charges_3d, mmff94_energy_3d, conformer_id_3d, shape_selfoverlap_3d, feature_selfoverlap_3d, shape_fingerprint_3d\n",
        "\n",
        "</details>"
      ],
      "metadata": {
        "id": "rjmwicZeyPG5"
      }
    },
    {
      "cell_type": "markdown",
      "source": [
        "### **Task 6:**\n",
        "Download and display PNG and CSV file for Aspirin"
      ],
      "metadata": {
        "id": "OUnm8do4sPDy"
      }
    },
    {
      "cell_type": "code",
      "source": [
        "# --- YOUR CODE GOES HERE ---"
      ],
      "metadata": {
        "id": "iFyBRkSxsPL5"
      },
      "execution_count": 34,
      "outputs": []
    },
    {
      "cell_type": "markdown",
      "source": [
        "#### 🔍 Solution (Hidden - Expand to see the answer)\n",
        "\n",
        "<details>\n",
        "<summary>Click here to see the solution after you've tried exploring the functions</summary>\n",
        "\n",
        "```\n",
        "pcp.download('PNG', 'asp.png', 'Aspirin', 'name')\n",
        "pcp.download('CSV', 'asp.csv', [5090], operation='property/CanonicalSMILES,IsomericSMILES')\n",
        "```\n",
        "\n",
        "Format options: XML, ASNT/B, JSON, SDF, CSV, PNG, TXT\n",
        "\n",
        "</details>"
      ],
      "metadata": {
        "id": "sZ_CKw4eyQM4"
      }
    },
    {
      "cell_type": "markdown",
      "source": [
        "# Exploring Chemical Databases with APIs\n",
        "\n",
        "In our lecture, we discussed how chemical databases like PubChem store information on millions of molecules. But how do we access this data from a script? We could download massive files, but a more efficient way is to use an Application Programming Interface, or API."
      ],
      "metadata": {
        "id": "AniD2buj7Vsq"
      }
    },
    {
      "cell_type": "markdown",
      "source": [
        "## API\n",
        "\n",
        "The Restaurant Analogy\n",
        "\n",
        "    Think of an API as a waiter in a restaurant.\n",
        "\n",
        "    You (the client) want to get data from a web service (the kitchen).\n",
        "\n",
        "    You don't go into the kitchen yourself. Instead, you give your order to the waiter (the API) using a structured format (the menu).\n",
        "\n",
        "    The waiter takes your request to the kitchen, which prepares your order.\n",
        "\n",
        "    The waiter then brings the data (the food) back to you.\n",
        "\n",
        "For web-based databases, these requests are often made by constructing a special URL. This is known as a REST API."
      ],
      "metadata": {
        "id": "9GZBYEtQISAW"
      }
    },
    {
      "cell_type": "markdown",
      "source": [
        "## REST API\n",
        "\n",
        "A REST API is a standardized way for computer systems to communicate with each other over the internet. REST stands for Representational State Transfer, and an API is an Application Programming Interface.\n",
        "\n",
        "**How It Works: URLs as Requests**\n",
        "\n",
        "A REST API works by constructing a specific URL to ask for data. This URL contains all the information the server needs to fulfill the request.\n",
        "\n",
        "For example, to get the SMILES string for ethanol from PubChem, you would construct a URL like this:\n",
        "https://pubchem.ncbi.nlm.nih.gov/rest/pug/compound/smiles/CCO/cids/txt\n",
        "\n",
        "This URL is composed of several parts:\n",
        "\n",
        "    Endpoint: https://pubchem.ncbi.nlm.nih.gov/rest/pug/ - The base address of the API.\n",
        "\n",
        "    Path: /compound/smiles/CCO/cids - Specifies exactly what you want (the CID for the compound with the SMILES string \"CCO\").\n",
        "\n",
        "    Output Format: /txt - Tells the server to return the data as plain text.\n",
        "\n",
        "When you send this request (e.g., in a web browser or a Python script), the PubChem server sends back the requested data. This structured, URL-based approach is what makes REST APIs so powerful and easy to use for programmatic data access."
      ],
      "metadata": {
        "id": "yn2d6sLaIEih"
      }
    },
    {
      "cell_type": "markdown",
      "source": [
        "Today, we'll use the PubChem PUG-REST API to fetch data directly into our notebook."
      ],
      "metadata": {
        "id": "DwbYwG2iI-ou"
      }
    },
    {
      "cell_type": "markdown",
      "source": [
        "## PUG-REST API\n",
        "A more detailed introduction to the PUG-Rest API can be found here:\n",
        "\n",
        "https://pubchem.ncbi.nlm.nih.gov//docs/pug-rest-tutorial#section=How-PUG-REST-Works"
      ],
      "metadata": {
        "id": "6Vz6C3mtHzdK"
      }
    },
    {
      "cell_type": "code",
      "source": [
        "# Import necessary libraries\n",
        "import requests\n",
        "from rdkit import Chem\n",
        "from rdkit.Chem import Draw\n",
        "from IPython.display import display\n",
        "import time\n",
        "import json"
      ],
      "metadata": {
        "id": "Ok79aDHe7W03"
      },
      "execution_count": null,
      "outputs": []
    },
    {
      "cell_type": "markdown",
      "source": [
        "## Identity Search: Fetching a Molecule by Name\n",
        "\n",
        "The simplest query is a text search. Let's ask PubChem for the structure of \"Aspirin\" and some of its properties.\n",
        "\n",
        "The API request is built into the URL. We'll ask for the molecule's SMILES string and its molecular weight."
      ],
      "metadata": {
        "id": "_aUlwXCR7-uJ"
      }
    },
    {
      "cell_type": "code",
      "source": [
        "# The base URL for PubChem's API\n",
        "base_url = \"https://pubchem.ncbi.nlm.nih.gov/rest/pug\"\n",
        "\n",
        "# Let's search for Aspirin by its name\n",
        "compound_name = \"Aspirin\"\n",
        "\n",
        "# First, get the SMILES string\n",
        "smiles_url = f\"{base_url}/compound/name/{compound_name}/property/CanonicalSMILES/txt\"\n",
        "smiles_response = requests.get(smiles_url)\n",
        "aspirin_smiles = smiles_response.text.strip()\n",
        "\n",
        "# Second, get the Molecular Weight\n",
        "mw_url = f\"{base_url}/compound/name/{compound_name}/property/MolecularWeight/txt\"\n",
        "mw_response = requests.get(mw_url)\n",
        "aspirin_mw = mw_response.text.strip()"
      ],
      "metadata": {
        "id": "oaYb3wnyJIl8"
      },
      "execution_count": null,
      "outputs": []
    },
    {
      "cell_type": "code",
      "source": [
        "print(f\"--- Processed Data ---\")\n",
        "print(f\"Name: {compound_name}\")\n",
        "print(f\"SMILES: {aspirin_smiles}\")\n",
        "print(f\"Molecular Weight: {aspirin_mw} g/mol\")\n",
        "\n",
        "# Now, let's visualize the structure using RDKit\n",
        "aspirin_mol = Chem.MolFromSmiles(aspirin_smiles)\n",
        "display(aspirin_mol)"
      ],
      "metadata": {
        "id": "nWVoVimZ7fy3"
      },
      "execution_count": null,
      "outputs": []
    },
    {
      "cell_type": "markdown",
      "source": [
        "### Exercise 5\n",
        "\n",
        "Investigate what happens when you copy-paste the SMILES or Molecular Weight  URLs in a Browser"
      ],
      "metadata": {
        "id": "ZHpA4jZXJQ_G"
      }
    },
    {
      "cell_type": "markdown",
      "source": [
        "### Exercise 6\n",
        "\n",
        "Extract the InChI, the InChIKey and two additional propertes of your choice (see the `Compound Property Tables` here: https://pubchem.ncbi.nlm.nih.gov/docs/pug-rest) from the PubChem API."
      ],
      "metadata": {
        "id": "j7n-qU1ZJpv9"
      }
    },
    {
      "cell_type": "markdown",
      "source": [
        "## Substructure Search: Finding Molecules with a Specific Fragment\n",
        "\n",
        "A more powerful query is a substructure search (SSS).\n",
        "\n",
        "Let's find molecules in PubChem that contain the **coumarin** scaffold. It's a bicyclic structure that's the basis for many natural products and pharmaceuticals (like the anticoagulant Warfarin).\n",
        "\n",
        "This is a two-step process:\n",
        "\n",
        "- Send a request with the substructure (as a SMILES string). PubChem will start the search and give us a \"ListKey\" that acts as a ticket to our results.\n",
        "\n",
        "- Use that ListKey to retrieve the actual compound IDs (CIDs) of the molecules that matched."
      ],
      "metadata": {
        "id": "It34psFR8JAj"
      }
    },
    {
      "cell_type": "code",
      "source": [
        "# Step 1: Initiate the substructure search to get a ListKey\n",
        "\n",
        "substructure_smiles = \"C1=CC=C2C(=C1)C=CC(=O)O2\"\n",
        "base_url = \"https://pubchem.ncbi.nlm.nih.gov/rest/pug\"\n",
        "search_url = f\"{base_url}/compound/substructure/smiles/{substructure_smiles}/JSON\"\n",
        "\n",
        "print(\"Sending search request to PubChem...\")\n",
        "\n",
        "try:\n",
        "    # Initiate the search\n",
        "    response = requests.post(search_url)\n",
        "    response.raise_for_status()\n",
        "    initial_data = response.json()\n",
        "\n",
        "    if 'Waiting' not in initial_data:\n",
        "        print(\"Error: Could not initiate search.\")\n",
        "        print(\"Server response:\", initial_data)\n",
        "    else:\n",
        "        listkey = initial_data['Waiting']['ListKey']\n",
        "        print(f\"Search successfully initiated. Received ListKey: {listkey}\")\n",
        "\n",
        "        # Step 2: Poll the server until the results are ready\n",
        "        retrieve_url = f\"{base_url}/compound/listkey/{listkey}/cids/JSON\"\n",
        "        print(\"Polling server for results... (this may take a moment)\")\n",
        "\n",
        "        status = \"Waiting\"\n",
        "        while status == \"Waiting\":\n",
        "            # Wait for a couple of seconds between checks\n",
        "            time.sleep(2)\n",
        "\n",
        "            results_response = requests.get(retrieve_url)\n",
        "            results_response.raise_for_status()\n",
        "            results_data = results_response.json()\n",
        "\n",
        "            # Check if the 'Waiting' key is still present in the response\n",
        "            if 'Waiting' in results_data:\n",
        "                print(\"...search is still running.\")\n",
        "            else:\n",
        "                status = \"Ready\" # Exit the loop\n",
        "\n",
        "        # Once the loop exits, the results are ready to be processed\n",
        "        print(\"\\n--- Search Complete! ---\")\n",
        "\n",
        "        if 'IdentifierList' in results_data:\n",
        "            compound_ids = results_data['IdentifierList']['CID']\n",
        "            print(f\"Found {len(compound_ids)} molecules containing the catechol fragment.\")\n",
        "            print(f\"Here are the first 10 Compound IDs (CIDs):\")\n",
        "            print(compound_ids[:10])\n",
        "        else:\n",
        "            print(\"Search finished, but no identifiers were found.\")\n",
        "            print(\"Server response:\", results_data)\n",
        "\n",
        "except requests.exceptions.RequestException as e:\n",
        "    print(f\"An error occurred: {e}\")\n",
        "except KeyError as e:\n",
        "    print(f\"A key was not found in the response: {e}\")"
      ],
      "metadata": {
        "id": "f5eCdqzULK0W"
      },
      "execution_count": null,
      "outputs": []
    },
    {
      "cell_type": "markdown",
      "source": [
        "## Similarity Search: Finding Structurally Similar Molecules\n",
        "\n",
        "Finally, let's perform a similarity search. We will find molecules that are structurally similar to Dopamine. This search relies on comparing molecular fingerprints.\n",
        "\n",
        "The process is very similar to a substructure search."
      ],
      "metadata": {
        "id": "eUcA6DjA8SCj"
      }
    },
    {
      "cell_type": "code",
      "source": [
        "from rdkit.Chem import Draw\n",
        "\n",
        "# Define our base URL and query molecule\n",
        "base_url = \"https://pubchem.ncbi.nlm.nih.gov/rest/pug\"\n",
        "dopamine_smiles = \"C1=CC(=C(C=C1CCN)O)O\"\n",
        "dopamine_cid = 681 # Known CID for Dopamine\n",
        "\n",
        "print(\"--- Step 1: Initiating Asynchronous Similarity Search ---\")\n",
        "\n",
        "# --- CORRECTED PART ---\n",
        "# The SMILES and Threshold must be part of the URL itself for the POST request.\n",
        "search_url = f\"{base_url}/compound/similarity/smiles/{dopamine_smiles}/JSON?Threshold=95\"\n",
        "print(f\"Using search URL: {search_url}\")\n",
        "\n",
        "try:\n",
        "    # Initiate the search via POST to the constructed URL. The POST body is empty.\n",
        "    response = requests.post(search_url)\n",
        "    response.raise_for_status()\n",
        "    initial_data = response.json()\n",
        "\n",
        "    if 'Waiting' not in initial_data:\n",
        "        print(\"Error: Could not initiate search.\")\n",
        "        print(\"Server response:\", initial_data)\n",
        "        listkey = None\n",
        "    else:\n",
        "        listkey = initial_data['Waiting']['ListKey']\n",
        "        print(f\"Search successfully initiated. Received ListKey: {listkey}\")\n",
        "\n",
        "    if listkey:\n",
        "        # --- Step 2: Poll Server for Results ---\n",
        "        retrieve_url = f\"{base_url}/compound/listkey/{listkey}/cids/JSON\"\n",
        "        print(\"Polling server for results... (this may take a moment)\")\n",
        "\n",
        "        status = \"Waiting\"\n",
        "        while status == \"Waiting\":\n",
        "            time.sleep(2) # Wait between checks\n",
        "\n",
        "            results_response = requests.get(retrieve_url)\n",
        "            results_response.raise_for_status()\n",
        "            results_data = results_response.json()\n",
        "\n",
        "            if 'Waiting' in results_data:\n",
        "                print(\"...search is still running.\")\n",
        "            else:\n",
        "                status = \"Ready\"\n",
        "\n",
        "        print(\"\\n--- Search Complete! ---\")\n",
        "\n",
        "        # --- Step 3: Retrieve and Visualize Top Hits ---\n",
        "        if 'IdentifierList' in results_data:\n",
        "            # Get the top 5 similar compound IDs\n",
        "            similar_cids = results_data['IdentifierList']['CID'][:5]\n",
        "            print(f\"Found top 5 similar CIDs: {similar_cids}\")\n",
        "\n",
        "            # Prepare CIDs for property fetching (Query + Hits)\n",
        "            all_cids_to_draw = [str(dopamine_cid)] + [str(cid) for cid in similar_cids]\n",
        "            cids_str = \",\".join(all_cids_to_draw)\n",
        "\n",
        "            # Fetch SMILES for all molecules in a single request\n",
        "            properties_url = f\"{base_url}/compound/cid/{cids_str}/property/CanonicalSMILES/JSON\"\n",
        "            prop_res = requests.get(properties_url)\n",
        "            prop_data = prop_res.json()['PropertyTable']['Properties']\n",
        "\n",
        "            # Create a dictionary of {CID: SMILES}\n",
        "            cid_smiles_map = {item['CID']: item['CanonicalSMILES'] for item in prop_data}\n",
        "\n",
        "            # Prepare data for RDKit, ensuring Dopamine is first\n",
        "            mols_to_draw = [Chem.MolFromSmiles(cid_smiles_map[cid]) for cid in [dopamine_cid] + similar_cids]\n",
        "            legends = [f\"Dopamine (Query)\"] + [f\"CID: {cid}\" for cid in similar_cids]\n",
        "\n",
        "            # Generate and save the image\n",
        "            img = Draw.MolsToGridImage(mols_to_draw, molsPerRow=3, subImgSize=(300, 300), legends=legends)\n",
        "            img.save('similarity_hits.png')\n",
        "            print(\"\\nImage 'similarity_hits.png' has been generated successfully.\")\n",
        "\n",
        "        else:\n",
        "            print(\"Search finished, but no identifiers were found.\")\n",
        "\n",
        "except requests.exceptions.RequestException as e:\n",
        "    print(f\"An error occurred: {e}\")\n",
        "except KeyError as e:\n",
        "    print(f\"A key was not found in the response: {e}\")"
      ],
      "metadata": {
        "id": "HnSfJk7n8Tsv"
      },
      "execution_count": null,
      "outputs": []
    },
    {
      "cell_type": "markdown",
      "source": [
        "### Exercise 7\n",
        "\n",
        "Modify the code in the last section to perform a similarity search for Paracetamol (also known as Acetaminophen).\n",
        "\n",
        "Find the SMILES string for Paracetamol.\n",
        "\n",
        "Use it to perform a similarity search with a Tanimoto threshold of 90 (Threshold=90).\n",
        "\n",
        "Retrieve and visualize the top 5 most similar molecules from PubChem."
      ],
      "metadata": {
        "id": "oVhe5vFG8Zhj"
      }
    },
    {
      "cell_type": "markdown",
      "source": [
        "# Traveling Salesman Algoritm\n",
        "\n",
        "This section is based on this resource: https://www.w3schools.com/dsa/dsa_ref_traveling_salesman.php"
      ],
      "metadata": {
        "id": "IHEQITm862yB"
      }
    },
    {
      "cell_type": "code",
      "execution_count": null,
      "metadata": {
        "id": "YKvemaZiJpur"
      },
      "outputs": [],
      "source": [
        "from itertools import permutations"
      ]
    },
    {
      "cell_type": "markdown",
      "source": [
        "## Brute Force Algorithm\n",
        "\n",
        "To find the optimal solution to The Traveling Salesman Problem, we will check all possible routes, and every time we find a shorter route, we will store it, so that in the end we will have the shortest route.\n",
        "\n",
        "Good: Finds the overall shortest route.\n",
        "\n",
        "Bad: Requires an awful lot of calculation, especially for a large amount of cities, which means it is very time consuming."
      ],
      "metadata": {
        "id": "9R6OxtppJs7D"
      }
    },
    {
      "cell_type": "code",
      "source": [
        "def calculate_distance(route, distances):\n",
        "    total_distance = 0\n",
        "    for i in range(len(route) - 1):\n",
        "        total_distance += distances[route[i]][route[i + 1]]\n",
        "    total_distance += distances[route[-1]][route[0]]\n",
        "    return total_distance\n",
        "\n",
        "def brute_force_tsp(distances):\n",
        "    n = len(distances)\n",
        "    cities = list(range(1, n))\n",
        "    shortest_route = None\n",
        "    min_distance = float('inf')\n",
        "\n",
        "    for perm in permutations(cities):\n",
        "        current_route = [0] + list(perm)\n",
        "        current_distance = calculate_distance(current_route, distances)\n",
        "\n",
        "        if current_distance < min_distance:\n",
        "            min_distance = current_distance\n",
        "            shortest_route = current_route\n",
        "\n",
        "    shortest_route.append(0)\n",
        "    return shortest_route, min_distance\n",
        "\n",
        "distances = [\n",
        "    [0, 2, 2, 5, 9, 3],\n",
        "    [2, 0, 4, 6, 7, 8],\n",
        "    [2, 4, 0, 8, 6, 3],\n",
        "    [5, 6, 8, 0, 4, 9],\n",
        "    [9, 7, 6, 4, 0, 10],\n",
        "    [3, 8, 3, 9, 10, 0]\n",
        "]\n",
        "\n",
        "distances"
      ],
      "metadata": {
        "id": "gne4iauPJtI-"
      },
      "execution_count": null,
      "outputs": []
    },
    {
      "cell_type": "code",
      "source": [
        "route, total_distance = brute_force_tsp(distances)\n",
        "print(\"Route:\", route)\n",
        "print(\"Total distance:\", total_distance)"
      ],
      "metadata": {
        "id": "IdqdfZHlKPU_"
      },
      "execution_count": null,
      "outputs": []
    },
    {
      "cell_type": "markdown",
      "source": [
        "## Greedy Algorithm\n",
        "\n",
        "Using A Greedy Algorithm to Solve The Traveling Salesman Problem\n",
        "Since checking every possible route to solve the Traveling Salesman Problem (like we did above) is so incredibly time consuming, we can instead find a short route by just going to the nearest unvisited city in each step, which is much faster.\n",
        "\n",
        "Good: Finds a solution to the Traveling Salesman Problem much faster than by checking all routes.\n",
        "\n",
        "Bad: Does not find the overall shortest route, it just finds a route that is much shorter than an average random route."
      ],
      "metadata": {
        "id": "Kh7AFYi8KwtJ"
      }
    },
    {
      "cell_type": "code",
      "source": [
        "def nearest_neighbor_tsp(distances):\n",
        "    n = len(distances)\n",
        "    visited = [False] * n\n",
        "    route = [0]\n",
        "    visited[0] = True\n",
        "    total_distance = 0\n",
        "\n",
        "    for _ in range(1, n):\n",
        "        last = route[-1]\n",
        "        nearest = None\n",
        "        min_dist = float('inf')\n",
        "        for i in range(n):\n",
        "            if not visited[i] and distances[last][i] < min_dist:\n",
        "                min_dist = distances[last][i]\n",
        "                nearest = i\n",
        "        route.append(nearest)\n",
        "        visited[nearest] = True\n",
        "        total_distance += min_dist\n",
        "\n",
        "    total_distance += distances[route[-1]][0]\n",
        "    route.append(0)\n",
        "    return route, total_distance\n",
        "\n",
        "distances = [\n",
        "    [0, 2, 2, 5, 9, 3],\n",
        "    [2, 0, 4, 6, 7, 8],\n",
        "    [2, 4, 0, 8, 6, 3],\n",
        "    [5, 6, 8, 0, 4, 9],\n",
        "    [9, 7, 6, 4, 0, 10],\n",
        "    [3, 8, 3, 9, 10, 0]\n",
        "]"
      ],
      "metadata": {
        "id": "mgetWAUjKbjG"
      },
      "execution_count": null,
      "outputs": []
    },
    {
      "cell_type": "code",
      "source": [
        "route, total_distance = nearest_neighbor_tsp(distances)\n",
        "print(\"Route:\", route)\n",
        "print(\"Total distance:\", total_distance)"
      ],
      "metadata": {
        "id": "KrxS1Fx4K2b1",
        "colab": {
          "base_uri": "https://localhost:8080/",
          "height": 180
        },
        "outputId": "e372fee1-0ef3-4d3e-cb67-33e3572f3ce0"
      },
      "execution_count": null,
      "outputs": [
        {
          "output_type": "error",
          "ename": "NameError",
          "evalue": "name 'nearest_neighbor_tsp' is not defined",
          "traceback": [
            "\u001b[0;31m---------------------------------------------------------------------------\u001b[0m",
            "\u001b[0;31mNameError\u001b[0m                                 Traceback (most recent call last)",
            "\u001b[0;32m/tmp/ipython-input-2945146739.py\u001b[0m in \u001b[0;36m<cell line: 0>\u001b[0;34m()\u001b[0m\n\u001b[0;32m----> 1\u001b[0;31m \u001b[0mroute\u001b[0m\u001b[0;34m,\u001b[0m \u001b[0mtotal_distance\u001b[0m \u001b[0;34m=\u001b[0m \u001b[0mnearest_neighbor_tsp\u001b[0m\u001b[0;34m(\u001b[0m\u001b[0mdistances\u001b[0m\u001b[0;34m)\u001b[0m\u001b[0;34m\u001b[0m\u001b[0;34m\u001b[0m\u001b[0m\n\u001b[0m\u001b[1;32m      2\u001b[0m \u001b[0mprint\u001b[0m\u001b[0;34m(\u001b[0m\u001b[0;34m\"Route:\"\u001b[0m\u001b[0;34m,\u001b[0m \u001b[0mroute\u001b[0m\u001b[0;34m)\u001b[0m\u001b[0;34m\u001b[0m\u001b[0;34m\u001b[0m\u001b[0m\n\u001b[1;32m      3\u001b[0m \u001b[0mprint\u001b[0m\u001b[0;34m(\u001b[0m\u001b[0;34m\"Total distance:\"\u001b[0m\u001b[0;34m,\u001b[0m \u001b[0mtotal_distance\u001b[0m\u001b[0;34m)\u001b[0m\u001b[0;34m\u001b[0m\u001b[0;34m\u001b[0m\u001b[0m\n",
            "\u001b[0;31mNameError\u001b[0m: name 'nearest_neighbor_tsp' is not defined"
          ]
        }
      ]
    },
    {
      "cell_type": "markdown",
      "source": [
        "## Actual Traveling Salesman Problems Are More Complex\n",
        "\n",
        "The edge weight in a graph in this context of The Traveling Salesman Problem tells us how hard it is to go from one point to another, and it is the total edge weight of a route we want to minimize.\n",
        "\n",
        "So far on this page, the edge weight has been the distance in a straight line between two points. And that makes it much easier to explain the Traveling Salesman Problem, and to display it.\n",
        "\n",
        "But in the real world there are many other things that affects the edge weight:\n",
        "\n",
        "- Obstacles: When moving from one place to another, we normally try to avoid obstacles like trees, rivers, houses for example. This means it is longer and takes more time to go from A to B, and the edge weight value needs to be increased to factor that in, because it is not a straight line anymore.\n",
        "- Transportation Networks: We usually follow a road or use public transport systems when traveling, and that also affects how hard it is to go (or send a package) from one place to another.\n",
        "- Traffic Conditions: Travel congestion also affects the travel time, so that should also be reflected in the edge weight value.\n",
        "- Legal and Political Boundaries: Crossing border for example, might make one route harder to choose than another, which means the shortest straight line route might be slower, or more costly.\n",
        "- Economic Factors: Using fuel, using the time of employees, maintaining vehicles, all these things cost money and should also be factored into the edge weights."
      ],
      "metadata": {
        "id": "kjgCbwQJ30It"
      }
    },
    {
      "cell_type": "code",
      "source": [],
      "metadata": {
        "id": "PoM37w7o30r1"
      },
      "execution_count": null,
      "outputs": []
    }
  ]
}