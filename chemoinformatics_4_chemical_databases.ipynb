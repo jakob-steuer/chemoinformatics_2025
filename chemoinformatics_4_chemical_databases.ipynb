{
  "nbformat": 4,
  "nbformat_minor": 0,
  "metadata": {
    "colab": {
      "provenance": [],
      "authorship_tag": "ABX9TyO4AGONZwCSF4KyUpJpvHZB",
      "include_colab_link": true
    },
    "kernelspec": {
      "name": "python3",
      "display_name": "Python 3"
    },
    "language_info": {
      "name": "python"
    }
  },
  "cells": [
    {
      "cell_type": "markdown",
      "metadata": {
        "id": "view-in-github",
        "colab_type": "text"
      },
      "source": [
        "<a href=\"https://colab.research.google.com/github/jakob-steuer/chemoinformatics_2025/blob/main/chemoinformatics_4_chemical_databases.ipynb\" target=\"_parent\"><img src=\"https://colab.research.google.com/assets/colab-badge.svg\" alt=\"Open In Colab\"/></a>"
      ]
    },
    {
      "cell_type": "markdown",
      "source": [
        "Created with Google Gemini v2.5 Pro"
      ],
      "metadata": {
        "id": "pj9UhSAp7KO7"
      }
    },
    {
      "cell_type": "code",
      "source": [
        "pip install rdkit requests"
      ],
      "metadata": {
        "id": "t-2uOWqv61Zk"
      },
      "execution_count": null,
      "outputs": []
    },
    {
      "cell_type": "markdown",
      "source": [
        "# Databases"
      ],
      "metadata": {
        "id": "88xWxmAkJtb6"
      }
    },
    {
      "cell_type": "markdown",
      "source": [
        "# Traveling Salesman Algoritm\n",
        "\n",
        "This section is based on this resource: https://www.w3schools.com/dsa/dsa_ref_traveling_salesman.php"
      ],
      "metadata": {
        "id": "IHEQITm862yB"
      }
    },
    {
      "cell_type": "code",
      "execution_count": null,
      "metadata": {
        "id": "YKvemaZiJpur"
      },
      "outputs": [],
      "source": [
        "from itertools import permutations"
      ]
    },
    {
      "cell_type": "markdown",
      "source": [
        "## Brute Force Algorithm\n",
        "\n",
        "To find the optimal solution to The Traveling Salesman Problem, we will check all possible routes, and every time we find a shorter route, we will store it, so that in the end we will have the shortest route.\n",
        "\n",
        "Good: Finds the overall shortest route.\n",
        "\n",
        "Bad: Requires an awful lot of calculation, especially for a large amount of cities, which means it is very time consuming."
      ],
      "metadata": {
        "id": "9R6OxtppJs7D"
      }
    },
    {
      "cell_type": "code",
      "source": [
        "def calculate_distance(route, distances):\n",
        "    total_distance = 0\n",
        "    for i in range(len(route) - 1):\n",
        "        total_distance += distances[route[i]][route[i + 1]]\n",
        "    total_distance += distances[route[-1]][route[0]]\n",
        "    return total_distance\n",
        "\n",
        "def brute_force_tsp(distances):\n",
        "    n = len(distances)\n",
        "    cities = list(range(1, n))\n",
        "    shortest_route = None\n",
        "    min_distance = float('inf')\n",
        "\n",
        "    for perm in permutations(cities):\n",
        "        current_route = [0] + list(perm)\n",
        "        current_distance = calculate_distance(current_route, distances)\n",
        "\n",
        "        if current_distance < min_distance:\n",
        "            min_distance = current_distance\n",
        "            shortest_route = current_route\n",
        "\n",
        "    shortest_route.append(0)\n",
        "    return shortest_route, min_distance\n",
        "\n",
        "distances = [\n",
        "    [0, 2, 2, 5, 9, 3],\n",
        "    [2, 0, 4, 6, 7, 8],\n",
        "    [2, 4, 0, 8, 6, 3],\n",
        "    [5, 6, 8, 0, 4, 9],\n",
        "    [9, 7, 6, 4, 0, 10],\n",
        "    [3, 8, 3, 9, 10, 0]\n",
        "]\n",
        "\n",
        "distances"
      ],
      "metadata": {
        "id": "gne4iauPJtI-"
      },
      "execution_count": null,
      "outputs": []
    },
    {
      "cell_type": "code",
      "source": [
        "route, total_distance = brute_force_tsp(distances)\n",
        "print(\"Route:\", route)\n",
        "print(\"Total distance:\", total_distance)"
      ],
      "metadata": {
        "id": "IdqdfZHlKPU_"
      },
      "execution_count": null,
      "outputs": []
    },
    {
      "cell_type": "markdown",
      "source": [
        "## Greedy Algorithm\n",
        "\n",
        "Using A Greedy Algorithm to Solve The Traveling Salesman Problem\n",
        "Since checking every possible route to solve the Traveling Salesman Problem (like we did above) is so incredibly time consuming, we can instead find a short route by just going to the nearest unvisited city in each step, which is much faster.\n",
        "\n",
        "Good: Finds a solution to the Traveling Salesman Problem much faster than by checking all routes.\n",
        "\n",
        "Bad: Does not find the overall shortest route, it just finds a route that is much shorter than an average random route."
      ],
      "metadata": {
        "id": "Kh7AFYi8KwtJ"
      }
    },
    {
      "cell_type": "code",
      "source": [
        "def nearest_neighbor_tsp(distances):\n",
        "    n = len(distances)\n",
        "    visited = [False] * n\n",
        "    route = [0]\n",
        "    visited[0] = True\n",
        "    total_distance = 0\n",
        "\n",
        "    for _ in range(1, n):\n",
        "        last = route[-1]\n",
        "        nearest = None\n",
        "        min_dist = float('inf')\n",
        "        for i in range(n):\n",
        "            if not visited[i] and distances[last][i] < min_dist:\n",
        "                min_dist = distances[last][i]\n",
        "                nearest = i\n",
        "        route.append(nearest)\n",
        "        visited[nearest] = True\n",
        "        total_distance += min_dist\n",
        "\n",
        "    total_distance += distances[route[-1]][0]\n",
        "    route.append(0)\n",
        "    return route, total_distance\n",
        "\n",
        "distances = [\n",
        "    [0, 2, 2, 5, 9, 3],\n",
        "    [2, 0, 4, 6, 7, 8],\n",
        "    [2, 4, 0, 8, 6, 3],\n",
        "    [5, 6, 8, 0, 4, 9],\n",
        "    [9, 7, 6, 4, 0, 10],\n",
        "    [3, 8, 3, 9, 10, 0]\n",
        "]"
      ],
      "metadata": {
        "id": "mgetWAUjKbjG"
      },
      "execution_count": null,
      "outputs": []
    },
    {
      "cell_type": "code",
      "source": [
        "route, total_distance = nearest_neighbor_tsp(distances)\n",
        "print(\"Route:\", route)\n",
        "print(\"Total distance:\", total_distance)"
      ],
      "metadata": {
        "id": "KrxS1Fx4K2b1"
      },
      "execution_count": null,
      "outputs": []
    },
    {
      "cell_type": "markdown",
      "source": [
        "## Actual Traveling Salesman Problems Are More Complex\n",
        "\n",
        "The edge weight in a graph in this context of The Traveling Salesman Problem tells us how hard it is to go from one point to another, and it is the total edge weight of a route we want to minimize.\n",
        "\n",
        "So far on this page, the edge weight has been the distance in a straight line between two points. And that makes it much easier to explain the Traveling Salesman Problem, and to display it.\n",
        "\n",
        "But in the real world there are many other things that affects the edge weight:\n",
        "\n",
        "- Obstacles: When moving from one place to another, we normally try to avoid obstacles like trees, rivers, houses for example. This means it is longer and takes more time to go from A to B, and the edge weight value needs to be increased to factor that in, because it is not a straight line anymore.\n",
        "- Transportation Networks: We usually follow a road or use public transport systems when traveling, and that also affects how hard it is to go (or send a package) from one place to another.\n",
        "- Traffic Conditions: Travel congestion also affects the travel time, so that should also be reflected in the edge weight value.\n",
        "- Legal and Political Boundaries: Crossing border for example, might make one route harder to choose than another, which means the shortest straight line route might be slower, or more costly.\n",
        "- Economic Factors: Using fuel, using the time of employees, maintaining vehicles, all these things cost money and should also be factored into the edge weights."
      ],
      "metadata": {
        "id": "SdlZylCe7q-V"
      }
    },
    {
      "cell_type": "markdown",
      "source": [
        "# Exploring Chemical Databases with APIs\n",
        "\n",
        "In our lecture, we discussed how chemical databases like PubChem store information on millions of molecules. But how do we access this data from a script? We could download massive files, but a more efficient way is to use an Application Programming Interface, or API."
      ],
      "metadata": {
        "id": "AniD2buj7Vsq"
      }
    },
    {
      "cell_type": "markdown",
      "source": [
        "## API\n",
        "\n",
        "The Restaurant Analogy\n",
        "\n",
        "    Think of an API as a waiter in a restaurant.\n",
        "\n",
        "    You (the client) want to get data from a web service (the kitchen).\n",
        "\n",
        "    You don't go into the kitchen yourself. Instead, you give your order to the waiter (the API) using a structured format (the menu).\n",
        "\n",
        "    The waiter takes your request to the kitchen, which prepares your order.\n",
        "\n",
        "    The waiter then brings the data (the food) back to you.\n",
        "\n",
        "For web-based databases, these requests are often made by constructing a special URL. This is known as a REST API."
      ],
      "metadata": {
        "id": "9GZBYEtQISAW"
      }
    },
    {
      "cell_type": "markdown",
      "source": [
        "## REST API\n",
        "\n",
        "A REST API is a standardized way for computer systems to communicate with each other over the internet. REST stands for Representational State Transfer, and an API is an Application Programming Interface.\n",
        "\n",
        "**How It Works: URLs as Requests**\n",
        "\n",
        "A REST API works by constructing a specific URL to ask for data. This URL contains all the information the server needs to fulfill the request.\n",
        "\n",
        "For example, to get the SMILES string for ethanol from PubChem, you would construct a URL like this:\n",
        "https://pubchem.ncbi.nlm.nih.gov/rest/pug/compound/smiles/CCO/cids/txt\n",
        "\n",
        "This URL is composed of several parts:\n",
        "\n",
        "    Endpoint: https://pubchem.ncbi.nlm.nih.gov/rest/pug/ - The base address of the API.\n",
        "\n",
        "    Path: /compound/smiles/CCO/cids - Specifies exactly what you want (the CID for the compound with the SMILES string \"CCO\").\n",
        "\n",
        "    Output Format: /txt - Tells the server to return the data as plain text.\n",
        "\n",
        "When you send this request (e.g., in a web browser or a Python script), the PubChem server sends back the requested data. This structured, URL-based approach is what makes REST APIs so powerful and easy to use for programmatic data access."
      ],
      "metadata": {
        "id": "yn2d6sLaIEih"
      }
    },
    {
      "cell_type": "markdown",
      "source": [
        "Today, we'll use the PubChem PUG-REST API to fetch data directly into our notebook."
      ],
      "metadata": {
        "id": "DwbYwG2iI-ou"
      }
    },
    {
      "cell_type": "markdown",
      "source": [
        "## PUG-REST API\n",
        "A more detailed introduction to the PUG-Rest API can be found here:\n",
        "\n",
        "https://pubchem.ncbi.nlm.nih.gov//docs/pug-rest-tutorial#section=How-PUG-REST-Works"
      ],
      "metadata": {
        "id": "6Vz6C3mtHzdK"
      }
    },
    {
      "cell_type": "code",
      "source": [
        "# Import necessary libraries\n",
        "import requests\n",
        "from rdkit import Chem\n",
        "from rdkit.Chem import Draw\n",
        "from IPython.display import display\n",
        "import time\n",
        "import json"
      ],
      "metadata": {
        "id": "Ok79aDHe7W03"
      },
      "execution_count": null,
      "outputs": []
    },
    {
      "cell_type": "markdown",
      "source": [
        "## Identity Search: Fetching a Molecule by Name\n",
        "\n",
        "The simplest query is a text search. Let's ask PubChem for the structure of \"Aspirin\" and some of its properties.\n",
        "\n",
        "The API request is built into the URL. We'll ask for the molecule's SMILES string and its molecular weight."
      ],
      "metadata": {
        "id": "_aUlwXCR7-uJ"
      }
    },
    {
      "cell_type": "code",
      "source": [
        "# The base URL for PubChem's API\n",
        "base_url = \"https://pubchem.ncbi.nlm.nih.gov/rest/pug\"\n",
        "\n",
        "# Let's search for Aspirin by its name\n",
        "compound_name = \"Aspirin\"\n",
        "\n",
        "# First, get the SMILES string\n",
        "smiles_url = f\"{base_url}/compound/name/{compound_name}/property/CanonicalSMILES/txt\"\n",
        "smiles_response = requests.get(smiles_url)\n",
        "aspirin_smiles = smiles_response.text.strip()\n",
        "\n",
        "# Second, get the Molecular Weight\n",
        "mw_url = f\"{base_url}/compound/name/{compound_name}/property/MolecularWeight/txt\"\n",
        "mw_response = requests.get(mw_url)\n",
        "aspirin_mw = mw_response.text.strip()"
      ],
      "metadata": {
        "id": "oaYb3wnyJIl8"
      },
      "execution_count": null,
      "outputs": []
    },
    {
      "cell_type": "code",
      "source": [
        "print(f\"--- Processed Data ---\")\n",
        "print(f\"Name: {compound_name}\")\n",
        "print(f\"SMILES: {aspirin_smiles}\")\n",
        "print(f\"Molecular Weight: {aspirin_mw} g/mol\")\n",
        "\n",
        "# Now, let's visualize the structure using RDKit\n",
        "aspirin_mol = Chem.MolFromSmiles(aspirin_smiles)\n",
        "display(aspirin_mol)"
      ],
      "metadata": {
        "id": "nWVoVimZ7fy3"
      },
      "execution_count": null,
      "outputs": []
    },
    {
      "cell_type": "markdown",
      "source": [
        "### Exercise 1:\n",
        "\n",
        "Investigate what happens when you copy-paste the SMILES or Molecular Weight  URLs in a Browser"
      ],
      "metadata": {
        "id": "ZHpA4jZXJQ_G"
      }
    },
    {
      "cell_type": "markdown",
      "source": [
        "### Exercise 2:\n",
        "\n",
        "Extract the InChI, the InChIKey and an additional property of your choice (see the `Compound Property Tables` here: https://pubchem.ncbi.nlm.nih.gov/docs/pug-rest) from the PubChem API."
      ],
      "metadata": {
        "id": "j7n-qU1ZJpv9"
      }
    },
    {
      "cell_type": "markdown",
      "source": [
        "## Substructure Search: Finding Molecules with a Specific Fragment\n",
        "\n",
        "A more powerful query is a substructure search (SSS).\n",
        "\n",
        "Let's find molecules in PubChem that contain the **coumarin** scaffold. It's a bicyclic structure that's the basis for many natural products and pharmaceuticals (like the anticoagulant Warfarin).\n",
        "\n",
        "This is a two-step process:\n",
        "\n",
        "- Send a request with the substructure (as a SMILES string). PubChem will start the search and give us a \"ListKey\" that acts as a ticket to our results.\n",
        "\n",
        "- Use that ListKey to retrieve the actual compound IDs (CIDs) of the molecules that matched."
      ],
      "metadata": {
        "id": "It34psFR8JAj"
      }
    },
    {
      "cell_type": "code",
      "source": [
        "# Step 1: Initiate the substructure search to get a ListKey\n",
        "\n",
        "substructure_smiles = \"C1=CC=C2C(=C1)C=CC(=O)O2\"\n",
        "base_url = \"https://pubchem.ncbi.nlm.nih.gov/rest/pug\"\n",
        "search_url = f\"{base_url}/compound/substructure/smiles/{substructure_smiles}/JSON\"\n",
        "\n",
        "print(\"Sending search request to PubChem...\")\n",
        "\n",
        "try:\n",
        "    # Initiate the search\n",
        "    response = requests.post(search_url)\n",
        "    response.raise_for_status()\n",
        "    initial_data = response.json()\n",
        "\n",
        "    if 'Waiting' not in initial_data:\n",
        "        print(\"Error: Could not initiate search.\")\n",
        "        print(\"Server response:\", initial_data)\n",
        "    else:\n",
        "        listkey = initial_data['Waiting']['ListKey']\n",
        "        print(f\"Search successfully initiated. Received ListKey: {listkey}\")\n",
        "\n",
        "        # Step 2: Poll the server until the results are ready\n",
        "        retrieve_url = f\"{base_url}/compound/listkey/{listkey}/cids/JSON\"\n",
        "        print(\"Polling server for results... (this may take a moment)\")\n",
        "\n",
        "        status = \"Waiting\"\n",
        "        while status == \"Waiting\":\n",
        "            # Wait for a couple of seconds between checks\n",
        "            time.sleep(2)\n",
        "\n",
        "            results_response = requests.get(retrieve_url)\n",
        "            results_response.raise_for_status()\n",
        "            results_data = results_response.json()\n",
        "\n",
        "            # Check if the 'Waiting' key is still present in the response\n",
        "            if 'Waiting' in results_data:\n",
        "                print(\"...search is still running.\")\n",
        "            else:\n",
        "                status = \"Ready\" # Exit the loop\n",
        "\n",
        "        # Once the loop exits, the results are ready to be processed\n",
        "        print(\"\\n--- Search Complete! ---\")\n",
        "\n",
        "        if 'IdentifierList' in results_data:\n",
        "            compound_ids = results_data['IdentifierList']['CID']\n",
        "            print(f\"Found {len(compound_ids)} molecules containing the catechol fragment.\")\n",
        "            print(f\"Here are the first 10 Compound IDs (CIDs):\")\n",
        "            print(compound_ids[:10])\n",
        "        else:\n",
        "            print(\"Search finished, but no identifiers were found.\")\n",
        "            print(\"Server response:\", results_data)\n",
        "\n",
        "except requests.exceptions.RequestException as e:\n",
        "    print(f\"An error occurred: {e}\")\n",
        "except KeyError as e:\n",
        "    print(f\"A key was not found in the response: {e}\")"
      ],
      "metadata": {
        "id": "f5eCdqzULK0W"
      },
      "execution_count": null,
      "outputs": []
    },
    {
      "cell_type": "markdown",
      "source": [
        "## Similarity Search: Finding Structurally Similar Molecules\n",
        "\n",
        "Finally, let's perform a similarity search. We will find molecules that are structurally similar to Dopamine. This search relies on comparing molecular fingerprints.\n",
        "\n",
        "The process is very similar to a substructure search."
      ],
      "metadata": {
        "id": "eUcA6DjA8SCj"
      }
    },
    {
      "cell_type": "code",
      "source": [
        "from rdkit.Chem import Draw\n",
        "\n",
        "# Define our base URL and query molecule\n",
        "base_url = \"https://pubchem.ncbi.nlm.nih.gov/rest/pug\"\n",
        "dopamine_smiles = \"C1=CC(=C(C=C1CCN)O)O\"\n",
        "dopamine_cid = 681 # Known CID for Dopamine\n",
        "\n",
        "print(\"--- Step 1: Initiating Asynchronous Similarity Search ---\")\n",
        "\n",
        "# --- CORRECTED PART ---\n",
        "# The SMILES and Threshold must be part of the URL itself for the POST request.\n",
        "search_url = f\"{base_url}/compound/similarity/smiles/{dopamine_smiles}/JSON?Threshold=95\"\n",
        "print(f\"Using search URL: {search_url}\")\n",
        "\n",
        "try:\n",
        "    # Initiate the search via POST to the constructed URL. The POST body is empty.\n",
        "    response = requests.post(search_url)\n",
        "    response.raise_for_status()\n",
        "    initial_data = response.json()\n",
        "\n",
        "    if 'Waiting' not in initial_data:\n",
        "        print(\"Error: Could not initiate search.\")\n",
        "        print(\"Server response:\", initial_data)\n",
        "        listkey = None\n",
        "    else:\n",
        "        listkey = initial_data['Waiting']['ListKey']\n",
        "        print(f\"Search successfully initiated. Received ListKey: {listkey}\")\n",
        "\n",
        "    if listkey:\n",
        "        # --- Step 2: Poll Server for Results ---\n",
        "        retrieve_url = f\"{base_url}/compound/listkey/{listkey}/cids/JSON\"\n",
        "        print(\"Polling server for results... (this may take a moment)\")\n",
        "\n",
        "        status = \"Waiting\"\n",
        "        while status == \"Waiting\":\n",
        "            time.sleep(2) # Wait between checks\n",
        "\n",
        "            results_response = requests.get(retrieve_url)\n",
        "            results_response.raise_for_status()\n",
        "            results_data = results_response.json()\n",
        "\n",
        "            if 'Waiting' in results_data:\n",
        "                print(\"...search is still running.\")\n",
        "            else:\n",
        "                status = \"Ready\"\n",
        "\n",
        "        print(\"\\n--- Search Complete! ---\")\n",
        "\n",
        "        # --- Step 3: Retrieve and Visualize Top Hits ---\n",
        "        if 'IdentifierList' in results_data:\n",
        "            # Get the top 5 similar compound IDs\n",
        "            similar_cids = results_data['IdentifierList']['CID'][:5]\n",
        "            print(f\"Found top 5 similar CIDs: {similar_cids}\")\n",
        "\n",
        "            # Prepare CIDs for property fetching (Query + Hits)\n",
        "            all_cids_to_draw = [str(dopamine_cid)] + [str(cid) for cid in similar_cids]\n",
        "            cids_str = \",\".join(all_cids_to_draw)\n",
        "\n",
        "            # Fetch SMILES for all molecules in a single request\n",
        "            properties_url = f\"{base_url}/compound/cid/{cids_str}/property/CanonicalSMILES/JSON\"\n",
        "            prop_res = requests.get(properties_url)\n",
        "            prop_data = prop_res.json()['PropertyTable']['Properties']\n",
        "\n",
        "            # Create a dictionary of {CID: SMILES}\n",
        "            cid_smiles_map = {item['CID']: item['CanonicalSMILES'] for item in prop_data}\n",
        "\n",
        "            # Prepare data for RDKit, ensuring Dopamine is first\n",
        "            mols_to_draw = [Chem.MolFromSmiles(cid_smiles_map[cid]) for cid in [dopamine_cid] + similar_cids]\n",
        "            legends = [f\"Dopamine (Query)\"] + [f\"CID: {cid}\" for cid in similar_cids]\n",
        "\n",
        "            # Generate and save the image\n",
        "            img = Draw.MolsToGridImage(mols_to_draw, molsPerRow=3, subImgSize=(300, 300), legends=legends)\n",
        "            img.save('similarity_hits.png')\n",
        "            print(\"\\nImage 'similarity_hits.png' has been generated successfully.\")\n",
        "\n",
        "        else:\n",
        "            print(\"Search finished, but no identifiers were found.\")\n",
        "\n",
        "except requests.exceptions.RequestException as e:\n",
        "    print(f\"An error occurred: {e}\")\n",
        "except KeyError as e:\n",
        "    print(f\"A key was not found in the response: {e}\")"
      ],
      "metadata": {
        "id": "HnSfJk7n8Tsv"
      },
      "execution_count": null,
      "outputs": []
    },
    {
      "cell_type": "code",
      "source": [],
      "metadata": {
        "id": "wYgCGskR8WN8"
      },
      "execution_count": null,
      "outputs": []
    },
    {
      "cell_type": "markdown",
      "source": [
        "## Exercise 1\n",
        "\n",
        "Modify the code in the last section to perform a similarity search for Paracetamol (also known as Acetaminophen).\n",
        "\n",
        "Find the SMILES string for Paracetamol.\n",
        "\n",
        "Use it to perform a similarity search with a Tanimoto threshold of 90 (Threshold=90).\n",
        "\n",
        "Retrieve and visualize the top 5 most similar molecules from PubChem."
      ],
      "metadata": {
        "id": "oVhe5vFG8Zhj"
      }
    },
    {
      "cell_type": "code",
      "source": [],
      "metadata": {
        "id": "KZq1gtK98f4_"
      },
      "execution_count": null,
      "outputs": []
    }
  ]
}