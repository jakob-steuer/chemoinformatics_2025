{
  "nbformat": 4,
  "nbformat_minor": 0,
  "metadata": {
    "colab": {
      "provenance": [],
      "toc_visible": true
    },
    "kernelspec": {
      "name": "python3",
      "display_name": "Python 3"
    },
    "language_info": {
      "name": "python"
    }
  },
  "cells": [
    {
      "cell_type": "markdown",
      "source": [
        "Created with Google Gemini v2.5 Pro"
      ],
      "metadata": {
        "id": "j3Uu-mcSzOkY"
      }
    },
    {
      "cell_type": "markdown",
      "source": [
        "# Chemoinformatics: Working with SMILES"
      ],
      "metadata": {
        "id": "w5b6Thg8Dclo"
      }
    },
    {
      "cell_type": "markdown",
      "source": [
        "## Preparation\n",
        "\n",
        "To run this notebook, you'll need to have rdkit installed."
      ],
      "metadata": {
        "id": "zMOBorqh-jK6"
      }
    },
    {
      "cell_type": "code",
      "execution_count": null,
      "metadata": {
        "id": "WCJqRii8-MCD"
      },
      "outputs": [],
      "source": [
        "pip install rdkit networkx matplotlib"
      ]
    },
    {
      "cell_type": "code",
      "source": [
        "# Import necessary libraries\n",
        "from rdkit import Chem\n",
        "from rdkit.Chem import Draw\n",
        "from rdkit.Chem.Draw import IPythonConsole\n",
        "from rdkit.Chem.rdMolDescriptors import CalcMolFormula\n",
        "from IPython.display import display\n",
        "\n",
        "IPythonConsole.drawOptions.addAtomIndices = True # Optional: helps in visualizing atom numbers"
      ],
      "metadata": {
        "id": "b4HHnJEpDl7T"
      },
      "execution_count": null,
      "outputs": []
    },
    {
      "cell_type": "markdown",
      "source": [
        "\n",
        "\n",
        "## 1. Introduction: What is SMILES?\n",
        "\n",
        "In chemoinformatics, we need a way to represent complex molecular structures as simple text. While file formats like .mol exist, they can be very long.\n",
        "\n",
        "SMILES (Simplified Molecular-Input Line-Entry System) is a popular solution that encodes a molecule's 2D graph structure into a single line of text using ASCII characters. This makes it incredibly efficient for storing and searching through large chemical databases."
      ],
      "metadata": {
        "id": "X0SLjHVm-NcE"
      }
    },
    {
      "cell_type": "markdown",
      "source": [
        "## 2. From Molecule to SMILES and Back Again\n",
        "\n",
        "The most basic tasks are converting a known molecule into a SMILES string and, conversely, creating a molecule object from a SMILES string.\n",
        "\n",
        "**Molecule to SMILES**\n",
        "\n",
        "Let's create an RDKit molecule object for Aspirin and then generate its SMILES string.\n",
        "\n"
      ],
      "metadata": {
        "id": "CMdBIgpxDTlx"
      }
    },
    {
      "cell_type": "code",
      "execution_count": null,
      "metadata": {
        "id": "NJJiQnR3CotV"
      },
      "outputs": [],
      "source": [
        "# Aspirin has the chemical formula C9H8O4\n",
        "# We can define it by its canonical SMILES string\n",
        "aspirin_smiles = 'CC(=O)OC1=CC=CC=C1C(=O)O'\n",
        "\n",
        "# Create a molecule object from the SMILES string\n",
        "aspirin_mol = Chem.MolFromSmiles(aspirin_smiles)"
      ]
    },
    {
      "cell_type": "code",
      "source": [
        "# Now, let's generate the SMILES string *from* the molecule object\n",
        "generated_smiles = Chem.MolToSmiles(aspirin_mol)"
      ],
      "metadata": {
        "id": "x5IbCSTbEJqo"
      },
      "execution_count": null,
      "outputs": []
    },
    {
      "cell_type": "code",
      "source": [
        "print(f\"Original SMILES:    {aspirin_smiles}\")\n",
        "print(f\"RDKit-generated SMILES: {generated_smiles}\")"
      ],
      "metadata": {
        "id": "LP6lqrYyEJu3"
      },
      "execution_count": null,
      "outputs": []
    },
    {
      "cell_type": "code",
      "source": [
        "# Visualize the molecule to confirm\n",
        "aspirin_mol"
      ],
      "metadata": {
        "id": "a3v7ABJqENCx"
      },
      "execution_count": null,
      "outputs": []
    },
    {
      "cell_type": "markdown",
      "source": [
        "**SMILES to Molecule (Visualization)**\n",
        "\n",
        "Now let's take a few SMILES strings and visualize the molecules they represent."
      ],
      "metadata": {
        "id": "rn7MnvuhD1LV"
      }
    },
    {
      "cell_type": "code",
      "source": [
        "# A list of molecules represented by their SMILES strings\n",
        "smiles_list = [\n",
        "    'CCO',         # Ethanol\n",
        "    'c1ccccc1',    # Benzene\n",
        "    'C1CCCCC1',    # Cyclohexane\n",
        "    'N[C@@H](C)C(=O)O' # L-Alanine (notice the stereochemistry symbols)\n",
        "]\n",
        "\n",
        "# Convert the SMILES strings to molecule objects\n",
        "mol_list = [Chem.MolFromSmiles(s) for s in smiles_list]\n",
        "\n",
        "# Draw the molecules in a grid\n",
        "Draw.MolsToGridImage(mol_list, molsPerRow=4, legends=['Ethanol', 'Benzene', 'Cyclohexane', 'L-Alanine'])"
      ],
      "metadata": {
        "id": "CzSzIE3ID1Ux"
      },
      "execution_count": null,
      "outputs": []
    },
    {
      "cell_type": "markdown",
      "source": [
        "Notice that aromatic atoms are represented by lowercase letters (like c for benzene)"
      ],
      "metadata": {
        "id": "OYeFNYmlEYuv"
      }
    },
    {
      "cell_type": "markdown",
      "source": [
        "## 3. Understanding SMILES Rules: A Hands-On Guide\n",
        "\n",
        "SMILES has a set of rules for representing different structural features. Let's explore the most important ones.\n",
        "\n",
        "**Bonds**\n",
        "\n",
        "Single bonds are often implied or can be written with a `-`\n",
        "\n",
        "Double bonds use `=`\n",
        "\n",
        "Triple bonds use `#`\n",
        "\n"
      ],
      "metadata": {
        "id": "5IKxSytEEe6N"
      }
    },
    {
      "cell_type": "markdown",
      "source": [
        "### Exercise 1: Bonds\n",
        "\n",
        "Create molecular graphs for etahne, ethen and ethyne using SMILES."
      ],
      "metadata": {
        "id": "j_5Gp6JoAkSD"
      }
    },
    {
      "cell_type": "code",
      "source": [
        "# Ethane (single bond), ethene (double bond) and ethyne (triple bond)\n",
        "ethane_mol = Chem.MolFromSmiles( ) # your code here\n",
        "ethene_mol = Chem.MolFromSmiles( ) # your code here\n",
        "ethyne_mol = Chem.MolFromSmiles( ) # your code here\n",
        "\n",
        "Draw.MolsToGridImage([ethane_mol, ethene_mol, ethyne_mol], legends=['Ethene (C=C)', 'Ethyne (C#C)'])"
      ],
      "metadata": {
        "id": "RDB1QO23EAHW"
      },
      "execution_count": null,
      "outputs": []
    },
    {
      "cell_type": "markdown",
      "source": [
        "#### 🔍 Solution (Hidden - Expand to see the answer)\n",
        "\n",
        "<details>\n",
        "<summary>Click here to see the solution after you've tried exploring the functions</summary>\n",
        "\n",
        "```\n",
        "# Ethane (single bond), ethene (double bond) and ethyne (triple bond)\n",
        "ethane_mol = Chem.MolFromSmiles('C-C') # your code here\n",
        "ethene_mol = Chem.MolFromSmiles('C=C') # your code here\n",
        "ethyne_mol = Chem.MolFromSmiles('C#C') # your code here\n",
        "\n",
        "Draw.MolsToGridImage([ethane_mol, ethene_mol, ethyne_mol], legends=['Ethane (C-C)', 'Ethene (C=C)', 'Ethyne (C#C)'])\n",
        "```\n",
        "\n",
        "</details>"
      ],
      "metadata": {
        "id": "CTSHZXrWAv_v"
      }
    },
    {
      "cell_type": "markdown",
      "source": [
        "**Branches**\n",
        "\n",
        "Branches from the main chain are enclosed in parentheses ().\n",
        "\n"
      ],
      "metadata": {
        "id": "5E4Xg47PGcU4"
      }
    },
    {
      "cell_type": "code",
      "source": [
        "# Isobutane: A propane chain with a methyl branch on the central carbon\n",
        "isobutane_smiles = 'CC(C)C'\n",
        "isobutane_mol = Chem.MolFromSmiles(isobutane_smiles)\n",
        "\n",
        "display(isobutane_mol)\n",
        "\n",
        "print(f\"SMILES for Isobutane: {isobutane_smiles}\")"
      ],
      "metadata": {
        "id": "Cdfc7uSBF5E2"
      },
      "execution_count": null,
      "outputs": []
    },
    {
      "cell_type": "markdown",
      "source": [
        "*Reading the SMILES:*\n",
        "\n",
        "C (atom 0) is connected to C (atom 1), which has a branch (C) (atom 2) and is also connected to another C (atom 3)."
      ],
      "metadata": {
        "id": "Z8w4ThW2GoAS"
      }
    },
    {
      "cell_type": "markdown",
      "source": [
        "**Rings**\n",
        "\n",
        "Rings are handled by \"breaking\" one bond and labeling the two atoms involved with a matching number."
      ],
      "metadata": {
        "id": "LItl67ghGsPS"
      }
    },
    {
      "cell_type": "code",
      "source": [
        "# Cyclohexane: A 6-carbon ring\n",
        "cyclohexane_smiles = 'C1CCCCC1'\n",
        "cyclohexane_mol = Chem.MolFromSmiles(cyclohexane_smiles)\n",
        "\n",
        "display(cyclohexane_mol)\n",
        "\n",
        "print(f\"SMILES for Cyclohexane: {cyclohexane_smiles}\")"
      ],
      "metadata": {
        "id": "0nKhVoTlGktR"
      },
      "execution_count": null,
      "outputs": []
    },
    {
      "cell_type": "markdown",
      "source": [
        "*Reading the SMILES:*\n",
        "\n",
        "The 1 after the first C indicates it's connected to another atom also labeled 1. The parser follows the chain (CCCCC) until it finds the closing 1, forming the ring."
      ],
      "metadata": {
        "id": "gsj2OscMG56C"
      }
    },
    {
      "cell_type": "markdown",
      "source": [
        "## 4. The Problem of Uniqueness: Canonical SMILES\n",
        "\n",
        "A single molecule can be represented by many different valid SMILES strings, depending on which atom you start from and which path you take ."
      ],
      "metadata": {
        "id": "b2febUuZHLIp"
      }
    },
    {
      "cell_type": "code",
      "source": [
        "# Let's represent ethanol in two different ways\n",
        "ethanol_mol_1 = Chem.MolFromSmiles('CCO')\n",
        "ethanol_mol_2 = Chem.MolFromSmiles('OCC')\n",
        "\n",
        "Draw.MolsToGridImage([ethanol_mol_1, ethanol_mol_2], legends=['SMILES CCO', 'SMILES OCC'])"
      ],
      "metadata": {
        "id": "y3mnRUhSGzfs"
      },
      "execution_count": null,
      "outputs": []
    },
    {
      "cell_type": "code",
      "source": [
        "# Generate SMILES from both, but this time ask for the *canonical* version\n",
        "smiles_1 = Chem.MolToSmiles(ethanol_mol_1, canonical=False)\n",
        "smiles_2 = Chem.MolToSmiles(ethanol_mol_2, canonical=False)"
      ],
      "metadata": {
        "id": "PazLBKZJJLVu"
      },
      "execution_count": null,
      "outputs": []
    },
    {
      "cell_type": "code",
      "source": [
        "print(f\"SMILES from 'CCO': {smiles_1}\")\n",
        "print(f\"SMILES from 'OCC': {smiles_2}\")"
      ],
      "metadata": {
        "id": "DsdOL1SJJQie"
      },
      "execution_count": null,
      "outputs": []
    },
    {
      "cell_type": "code",
      "source": [
        "print(f\"Are they the same?\\n {smiles_1 == smiles_2}\")"
      ],
      "metadata": {
        "id": "djgaXTPQJS1q"
      },
      "execution_count": null,
      "outputs": []
    },
    {
      "cell_type": "code",
      "source": [
        "# Generate SMILES from both, but this time ask for the *canonical* version\n",
        "smiles_1 = Chem.MolToSmiles(ethanol_mol_1, canonical=True)\n",
        "smiles_2 = Chem.MolToSmiles(ethanol_mol_2, canonical=True)"
      ],
      "metadata": {
        "id": "wv4uuy9XIfGj"
      },
      "execution_count": null,
      "outputs": []
    },
    {
      "cell_type": "code",
      "source": [
        "print(f\"SMILES from 'CCO': {smiles_1}\")\n",
        "print(f\"SMILES from 'OCC': {smiles_2}\")"
      ],
      "metadata": {
        "id": "f5jax0JaG4lf"
      },
      "execution_count": null,
      "outputs": []
    },
    {
      "cell_type": "code",
      "source": [
        "print(f\"Are they the same?\\n {smiles_1 == smiles_2}\")"
      ],
      "metadata": {
        "id": "AQ1KetfmHYrW"
      },
      "execution_count": null,
      "outputs": []
    },
    {
      "cell_type": "markdown",
      "source": [
        "This is a critical concept.\n",
        "\n",
        "To make database lookups and comparisons reliable, we use a **canonical representation**.\n",
        "\n",
        "Algorithms like the **Morgan algorithm** or **CANGEN** assign a unique, unambiguous order to the atoms based on their properties and connectivity. This ensures that every molecule has **exactly one \"correct\" SMILES string**.\n",
        "\n",
        "\n",
        "**Note:** When you use Chem.MolToSmiles() in RDKit, it generates the canonical SMILES by default."
      ],
      "metadata": {
        "id": "zJVxyr3pHiEW"
      }
    },
    {
      "cell_type": "markdown",
      "source": [
        "# Exercises: Creating SMILES"
      ],
      "metadata": {
        "id": "2fokhhZ7LO4Z"
      }
    },
    {
      "cell_type": "markdown",
      "source": [
        "### Exercise 2\n",
        "\n",
        "Write the SMILES string for Toluene (a benzene ring with a methyl group attached)."
      ],
      "metadata": {
        "id": "icbp5NsuHtRL"
      }
    },
    {
      "cell_type": "markdown",
      "source": [
        "#### 🔍 Solution (Hidden - Expand to see the answer)\n",
        "\n",
        "<details>\n",
        "<summary>Click here to see the solution after you've tried exploring the functions</summary>\n",
        "\n",
        "```\n",
        "# Write the SMILES string for Toluene\n",
        "toluene_smiles = 'c1ccccc1C' # Or Cc1ccccc1\n",
        "```\n",
        "\n",
        "</details>"
      ],
      "metadata": {
        "id": "EOnLDuUeK4fw"
      }
    },
    {
      "cell_type": "markdown",
      "source": [
        "### Exercise 3\n",
        "Generate the molecule from your SMILES string and visualize it to check your answer of Exercise 2."
      ],
      "metadata": {
        "id": "yiu-T_vVKMsU"
      }
    },
    {
      "cell_type": "markdown",
      "source": [
        "#### 🔍 Solution (Hidden - Expand to see the answer)\n",
        "\n",
        "<details>\n",
        "<summary>Click here to see the solution after you've tried exploring the functions</summary>\n",
        "\n",
        "```\n",
        "# Generate and visualize the molecule\n",
        "toluene_mol = Chem.MolFromSmiles(toluene_smiles)\n",
        "\n",
        "display(toluene_mol)\n",
        "\n",
        "print(f\"SMILES for Toluene: {toluene_smiles}\")\n",
        "```\n",
        "\n",
        "</details>"
      ],
      "metadata": {
        "id": "2Qtf-H7-K9y9"
      }
    },
    {
      "cell_type": "markdown",
      "source": [
        "### Exercise 4\n",
        "\n",
        "Write at least two different valid (but non-canonical) SMILES strings for acetic acid (CC(=O)O)."
      ],
      "metadata": {
        "id": "BG_PtKK5KMvF"
      }
    },
    {
      "cell_type": "markdown",
      "source": [
        "#### 🔍 Solution (Hidden - Expand to see the answer)\n",
        "\n",
        "<details>\n",
        "<summary>Click here to see the solution after you've tried exploring the functions</summary>\n",
        "\n",
        "```\n",
        "# Non-canonical SMILES strings for acetic acid\n",
        "non_canonical_1 = 'OCC(=O)'\n",
        "non_canonical_2 = 'C(C)(O)=O'\n",
        "\n",
        "# Let's verify they all produce the same canonical SMILES\n",
        "mol1 = Chem.MolFromSmiles('CC(=O)O')\n",
        "mol2 = Chem.MolFromSmiles(non_canonical_1)\n",
        "mol3 = Chem.MolFromSmiles(non_canonical_2)\n",
        "\n",
        "print(f\"Canonical SMILES of 'CC(=O)O': {Chem.MolToSmiles(mol1)}\")\n",
        "print(f\"Canonical SMILES of '{non_canonical_1}': {Chem.MolToSmiles(mol2)}\")\n",
        "print(f\"Canonical SMILES of '{non_canonical_2}': {Chem.MolToSmiles(mol3)}\")\n",
        "\n",
        "print(\"\\nVisual confirmation of the structures:\")\n",
        "display(Draw.MolsToGridImage([mol1, mol2, mol3], legends=[\"Canonical\", non_canonical_1, non_canonical_2]))\n",
        "```\n",
        "\n",
        "</details>"
      ],
      "metadata": {
        "id": "L8jRtRIoK-8Y"
      }
    },
    {
      "cell_type": "markdown",
      "source": [
        "# Advanced Exercise: Isomers and Canonicalization\n",
        "\n",
        "Molecules that share the same chemical formula but have different structures are called isomers.\n",
        "\n",
        "A tool like *Surge* is a \"chemical graph generator\" designed to create all possible isomers for a given formula.\n",
        "\n",
        "For example, running\n",
        "\n",
        "> surge -S C9H8O4 -oC9H8O4.smi\n",
        "\n",
        "would generate thousands of SMILES strings, each representing a unique isomer.\n",
        "\n",
        "This creates a challenge:\n",
        "\n",
        "**how do we know if two SMILES strings represent the same molecule or different isomers?**\n",
        "\n",
        "This is where canonical SMILES becomes essential."
      ],
      "metadata": {
        "id": "mlBqpv9iJpwo"
      }
    },
    {
      "cell_type": "markdown",
      "source": [
        "### Exercise 5: Aspirin and its Isomers (C₉H₈O₄)\n",
        "\n",
        "Aspirin has the formula C9H8O4. But so do many other molecules. Let's look at a few.\n",
        "\n",
        "**Your Task:**\n",
        "\n",
        "Create RDKit molecule objects from the three SMILES strings below.\n",
        "\n",
        "For each molecule, calculate its molecular formula to confirm they are all isomers.\n",
        "\n",
        "Generate the canonical SMILES for each one. Are they different?\n",
        "\n",
        "Visualize all three in a grid to see their different structures."
      ],
      "metadata": {
        "id": "DAdXI-6LKYb4"
      }
    },
    {
      "cell_type": "code",
      "source": [
        "# SMILES for Aspirin and two of its isomers\n",
        "aspirin_and_isomers_smiles = {\n",
        "    \"Aspirin\": \"CC(=O)OC1=CC=CC=C1C(=O)O\",\n",
        "    \"3-Acetoxybenzoic acid\": \"CC(=O)Oc1cccc(C(=O)O)c1\",\n",
        "    \"Phenylmalonic acid\": \"O=C(O)C(C(=O)O)c1ccccc1\" # Note: Formula is C9H8O4\n",
        "}\n",
        "\n",
        "# 1. Create a list of molecule objects\n",
        "mols = [Chem.MolFromSmiles(s) for s in aspirin_and_isomers_smiles.values()]\n",
        "names = list(aspirin_and_isomers_smiles.keys())\n",
        "\n",
        "# 2. & 3. Loop through, calculate formula, get canonical SMILES, and print\n",
        "print(\"--- Isomers of C9H8O4 ---\")\n",
        "for i, mol in enumerate(mols):\n",
        "    formula = CalcMolFormula(# --- YOUR CODE GOES HERE ---)\n",
        "    canonical_smiles = # --- YOUR CODE GOES HERE ---\n",
        "    print(f\"Name: {names[i]}\")\n",
        "    print(f\"  Formula: {formula}\")\n",
        "    print(f\"  Canonical SMILES: {canonical_smiles}\\n\")\n",
        "\n",
        "# 4. Visualize the isomers\n",
        "print(\"Visual Comparison:\")\n",
        "# --- YOUR CODE GOES HERE ---\n",
        "display(Draw.MolsToGridImage(mols, legends=names))"
      ],
      "metadata": {
        "id": "EhxWzG5mHaQm"
      },
      "execution_count": null,
      "outputs": []
    },
    {
      "cell_type": "markdown",
      "source": [
        "#### 🔍 Solution (Hidden - Expand to see the answer)\n",
        "\n",
        "<details>\n",
        "<summary>Click here to see the solution after you've tried exploring the functions</summary>\n",
        "\n",
        "```\n",
        "# SMILES for Aspirin and two of its isomers\n",
        "aspirin_and_isomers_smiles = {\n",
        "    \"Aspirin\": \"CC(=O)OC1=CC=CC=C1C(=O)O\",\n",
        "    \"3-Acetoxybenzoic acid\": \"CC(=O)Oc1cccc(C(=O)O)c1\",\n",
        "    \"Phenylmalonic acid\": \"O=C(O)C(C(=O)O)c1ccccc1\" # Note: Formula is C9H8O4\n",
        "}\n",
        "\n",
        "# 1. Create a list of molecule objects\n",
        "mols = [Chem.MolFromSmiles(s) for s in aspirin_and_isomers_smiles.values()]\n",
        "names = list(aspirin_and_isomers_smiles.keys())\n",
        "\n",
        "# 2. & 3. Loop through, calculate formula, get canonical SMILES, and print\n",
        "print(\"--- Isomers of C9H8O4 ---\")\n",
        "for i, mol in enumerate(mols):\n",
        "    formula = CalcMolFormula(mol)\n",
        "    canonical_smiles = Chem.MolToSmiles(mol)\n",
        "    print(f\"Name: {names[i]}\")\n",
        "    print(f\"  Formula: {formula}\")\n",
        "    print(f\"  Canonical SMILES: {canonical_smiles}\\n\")\n",
        "\n",
        "# 4. Visualize the isomers\n",
        "print(\"Visual Comparison:\")\n",
        "display(Draw.MolsToGridImage(mols, legends=names))\n",
        "```\n",
        "\n",
        "</details>"
      ],
      "metadata": {
        "id": "8fM11RbwNe36"
      }
    },
    {
      "cell_type": "markdown",
      "source": [
        "**Analysis of the Output:**\n",
        "\n",
        "The code confirms that all three molecules have the formula C9H8O4.\n",
        "\n",
        "However, it prints three different canonical SMILES strings.\n",
        "\n",
        "This proves they are distinct molecules (isomers).\n",
        "\n",
        "The visualization clearly shows their different chemical structures, confirming this conclusion."
      ],
      "metadata": {
        "id": "EpJDAhiAN6Bu"
      }
    },
    {
      "cell_type": "markdown",
      "source": [
        "### Exercise 5: Identifying Isomers of C₈H₁₁NO\n",
        "\n",
        "Now, let's do the reverse. You are given three SMILES strings.\n",
        "\n",
        "Your goal is to determine which of them are actual isomers of the formula C8H11NO.\n",
        "\n",
        "**Your Task:**\n",
        "\n",
        "For each SMILES string, create a molecule and calculate its molecular formula.\n",
        "\n",
        "Identify which of the molecules match the target formula C8H11NO.\n",
        "\n",
        "Create a new list containing only the true isomers and visualize them."
      ],
      "metadata": {
        "id": "6ZJaAYasJvOJ"
      }
    },
    {
      "cell_type": "code",
      "source": [
        "# A list of potential candidates\n",
        "candidate_smiles = {\n",
        "    \"Candidate A\": \"c1ccccc1C(O)CN\",\n",
        "    \"Candidate B\": \"NC1=CC=C(C(C)O)C=C1\",\n",
        "    \"Candidate C\": \"c1ccc(OC)cc1CCN\" # 3-Methoxyphenethylamine\n",
        "}"
      ],
      "metadata": {
        "id": "Ma8JBF-xOUuf"
      },
      "execution_count": null,
      "outputs": []
    },
    {
      "cell_type": "code",
      "source": [
        "# A list of potential candidates\n",
        "candidate_smiles = {\n",
        "    \"Candidate A\": \"c1ccccc1C(O)CN\",\n",
        "    \"Candidate B\": \"NC1=CC=C(C(C)O)C=C1\",\n",
        "    \"Candidate C\": \"c1ccc(OC)cc1CCN\" # 3-Methoxyphenethylamine\n",
        "}\n",
        "target_formula = \"C8H11NO\"\n",
        "\n",
        "true_isomers = []\n",
        "isomer_names = []\n",
        "\n",
        "print(f\"--- Checking for isomers of {target_formula} ---\")\n",
        "for name, smi in candidate_smiles.items():\n",
        "    mol = # --- YOUR CODE GOES HERE ---\n",
        "    formula = # --- YOUR CODE GOES HERE ---\n",
        "\n",
        "    # 2. Check if the formula matches\n",
        "    if formula == # --- YOUR CODE GOES HERE --- :\n",
        "        print(f\"✅ {name} ({formula}) is an isomer.\")\n",
        "        true_isomers.append(# --- YOUR CODE GOES HERE --- )\n",
        "        isomer_names.append(name)\n",
        "    else:\n",
        "        print(f\"❌ {name} ({formula}) is NOT an isomer.\")\n",
        "\n",
        "# 3. Visualize only the true isomers\n",
        "print(\"\\n--- Visualization of True Isomers ---\")\n",
        "if true_isomers:\n",
        "    display(# --- YOUR CODE GOES HERE ---)\n",
        "else:\n",
        "    print(\"No true isomers were found in the list.\")"
      ],
      "metadata": {
        "id": "zoxKdQXgJxMJ"
      },
      "execution_count": null,
      "outputs": []
    },
    {
      "cell_type": "markdown",
      "source": [
        "#### 🔍 Solution (Hidden - Expand to see the answer)\n",
        "\n",
        "<details>\n",
        "<summary>Click here to see the solution after you've tried exploring the functions</summary>\n",
        "\n",
        "```\n",
        "# A list of potential candidates\n",
        "candidate_smiles = {\n",
        "    \"Candidate A\": \"c1ccccc1C(O)CN\",\n",
        "    \"Candidate B\": \"NC1=CC=C(C(C)O)C=C1\",\n",
        "    \"Candidate C\": \"c1ccc(OC)cc1CCN\" # 3-Methoxyphenethylamine\n",
        "}\n",
        "target_formula = \"C8H11NO\"\n",
        "\n",
        "true_isomers = []\n",
        "isomer_names = []\n",
        "\n",
        "print(f\"--- Checking for isomers of {target_formula} ---\")\n",
        "for name, smi in candidate_smiles.items():\n",
        "    mol = Chem.MolFromSmiles(smi)\n",
        "    formula = CalcMolFormula(mol)\n",
        "    \n",
        "    # 2. Check if the formula matches\n",
        "    if formula == target_formula:\n",
        "        print(f\"✅ {name} ({formula}) is an isomer.\")\n",
        "        true_isomers.append(mol)\n",
        "        isomer_names.append(name)\n",
        "    else:\n",
        "        print(f\"❌ {name} ({formula}) is NOT an isomer.\")\n",
        "\n",
        "# 3. Visualize only the true isomers\n",
        "print(\"\\n--- Visualization of True Isomers ---\")\n",
        "if true_isomers:\n",
        "    display(Draw.MolsToGridImage(true_isomers, legends=isomer_names))\n",
        "else:\n",
        "    print(\"No true isomers were found in the list.\")\n",
        "```\n",
        "\n",
        "</details>"
      ],
      "metadata": {
        "id": "aDki2PD4OGze"
      }
    }
  ]
}